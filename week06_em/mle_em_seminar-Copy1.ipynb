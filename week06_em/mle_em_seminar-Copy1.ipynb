{
 "cells": [
  {
   "cell_type": "markdown",
   "metadata": {},
   "source": [
    "**Maximum likelihood estimatation from observed and unobserved data**\n",
    "\n",
    "You are given a bag containing red and blue coins. All the red coins have the same probability of heads. All the blue coins have the same probability of heads (possibly different from that of the red coins).\n",
    "\n",
    "Your task is to estimate the proportion of red coins in the bag and the probability of heads for both the red and the blue coin."
   ]
  },
  {
   "cell_type": "code",
   "execution_count": 73,
   "metadata": {
    "scrolled": true
   },
   "outputs": [
    {
     "data": {
      "application/vnd.jupyter.widget-view+json": {
       "model_id": "4fe60c8f8f3849e58b4587163a2a2949",
       "version_major": 2,
       "version_minor": 0
      },
      "text/plain": [
       "FloatSlider(value=0.0, description='prob_red', max=1.0)"
      ]
     },
     "metadata": {},
     "output_type": "display_data"
    },
    {
     "data": {
      "application/vnd.jupyter.widget-view+json": {
       "model_id": "b634aacb565c4c568f0266eba5057ccc",
       "version_major": 2,
       "version_minor": 0
      },
      "text/plain": [
       "FloatSlider(value=0.0, description='head_red', max=1.0)"
      ]
     },
     "metadata": {},
     "output_type": "display_data"
    },
    {
     "data": {
      "application/vnd.jupyter.widget-view+json": {
       "model_id": "ca398e85ceae4184b4054907d8609c12",
       "version_major": 2,
       "version_minor": 0
      },
      "text/plain": [
       "FloatSlider(value=0.0, description='head_blue', max=1.0)"
      ]
     },
     "metadata": {},
     "output_type": "display_data"
    }
   ],
   "source": [
    "import ipywidgets as widgets\n",
    "prob_red = widgets.FloatSlider(min=0.0, max=1.0, description='prob_red')\n",
    "prob_head_red = widgets.FloatSlider(min=0.0, max=1.0, description='head_red')\n",
    "prob_head_blue = widgets.FloatSlider(min=0.0, max=1.0, description='head_blue')\n",
    "display(prob_red, prob_head_red, prob_head_blue)"
   ]
  },
  {
   "cell_type": "markdown",
   "metadata": {},
   "source": [
    "Use these widgets to control the model."
   ]
  },
  {
   "cell_type": "code",
   "execution_count": 74,
   "metadata": {},
   "outputs": [],
   "source": [
    "import random\n",
    "def choose_coin():\n",
    "    return 'R' if random.random() < prob_red.value else 'B'\n",
    "\n",
    "def flip_coin(coin):\n",
    "    uar = random.random()\n",
    "    if coin == 'R':\n",
    "        if uar < prob_head_red.value:\n",
    "            return 'H'\n",
    "    elif uar < prob_head_blue.value:\n",
    "        return 'H'\n",
    "    return 'T'\n",
    "\n",
    "def flip_random_coin_n_times(n, hidden=False):\n",
    "    coin = choose_coin()\n",
    "    return ('_' if hidden else coin, ''.join([flip_coin(coin) for i in range(n)]))\n",
    "\n",
    "def flip_m_random_coins_n_times(m, n, hidden=False):\n",
    "    return [flip_random_coin_n_times(n, hidden) for i in range(m)]"
   ]
  },
  {
   "cell_type": "markdown",
   "metadata": {},
   "source": [
    "Use the above methods to sample from the model. The optional parameter 'hidden' controls whether the colour of the coin is observed in the samples."
   ]
  },
  {
   "cell_type": "code",
   "execution_count": 75,
   "metadata": {},
   "outputs": [
    {
     "data": {
      "text/plain": [
       "[('B',\n",
       "  'THTHHTTTTTHHHTTTHHTHTHHTHHTHTHHTHTTTHTTHHHHHHTHTTHHHHTTTHTHTTTTTTTHTTHTHTTTHTTHTTTTHHTTTTTTTHTTTHHTT'),\n",
       " ('R',\n",
       "  'HTTTTTTHHTHHHTHHHHHHTHHTTTTTTTTHTHHHHTTHHTHHHTTTTTHHHHHTHHTHTTHHTHHHHHHHHHHHHTTTHTHHHHHTTTHHHTHHTHHH'),\n",
       " ('R',\n",
       "  'HHTTHHTHHHHHHHHHTHHTTHTHHTTTTHHHHTHTHHTHTHTHHHHHTHTTTHHTTHHHHHHHTHHHTHHHHHHHHHHHHHHTTHHHHHHHHTHTHTHH'),\n",
       " ('B',\n",
       "  'TTHTHTTHHHTTTTTTTTTTTTTTHTTTHTTHHTTTTHTHHTTHHHTHHHHTTHTHTHTTTTTHTHHTHTTHHTTTTTTTHTHHTHTTHHTHTHTHTTTH'),\n",
       " ('R',\n",
       "  'THHHTHHHTHHHTHHTHHTHHHHTHHHHHHTHHTHTTHHTHTHTTTHHTTTHHHHHTHHTTTHHHTHHHHTHTTHTHTHHHHHHHTHHHHTHTHHHHHHH')]"
      ]
     },
     "execution_count": 75,
     "metadata": {},
     "output_type": "execute_result"
    }
   ],
   "source": [
    "flip_m_random_coins_n_times(5, 100)"
   ]
  },
  {
   "cell_type": "code",
   "execution_count": 76,
   "metadata": {},
   "outputs": [
    {
     "data": {
      "text/plain": [
       "[('_',\n",
       "  'THTTTTTTHTHTTHTTTTTTTHTTHHTTTTTTHTTTTTTTHTHHTHHHHHTTHHHTTTHHTHTTHHTHHHHTTHTTHHTTTTTTHHHTTTTHHTTHTTTH'),\n",
       " ('_',\n",
       "  'TTHHTTTTHTTHTTTHHTTTHHHHTHTTHTHTTTTTTTTTTTTTHTHHTTTTTTTTHHHTHTTTTTTTTTTTTTHTHTTTHTTTTTTHHHTHTTTHHHHT'),\n",
       " ('_',\n",
       "  'HTTHHHTHHTTTHHTTHTTTTHTTHTTTTHTHTTHHHTTTTTHTHHHHHHTHTHTHTHTTTTHHTHTTTTTTHTTTTTHHTTTHTTTTHTTHHTTHTTHH'),\n",
       " ('_',\n",
       "  'THTHTTTTHTTHHHTHTTTHTTTTTHTTTHTTTHHHHHHTTHTTTHHTTHTTTHTHTTTHTHHHHHTTTHTHHTTHTTHHHTTTHHTTTTHTHHHHHHHT'),\n",
       " ('_',\n",
       "  'HTTHHTHTHHHHHTHTHHHTHHTTHHHHHHHTTTHHHHHTHHTTTTHHHHTHHHHHTHHHHHTTHHHHTHTTTTTTHHTHTHHTHHHHTHHHTHHHHHTT')]"
      ]
     },
     "execution_count": 76,
     "metadata": {},
     "output_type": "execute_result"
    }
   ],
   "source": [
    "flip_m_random_coins_n_times(5, 100, hidden=True)"
   ]
  },
  {
   "cell_type": "markdown",
   "metadata": {},
   "source": [
    "**TASK 1** Implement the following two functions to estimate parameters for the model in the observed case. Splitting the work into two separate functions will simplify things for the next task. \n",
    "\n",
    "* How could you measure the error in your estimates?\n",
    "* How does the error decrease with the sample size?\n",
    "* If you were only allowed to flip coins a total of N times how would you choose m (the number of coins) and n the number of times to flip each coin? Why?"
   ]
  },
  {
   "cell_type": "code",
   "execution_count": 77,
   "metadata": {},
   "outputs": [],
   "source": [
    "samples = flip_m_random_coins_n_times(2, 10)"
   ]
  },
  {
   "cell_type": "code",
   "execution_count": 78,
   "metadata": {},
   "outputs": [
    {
     "data": {
      "text/plain": [
       "[('B', 'HTHTTHTHTT'), ('B', 'THHHHHHHTT')]"
      ]
     },
     "execution_count": 78,
     "metadata": {},
     "output_type": "execute_result"
    }
   ],
   "source": [
    "samples"
   ]
  },
  {
   "cell_type": "code",
   "execution_count": 79,
   "metadata": {},
   "outputs": [],
   "source": [
    "def compute_sufficient_statistics(samples):\n",
    "    total_count = len(samples)\n",
    "    sample_len = len(samples[0][1])\n",
    "    red_count = sum([1 for sample in samples if sample[0] == 'R' ])\n",
    "    blue_count = total_count - red_count\n",
    "    red_head_count = sum([sum([1 for coin in sample[1] if coin == 'H']) for sample in samples if sample[0] == 'R' ])\n",
    "    blue_head_count = sum([sum([1 for coin in sample[1] if coin == 'H']) for sample in samples if sample[0] == 'B' ])\n",
    "    return total_count, red_count, blue_count, red_head_count, blue_head_count, sample_len\n",
    "    \n",
    "def mle(sufficient_statistics):\n",
    "    prob_red = sufficient_statistics[1] / sufficient_statistics[0]\n",
    "    prob_red_head = sufficient_statistics[3] / (sufficient_statistics[-1] * sufficient_statistics[1])\n",
    "    prob_blue_head = sufficient_statistics[4] / (sufficient_statistics[-1] * sufficient_statistics[2])\n",
    "    return prob_red, prob_red_head, prob_blue_head"
   ]
  },
  {
   "cell_type": "code",
   "execution_count": 80,
   "metadata": {},
   "outputs": [
    {
     "data": {
      "text/plain": [
       "(0.395, 0.7003493670886076, 0.40068595041322314)"
      ]
     },
     "execution_count": 80,
     "metadata": {},
     "output_type": "execute_result"
    }
   ],
   "source": [
    "mle(compute_sufficient_statistics(flip_m_random_coins_n_times(1000, 1000)))"
   ]
  },
  {
   "cell_type": "markdown",
   "metadata": {},
   "source": [
    "**TASK 2** Given a sample from a single coin whose colour is unobserved, estimate the posterior probability that the coin is red, given some estimates of the model parameters.\n",
    "\n",
    "* If you pass in the true model parameters (e.g. prob_red.value, prob_head_red.value and prob_head_blue.value), how quickly does the posterior change? Use the plot_distribution function to view this.\n",
    "* How does this depend on the model parameters?"
   ]
  },
  {
   "cell_type": "code",
   "execution_count": 247,
   "metadata": {},
   "outputs": [],
   "source": [
    "def compute_posterior_prob_red(sample, estimate_prob_red, estimate_prob_head_red, estimate_prob_head_blue):\n",
    "    total_count = len(sample[1])\n",
    "    heads_count = sample[1].count('H')\n",
    "    tails_count = total_count - heads_count\n",
    "    joint_red = estimate_prob_red * estimate_prob_head_red**heads_count * (1-estimate_prob_head_red)**tails_count\n",
    "    joint_blue = (1 - estimate_prob_red) * estimate_prob_head_blue**heads_count * (1-estimate_prob_head_blue)**tails_count\n",
    "    return joint_red / (joint_red + joint_blue)"
   ]
  },
  {
   "cell_type": "code",
   "execution_count": 230,
   "metadata": {},
   "outputs": [
    {
     "name": "stdout",
     "output_type": "stream",
     "text": [
      "(0.289, 0.300878892733564, 0.4999690576652602)\n"
     ]
    },
    {
     "data": {
      "text/plain": [
       "1.0"
      ]
     },
     "execution_count": 230,
     "metadata": {},
     "output_type": "execute_result"
    }
   ],
   "source": [
    "sample = flip_random_coin_n_times(1000)\n",
    "statistics = mle(compute_sufficient_statistics(flip_m_random_coins_n_times(1000, 1000)))\n",
    "print(statistics)\n",
    "compute_posterior_prob_red(sample, *statistics)"
   ]
  },
  {
   "cell_type": "markdown",
   "metadata": {},
   "source": [
    "**TASK 3** Reusing your code from Tasks 1 and 2, implement expectation maximization algorithm to find a (locally optimal) solution to the parameters when the colour of the coins is not observed."
   ]
  },
  {
   "cell_type": "code",
   "execution_count": 303,
   "metadata": {},
   "outputs": [],
   "source": [
    "def compute_expected_statistics(samples, estimate_prob_red, estimate_prob_head_red, estimate_prob_head_blue):\n",
    "    total_count = len(samples)\n",
    "    sample_len = len(samples[0][1])\n",
    "    \n",
    "#     red_count = estimate_prob_red * total_count\n",
    "#     blue_count = (1 - estimate_prob_red) * total_count\n",
    "#     red_head_count = estimate_prob_red * sum(sample[1].count('H') for sample in samples)\n",
    "#     blue_head_count = (1 - estimate_prob_red) * sum(sample[1].count('H') for sample in samples)\n",
    "    post_prob = 0\n",
    "    red_head_count = 0\n",
    "    blue_head_count = 0\n",
    "    red_count = 0\n",
    "    blue_count = 0\n",
    "    for sample in samples:\n",
    "        sample_post_prop = compute_posterior_prob_red(sample, estimate_prob_red, estimate_prob_head_red, estimate_prob_head_blue)\n",
    "#         print('pp_init', estimate_prob_red, estimate_prob_head_red, estimate_prob_head_blue)\n",
    "        post_prob += sample_post_prop\n",
    "        sample_red_head_count = sample_post_prop * sample[1].count('H')\n",
    "        red_head_count += sample_red_head_count\n",
    "        sample_blue_head_count = (1 - sample_post_prop) * sample[1].count('H')\n",
    "        blue_head_count += sample_blue_head_count\n",
    "#         print('pp', sample_post_prop)\n",
    "        red_count += sample_post_prop\n",
    "        blue_count += (1 - sample_post_prop)\n",
    "#     print('countsr', red_count, blue_count)\n",
    "#     print('countsr', red_count, blue_count)\n",
    "    return total_count, red_count, blue_count, red_head_count, blue_head_count, sample_len\n",
    "#     assert 'Compute the sufficient statistics for this sample given these parameter estimates.'\n",
    "    \n",
    "def expectation_maximization(samples, iterations, estimate_prob_red, estimate_prob_head_red, estimate_prob_head_blue):\n",
    "    step = 0\n",
    "    while True:\n",
    "#         for sample in samples:\n",
    "        expected_statistics = compute_expected_statistics(samples, estimate_prob_red, estimate_prob_head_red, estimate_prob_head_blue)\n",
    "        estimate_prob_red, estimate_prob_head_red, estimate_prob_head_blue = mle(expected_statistics)\n",
    "        step += 1\n",
    "#         print(step)\n",
    "#         print(estimate_prob_red, estimate_prob_head_red, estimate_prob_head_blue)\n",
    "        if step >= iterations:\n",
    "            break\n",
    "    return estimate_prob_red, estimate_prob_head_red, estimate_prob_head_blue\n",
    "#     assert 'Compute the mle parameter estimates for the model from a sample without labels. '"
   ]
  },
  {
   "cell_type": "code",
   "execution_count": 322,
   "metadata": {},
   "outputs": [
    {
     "name": "stdout",
     "output_type": "stream",
     "text": [
      "0.8375530011124886 0.8728934211664945 0.8208035753530862\n"
     ]
    },
    {
     "data": {
      "text/plain": [
       "(0.2999181720694818, 0.6071680888003922, 0.39952366353355084)"
      ]
     },
     "execution_count": 322,
     "metadata": {},
     "output_type": "execute_result"
    }
   ],
   "source": [
    "samples = flip_m_random_coins_n_times(100, 100)\n",
    "estimate_prob_red, estimate_prob_head_red, estimate_prob_head_blue = random.random(), random.random(), random.random()\n",
    "print(estimate_prob_red, estimate_prob_head_red, estimate_prob_head_blue)\n",
    "expectation_maximization(samples, 10000, estimate_prob_red, estimate_prob_head_red, estimate_prob_head_blue)"
   ]
  },
  {
   "cell_type": "code",
   "execution_count": null,
   "metadata": {},
   "outputs": [],
   "source": []
  },
  {
   "cell_type": "code",
   "execution_count": null,
   "metadata": {},
   "outputs": [],
   "source": []
  },
  {
   "cell_type": "code",
   "execution_count": null,
   "metadata": {},
   "outputs": [],
   "source": []
  },
  {
   "cell_type": "code",
   "execution_count": null,
   "metadata": {},
   "outputs": [],
   "source": []
  },
  {
   "cell_type": "code",
   "execution_count": null,
   "metadata": {},
   "outputs": [],
   "source": []
  }
 ],
 "metadata": {
  "kernelspec": {
   "display_name": "Python 3",
   "language": "python",
   "name": "python3"
  },
  "language_info": {
   "codemirror_mode": {
    "name": "ipython",
    "version": 3
   },
   "file_extension": ".py",
   "mimetype": "text/x-python",
   "name": "python",
   "nbconvert_exporter": "python",
   "pygments_lexer": "ipython3",
   "version": "3.6.3"
  }
 },
 "nbformat": 4,
 "nbformat_minor": 2
}
