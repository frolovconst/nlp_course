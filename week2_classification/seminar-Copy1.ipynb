{
 "cells": [
  {
   "cell_type": "markdown",
   "metadata": {},
   "source": [
    "# Large scale text analysis with deep learning (3 points)\n",
    "\n",
    "Today we're gonna apply the newly learned tools for the task of predicting job salary.\n",
    "\n",
    "<img src=\"https://kaggle2.blob.core.windows.net/competitions/kaggle/3342/media/salary%20prediction%20engine%20v2.png\" width=400px>\n",
    "\n",
    "_Special thanks to [Oleg Vasilev](https://github.com/Omrigan/) for the core assignment idea._"
   ]
  },
  {
   "cell_type": "code",
   "execution_count": 1,
   "metadata": {},
   "outputs": [],
   "source": [
    "import numpy as np\n",
    "import pandas as pd\n",
    "import matplotlib.pyplot as plt\n",
    "%matplotlib inline"
   ]
  },
  {
   "cell_type": "markdown",
   "metadata": {},
   "source": [
    "### About the challenge\n",
    "For starters, let's download and unpack the data from [here](https://www.dropbox.com/s/5msc5ix7ndyba10/Train_rev1.csv.tar.gz?dl=0). \n",
    "\n",
    "You can also get it from [yadisk url](https://yadi.sk/d/vVEOWPFY3NruT7) the competition [page](https://www.kaggle.com/c/job-salary-prediction/data) (pick `Train_rev1.*`)."
   ]
  },
  {
   "cell_type": "code",
   "execution_count": 2,
   "metadata": {},
   "outputs": [
    {
     "name": "stdout",
     "output_type": "stream",
     "text": [
      "  % Total    % Received % Xferd  Average Speed   Time    Time     Time  Current\n",
      "                                 Dload  Upload   Total   Spent    Left  Speed\n",
      "  0     0    0     0    0     0      0      0 --:--:-- --:--:-- --:--:--     0\n",
      "  0     0    0     0    0     0      0      0 --:--:-- --:--:-- --:--:--     0\n",
      "100  119M  100  119M    0     0  18.1M      0  0:00:06  0:00:06 --:--:-- 24.6M\n"
     ]
    }
   ],
   "source": [
    "!curl -L https://www.dropbox.com/s/5msc5ix7ndyba10/Train_rev1.csv.tar.gz?dl=1 -o Train_rev1.csv.tar.gz"
   ]
  },
  {
   "cell_type": "code",
   "execution_count": 3,
   "metadata": {},
   "outputs": [
    {
     "name": "stdout",
     "output_type": "stream",
     "text": [
      "Train_rev1.csv\n"
     ]
    }
   ],
   "source": [
    "!tar -xvzf ./Train_rev1.csv.tar.gz"
   ]
  },
  {
   "cell_type": "code",
   "execution_count": 2,
   "metadata": {},
   "outputs": [
    {
     "data": {
      "text/plain": [
       "(244768, 12)"
      ]
     },
     "execution_count": 2,
     "metadata": {},
     "output_type": "execute_result"
    }
   ],
   "source": [
    "data = pd.read_csv(\"./Train_rev1.csv\", index_col=None)\n",
    "data.shape"
   ]
  },
  {
   "cell_type": "markdown",
   "metadata": {},
   "source": [
    "One problem with salary prediction is that it's oddly distributed: there are many people who are paid standard salaries and a few that get tons o money. The distribution is fat-tailed on the right side, which is inconvenient for MSE minimization.\n",
    "\n",
    "There are several techniques to combat this: using a different loss function, predicting log-target instead of raw target or even replacing targets with their percentiles among all salaries in the training set. We gonna use logarithm for now.\n",
    "\n",
    "_You can read more [in the official description](https://www.kaggle.com/c/job-salary-prediction#description)._"
   ]
  },
  {
   "cell_type": "code",
   "execution_count": 3,
   "metadata": {},
   "outputs": [
    {
     "data": {
      "image/png": "[encoded data removed]",
      "text/plain": [
       "<matplotlib.figure.Figure at 0x7ff5684333c8>"
      ]
     },
     "metadata": {},
     "output_type": "display_data"
    }
   ],
   "source": [
    "data['Log1pSalary'] = np.log1p(data['SalaryNormalized']).astype('float32')\n",
    "\n",
    "plt.figure(figsize=[8, 4])\n",
    "plt.subplot(1, 2, 1)\n",
    "plt.hist(data[\"SalaryNormalized\"], bins=20);\n",
    "\n",
    "plt.subplot(1, 2, 2)\n",
    "plt.hist(data['Log1pSalary'], bins=20);"
   ]
  },
  {
   "cell_type": "markdown",
   "metadata": {},
   "source": [
    "Our task is to predict one number, __Log1pSalary__.\n",
    "\n",
    "To do so, our model can access a number of features:\n",
    "* Free text: __`Title`__ and  __`FullDescription`__\n",
    "* Categorical: __`Category`__, __`Company`__, __`LocationNormalized`__, __`ContractType`__, and __`ContractTime`__."
   ]
  },
  {
   "cell_type": "code",
   "execution_count": 4,
   "metadata": {},
   "outputs": [
    {
     "data": {
      "text/html": [
       "<div>\n",
       "<table border=\"1\" class=\"dataframe\">\n",
       "  <thead>\n",
       "    <tr style=\"text-align: right;\">\n",
       "      <th></th>\n",
       "      <th>Id</th>\n",
       "      <th>Title</th>\n",
       "      <th>FullDescription</th>\n",
       "      <th>LocationRaw</th>\n",
       "      <th>LocationNormalized</th>\n",
       "      <th>ContractType</th>\n",
       "      <th>ContractTime</th>\n",
       "      <th>Company</th>\n",
       "      <th>Category</th>\n",
       "      <th>SalaryRaw</th>\n",
       "      <th>SalaryNormalized</th>\n",
       "      <th>SourceName</th>\n",
       "      <th>Log1pSalary</th>\n",
       "    </tr>\n",
       "  </thead>\n",
       "  <tbody>\n",
       "    <tr>\n",
       "      <th>170875</th>\n",
       "      <td>71367655</td>\n",
       "      <td>MultiSkilled Maintenance Engineer (Electricall...</td>\n",
       "      <td>This vacancy represents an opportunity for an ...</td>\n",
       "      <td>Lancashire</td>\n",
       "      <td>Lancashire</td>\n",
       "      <td>NaN</td>\n",
       "      <td>permanent</td>\n",
       "      <td>Food Careers Limited</td>\n",
       "      <td>Engineering Jobs</td>\n",
       "      <td>31000/annum 31K + Bonus Healthcare</td>\n",
       "      <td>31000</td>\n",
       "      <td>cv-library.co.uk</td>\n",
       "      <td>10.341775</td>\n",
       "    </tr>\n",
       "    <tr>\n",
       "      <th>233299</th>\n",
       "      <td>72480755</td>\n",
       "      <td>Telesales Call Centre B2B</td>\n",
       "      <td>An exciting opportunity to join a very success...</td>\n",
       "      <td>Oval,Greater London</td>\n",
       "      <td>London</td>\n",
       "      <td>NaN</td>\n",
       "      <td>permanent</td>\n",
       "      <td>Call Centre Connect</td>\n",
       "      <td>Sales Jobs</td>\n",
       "      <td>18k - 30k per year + OTE</td>\n",
       "      <td>24000</td>\n",
       "      <td>jobsite.co.uk</td>\n",
       "      <td>10.085851</td>\n",
       "    </tr>\n",
       "    <tr>\n",
       "      <th>36946</th>\n",
       "      <td>68285959</td>\n",
       "      <td>Blackburn RGN Band 5</td>\n",
       "      <td>Agency nurses are needed for full time/part ti...</td>\n",
       "      <td>Blackburn</td>\n",
       "      <td>Blackburn</td>\n",
       "      <td>NaN</td>\n",
       "      <td>contract</td>\n",
       "      <td>NaN</td>\n",
       "      <td>Healthcare &amp; Nursing Jobs</td>\n",
       "      <td>17.00 to 35.00 per hour</td>\n",
       "      <td>49920</td>\n",
       "      <td>hays.co.uk</td>\n",
       "      <td>10.818197</td>\n",
       "    </tr>\n",
       "  </tbody>\n",
       "</table>\n",
       "</div>"
      ],
      "text/plain": [
       "              Id                                              Title  \\\n",
       "170875  71367655  MultiSkilled Maintenance Engineer (Electricall...   \n",
       "233299  72480755                          Telesales Call Centre B2B   \n",
       "36946   68285959                               Blackburn RGN Band 5   \n",
       "\n",
       "                                          FullDescription  \\\n",
       "170875  This vacancy represents an opportunity for an ...   \n",
       "233299  An exciting opportunity to join a very success...   \n",
       "36946   Agency nurses are needed for full time/part ti...   \n",
       "\n",
       "                LocationRaw LocationNormalized ContractType ContractTime  \\\n",
       "170875           Lancashire         Lancashire          NaN    permanent   \n",
       "233299  Oval,Greater London             London          NaN    permanent   \n",
       "36946             Blackburn          Blackburn          NaN     contract   \n",
       "\n",
       "                     Company                   Category  \\\n",
       "170875  Food Careers Limited           Engineering Jobs   \n",
       "233299   Call Centre Connect                 Sales Jobs   \n",
       "36946                    NaN  Healthcare & Nursing Jobs   \n",
       "\n",
       "                                 SalaryRaw  SalaryNormalized  \\\n",
       "170875  31000/annum 31K + Bonus Healthcare             31000   \n",
       "233299            18k - 30k per year + OTE             24000   \n",
       "36946              17.00 to 35.00 per hour             49920   \n",
       "\n",
       "              SourceName  Log1pSalary  \n",
       "170875  cv-library.co.uk    10.341775  \n",
       "233299     jobsite.co.uk    10.085851  \n",
       "36946         hays.co.uk    10.818197  "
      ]
     },
     "execution_count": 4,
     "metadata": {},
     "output_type": "execute_result"
    }
   ],
   "source": [
    "text_columns = [\"Title\", \"FullDescription\"]\n",
    "categorical_columns = [\"Category\", \"Company\", \"LocationNormalized\", \"ContractType\", \"ContractTime\"]\n",
    "target_column = \"Log1pSalary\"\n",
    "\n",
    "data[categorical_columns] = data[categorical_columns].fillna('NaN') # cast missing values to string \"NaN\"\n",
    "\n",
    "data.sample(3)"
   ]
  },
  {
   "cell_type": "markdown",
   "metadata": {},
   "source": [
    "### Preprocessing text data\n",
    "\n",
    "Just like last week, applying NLP to a problem begins from tokenization: splitting raw text into sequences of tokens (words, punctuation, etc).\n",
    "\n",
    "__Your task__ is to lowercase and tokenize all texts under `Title` and `FullDescription` columns. Store the tokenized data as a __space-separated__ string of tokens for performance reasons.\n",
    "\n",
    "It's okay to use nltk tokenizers. Assertions were designed for WordPunctTokenizer, slight deviations are okay."
   ]
  },
  {
   "cell_type": "code",
   "execution_count": 5,
   "metadata": {},
   "outputs": [
    {
     "name": "stdout",
     "output_type": "stream",
     "text": [
      "Raw text:\n",
      "2         Mathematical Modeller / Simulation Analyst / O...\n",
      "100002    A successful and high achieving specialist sch...\n",
      "200002    Web Designer  HTML, CSS, JavaScript, Photoshop...\n",
      "Name: FullDescription, dtype: object\n"
     ]
    }
   ],
   "source": [
    "print(\"Raw text:\")\n",
    "print(data[\"FullDescription\"][2::100000])"
   ]
  },
  {
   "cell_type": "code",
   "execution_count": 6,
   "metadata": {},
   "outputs": [],
   "source": [
    "import nltk\n",
    "tokenizer = nltk.tokenize.WordPunctTokenizer()"
   ]
  },
  {
   "cell_type": "code",
   "execution_count": 7,
   "metadata": {},
   "outputs": [],
   "source": [
    "data[text_columns] = data[text_columns].fillna(' ')"
   ]
  },
  {
   "cell_type": "code",
   "execution_count": 8,
   "metadata": {},
   "outputs": [],
   "source": [
    "# see task above\n",
    "# ' '.join(tokenizer.tokenize('dsfds dsdsg, 435g f'.casefold()))\n",
    "data['Title'] = data['Title'].apply(lambda s: ' '.join(tokenizer.tokenize(s.casefold())))\n",
    "data['FullDescription'] = data['FullDescription'].apply(lambda s: ' '.join(tokenizer.tokenize(s.casefold())))"
   ]
  },
  {
   "cell_type": "markdown",
   "metadata": {},
   "source": [
    "Now we can assume that our text is a space-separated list of tokens:"
   ]
  },
  {
   "cell_type": "code",
   "execution_count": 9,
   "metadata": {},
   "outputs": [
    {
     "name": "stdout",
     "output_type": "stream",
     "text": [
      "Tokenized:\n",
      "2         mathematical modeller / simulation analyst / o...\n",
      "100002    a successful and high achieving specialist sch...\n",
      "200002    web designer html , css , javascript , photosh...\n",
      "Name: FullDescription, dtype: object\n"
     ]
    }
   ],
   "source": [
    "print(\"Tokenized:\")\n",
    "print(data[\"FullDescription\"][2::100000])\n",
    "assert data[\"FullDescription\"][2][:50] == 'mathematical modeller / simulation analyst / opera'\n",
    "assert data[\"Title\"][54321] == 'international digital account manager ( german )'"
   ]
  },
  {
   "cell_type": "markdown",
   "metadata": {},
   "source": [
    "Not all words are equally useful. Some of them are typos or rare words that are only present a few times. \n",
    "\n",
    "Let's count how many times is each word present in the data so that we can build a \"white list\" of known words."
   ]
  },
  {
   "cell_type": "code",
   "execution_count": 10,
   "metadata": {},
   "outputs": [],
   "source": [
    "# Count how many times does each token occur in both \"Title\" and \"FullDescription\" in total\n",
    "# build a dictionary { token -> it's count }\n",
    "from collections import Counter\n",
    "token_counts = Counter()\n",
    "\n",
    "# hint: you may or may not want to use collections.Counter"
   ]
  },
  {
   "cell_type": "code",
   "execution_count": 11,
   "metadata": {
    "scrolled": true
   },
   "outputs": [],
   "source": [
    "_ = data[\"FullDescription\"].apply(lambda s: token_counts.update(s.split()))"
   ]
  },
  {
   "cell_type": "code",
   "execution_count": 12,
   "metadata": {},
   "outputs": [],
   "source": [
    "_ = data[\"Title\"].apply(lambda s: token_counts.update(s.split()))"
   ]
  },
  {
   "cell_type": "code",
   "execution_count": 13,
   "metadata": {},
   "outputs": [
    {
     "name": "stdout",
     "output_type": "stream",
     "text": [
      "Total unique tokens : 202698\n",
      "('and', 2657388)\n",
      "('.', 2523216)\n",
      "(',', 2318606)\n",
      "('the', 2080994)\n",
      "('to', 2019884)\n",
      "...\n",
      "('pposition', 1)\n",
      "('businessdevelopmentdirectorexecutiverecruitment_job', 1)\n",
      "('demandplannerinventorymanagement_job', 1)\n",
      "Correct!\n"
     ]
    }
   ],
   "source": [
    "print(\"Total unique tokens :\", len(token_counts))\n",
    "print('\\n'.join(map(str, token_counts.most_common(n=5))))\n",
    "print('...')\n",
    "print('\\n'.join(map(str, token_counts.most_common()[-3:])))\n",
    "\n",
    "assert token_counts.most_common(1)[0][1] in  range(2600000, 2700000)\n",
    "assert len(token_counts) in range(200000, 210000)\n",
    "print('Correct!')"
   ]
  },
  {
   "cell_type": "code",
   "execution_count": 14,
   "metadata": {},
   "outputs": [
    {
     "data": {
      "image/png": "[encoded data removed]",
      "text/plain": [
       "<matplotlib.figure.Figure at 0x7ff565de0320>"
      ]
     },
     "metadata": {},
     "output_type": "display_data"
    }
   ],
   "source": [
    "# Let's see how many words are there for each count\n",
    "plt.hist(list(token_counts.values()), range=[0, 10**4], bins=50, log=True)\n",
    "plt.xlabel(\"Word counts\");"
   ]
  },
  {
   "cell_type": "markdown",
   "metadata": {},
   "source": [
    "Now filter tokens a list of all tokens that occur at least 10 times."
   ]
  },
  {
   "cell_type": "code",
   "execution_count": 15,
   "metadata": {},
   "outputs": [],
   "source": [
    "min_count = 10\n",
    "\n",
    "# tokens from token_counts keys that had at least min_count occurrences throughout the dataset\n",
    "tokens = [key for key, count in token_counts.items() if count>=10]"
   ]
  },
  {
   "cell_type": "code",
   "execution_count": 16,
   "metadata": {},
   "outputs": [
    {
     "name": "stdout",
     "output_type": "stream",
     "text": [
      "Vocabulary size: 34158\n",
      "Correct!\n"
     ]
    }
   ],
   "source": [
    "# Add a special tokens for unknown and empty words\n",
    "UNK, PAD = \"UNK\", \"PAD\"\n",
    "tokens = [UNK, PAD] + sorted(tokens)\n",
    "print(\"Vocabulary size:\", len(tokens))\n",
    "\n",
    "assert type(tokens) == list\n",
    "assert len(tokens) in range(32000, 35000)\n",
    "assert 'me' in tokens\n",
    "assert UNK in tokens\n",
    "print(\"Correct!\")"
   ]
  },
  {
   "cell_type": "code",
   "execution_count": 17,
   "metadata": {},
   "outputs": [
    {
     "data": {
      "text/plain": [
       "0"
      ]
     },
     "execution_count": 17,
     "metadata": {},
     "output_type": "execute_result"
    }
   ],
   "source": [
    "tokens.index('UNK')"
   ]
  },
  {
   "cell_type": "markdown",
   "metadata": {},
   "source": [
    "Build an inverse token index: a dictionary from token(string) to it's index in `tokens` (int)"
   ]
  },
  {
   "cell_type": "code",
   "execution_count": 18,
   "metadata": {},
   "outputs": [],
   "source": [
    "token_to_id = {token: tokens.index(token) for token in tokens}"
   ]
  },
  {
   "cell_type": "code",
   "execution_count": 19,
   "metadata": {},
   "outputs": [
    {
     "name": "stdout",
     "output_type": "stream",
     "text": [
      "Correct!\n"
     ]
    }
   ],
   "source": [
    "assert isinstance(token_to_id, dict)\n",
    "assert len(token_to_id) == len(tokens)\n",
    "for tok in tokens:\n",
    "    assert tokens[token_to_id[tok]] == tok\n",
    "\n",
    "print(\"Correct!\")"
   ]
  },
  {
   "cell_type": "markdown",
   "metadata": {},
   "source": [
    "And finally, let's use the vocabulary you've built to map text lines into neural network-digestible matrices."
   ]
  },
  {
   "cell_type": "code",
   "execution_count": 20,
   "metadata": {},
   "outputs": [],
   "source": [
    "UNK_IX, PAD_IX = map(token_to_id.get, [UNK, PAD])\n",
    "\n",
    "def as_matrix(sequences, max_len=None):\n",
    "    \"\"\" Convert a list of tokens into a matrix with padding \"\"\"\n",
    "    if isinstance(sequences[0], str):\n",
    "        sequences = list(map(str.split, sequences))\n",
    "        \n",
    "    max_len = min(max(map(len, sequences)), max_len or float('inf'))\n",
    "    \n",
    "    matrix = np.full((len(sequences), max_len), np.int32(PAD_IX))\n",
    "    for i,seq in enumerate(sequences):\n",
    "        row_ix = [token_to_id.get(word, UNK_IX) for word in seq[:max_len]]\n",
    "        matrix[i, :len(row_ix)] = row_ix\n",
    "    \n",
    "    return matrix"
   ]
  },
  {
   "cell_type": "code",
   "execution_count": 21,
   "metadata": {},
   "outputs": [
    {
     "name": "stdout",
     "output_type": "stream",
     "text": [
      "Lines:\n",
      "engineering systems analyst\n",
      "hr assistant\n",
      "senior ec & i engineer\n",
      "\n",
      "Matrix:\n",
      "[[10807 30161  2166     1     1]\n",
      " [15020  2844     1     1     1]\n",
      " [27645 10201    16 15215 10804]]\n"
     ]
    }
   ],
   "source": [
    "print(\"Lines:\")\n",
    "print('\\n'.join(data[\"Title\"][::100000].values), end='\\n\\n')\n",
    "print(\"Matrix:\")\n",
    "print(as_matrix(data[\"Title\"][::100000]))"
   ]
  },
  {
   "cell_type": "code",
   "execution_count": 22,
   "metadata": {},
   "outputs": [
    {
     "name": "stdout",
     "output_type": "stream",
     "text": [
      "[[10807 30161  2166 ...     1     1     1]\n",
      " [33070  2572 18414 ...     1     1     1]\n",
      " [22209  6409   158 ...   197     0    82]]\n"
     ]
    }
   ],
   "source": [
    "print(as_matrix(data[\"FullDescription\"][::100000]))"
   ]
  },
  {
   "cell_type": "markdown",
   "metadata": {},
   "source": [
    "Now let's  encode the categirical data we have.\n",
    "\n",
    "As usual, we shall use one-hot encoding for simplicity. Kudos if you implement more advanced encodings: tf-idf, pseudo-time-series, etc."
   ]
  },
  {
   "cell_type": "code",
   "execution_count": 23,
   "metadata": {},
   "outputs": [
    {
     "data": {
      "text/plain": [
       "DictVectorizer(dtype=<class 'numpy.float32'>, separator='=', sort=True,\n",
       "        sparse=False)"
      ]
     },
     "execution_count": 23,
     "metadata": {},
     "output_type": "execute_result"
    }
   ],
   "source": [
    "from sklearn.feature_extraction import DictVectorizer\n",
    "\n",
    "# we only consider top-1k most frequent companies to minimize memory usage\n",
    "top_companies, top_counts = zip(*Counter(data['Company']).most_common(1000))\n",
    "recognized_companies = set(top_companies)\n",
    "data[\"Company\"] = data[\"Company\"].apply(lambda comp: comp if comp in recognized_companies else \"Other\")\n",
    "\n",
    "categorical_vectorizer = DictVectorizer(dtype=np.float32, sparse=False)\n",
    "categorical_vectorizer.fit(data[categorical_columns].apply(dict, axis=1))"
   ]
  },
  {
   "cell_type": "markdown",
   "metadata": {},
   "source": [
    "### The deep learning part\n",
    "\n",
    "Once we've learned to tokenize the data, let's design a machine learning experiment.\n",
    "\n",
    "As before, we won't focus too much on validation, opting for a simple train-test split.\n",
    "\n",
    "__To be completely rigorous,__ we've comitted a small crime here: we used the whole data for tokenization and vocabulary building. A more strict way would be to do that part on training set only. You may want to do that and measure the magnitude of changes."
   ]
  },
  {
   "cell_type": "code",
   "execution_count": 24,
   "metadata": {},
   "outputs": [
    {
     "name": "stdout",
     "output_type": "stream",
     "text": [
      "Train size =  195814\n",
      "Validation size =  48954\n"
     ]
    }
   ],
   "source": [
    "from sklearn.model_selection import train_test_split\n",
    "\n",
    "data_train, data_val = train_test_split(data, test_size=0.2, random_state=42)\n",
    "data_train.index = range(len(data_train))\n",
    "data_val.index = range(len(data_val))\n",
    "\n",
    "print(\"Train size = \", len(data_train))\n",
    "print(\"Validation size = \", len(data_val))"
   ]
  },
  {
   "cell_type": "code",
   "execution_count": 25,
   "metadata": {},
   "outputs": [],
   "source": [
    "def make_batch(data, max_len=None, word_dropout=0):\n",
    "    \"\"\"\n",
    "    Creates a keras-friendly dict from the batch data.\n",
    "    :param word_dropout: replaces token index with UNK_IX with this probability\n",
    "    :returns: a dict with {'title' : int64[batch, title_max_len]\n",
    "    \"\"\"\n",
    "    batch = {}\n",
    "    batch[\"Title\"] = as_matrix(data[\"Title\"].values, max_len)\n",
    "    batch[\"FullDescription\"] = as_matrix(data[\"FullDescription\"].values, max_len)\n",
    "    batch['Categorical'] = categorical_vectorizer.transform(data[categorical_columns].apply(dict, axis=1))\n",
    "    \n",
    "    if word_dropout != 0:\n",
    "        batch[\"FullDescription\"] = apply_word_dropout(batch[\"FullDescription\"], 1. - word_dropout)\n",
    "    \n",
    "    if target_column in data.columns:\n",
    "        batch[target_column] = data[target_column].values\n",
    "    \n",
    "    return batch\n",
    "\n",
    "def apply_word_dropout(matrix, keep_prop, replace_with=UNK_IX, pad_ix=PAD_IX,):\n",
    "    dropout_mask = np.random.choice(2, np.shape(matrix), p=[keep_prop, 1 - keep_prop])\n",
    "    dropout_mask &= matrix != pad_ix\n",
    "    return np.choose(dropout_mask, [matrix, np.full_like(matrix, replace_with)])"
   ]
  },
  {
   "cell_type": "code",
   "execution_count": 26,
   "metadata": {},
   "outputs": [
    {
     "data": {
      "text/plain": [
       "{'Categorical': array([[0., 0., 0., ..., 0., 0., 0.],\n",
       "        [0., 0., 0., ..., 0., 0., 0.],\n",
       "        [0., 0., 0., ..., 0., 0., 0.]], dtype=float32),\n",
       " 'FullDescription': array([[27645, 29893, 33674, 32939,   982, 27645, 29893, 33674, 16451,\n",
       "         32939],\n",
       "        [29239,   197, 19175, 20042, 15554, 23162,  4051, 25511,   907,\n",
       "            82],\n",
       "        [30746, 21956, 20601,  6409, 16451,  8165, 27493,   982, 30412,\n",
       "         17746]], dtype=int32),\n",
       " 'Log1pSalary': array([ 9.71154 , 10.463132, 10.71444 ], dtype=float32),\n",
       " 'Title': array([[27645, 29893, 33674,     1,     1,     1,     1],\n",
       "        [29239,   197, 19175, 20042, 15554, 23162,  4051],\n",
       "        [10609, 30412, 17746,    33,  8705, 29157,    65]], dtype=int32)}"
      ]
     },
     "execution_count": 26,
     "metadata": {},
     "output_type": "execute_result"
    }
   ],
   "source": [
    "make_batch(data_train[:3], max_len=10)"
   ]
  },
  {
   "cell_type": "markdown",
   "metadata": {},
   "source": [
    "#### Architecture\n",
    "\n",
    "Our basic model consists of three branches:\n",
    "* Title encoder\n",
    "* Description encoder\n",
    "* Categorical features encoder\n",
    "\n",
    "We will then feed all 3 branches into one common network that predicts salary.\n",
    "\n",
    "<img src=\"https://github.com/yandexdataschool/nlp_course/raw/master/resources/w2_conv_arch.png\" width=600px>"
   ]
  },
  {
   "cell_type": "markdown",
   "metadata": {},
   "source": [
    "This clearly doesn't fit into keras' __Sequential__ interface. To build such a network, one will have to use __[Keras Functional API](https://keras.io/models/model/)__."
   ]
  },
  {
   "cell_type": "code",
   "execution_count": 27,
   "metadata": {},
   "outputs": [
    {
     "name": "stderr",
     "output_type": "stream",
     "text": [
      "/usr/lib/python3/dist-packages/h5py/__init__.py:34: FutureWarning: Conversion of the second argument of issubdtype from `float` to `np.floating` is deprecated. In future, it will be treated as `np.float64 == np.dtype(float).type`.\n",
      "  from ._conv import register_converters as _register_converters\n",
      "Using TensorFlow backend.\n"
     ]
    }
   ],
   "source": [
    "import keras\n",
    "import keras.layers as L\n",
    "from keras import activations"
   ]
  },
  {
   "cell_type": "code",
   "execution_count": 28,
   "metadata": {},
   "outputs": [],
   "source": [
    "def build_model(n_tokens=len(tokens), n_cat_features=len(categorical_vectorizer.vocabulary_), hid_size=64):\n",
    "    \"\"\" Build a model that maps three data sources to a single linear output: predicted log1p(salary) \"\"\"\n",
    "    \n",
    "    l_title = L.Input(shape=[None], name=\"Title\")\n",
    "    l_descr = L.Input(shape=[None], name=\"FullDescription\")\n",
    "    l_categ = L.Input(shape=[n_cat_features], name=\"Categorical\")\n",
    "    \n",
    "    # Build your monster!\n",
    "    Emb_layer = L.Embedding(n_tokens, 48)\n",
    "    Ttl_conv = L.Conv1D(32, 2, activation=activations.tanh)\n",
    "    Dsc_conv = L.Conv1D(32, 3, activation=activations.tanh)\n",
    "    Gpool = L.GlobalMaxPool1D()\n",
    "    \n",
    "    ttl_emb = Emb_layer(l_title)\n",
    "    t_conv = Ttl_conv(ttl_emb)\n",
    "    t_pool = Gpool(t_conv)\n",
    "    \n",
    "    dsc_emb = Emb_layer(l_descr)\n",
    "    dsc_conv = Dsc_conv(dsc_emb)\n",
    "    dsc_pool = Gpool(dsc_conv)\n",
    "    \n",
    "    cat_repr = L.Dense(100, activation=activations.tanh)(l_categ)\n",
    "    \n",
    "    concat = L.Concatenate()([t_pool, dsc_pool, cat_repr])\n",
    "    densed = L.Dense(100, activation=activations.tanh)(concat)\n",
    "    output_layer = L.Dense(1, activation=activations.relu)(densed)\n",
    "    # end of your code\n",
    "    \n",
    "    model = keras.models.Model(inputs=[l_title, l_descr, l_categ], outputs=[output_layer])\n",
    "    model.compile('adam', 'mean_squared_error', metrics=['mean_absolute_error'])\n",
    "    return model\n",
    "    "
   ]
  },
  {
   "cell_type": "code",
   "execution_count": 29,
   "metadata": {
    "scrolled": false
   },
   "outputs": [
    {
     "name": "stdout",
     "output_type": "stream",
     "text": [
      "__________________________________________________________________________________________________\n",
      "Layer (type)                    Output Shape         Param #     Connected to                     \n",
      "==================================================================================================\n",
      "Title (InputLayer)              (None, None)         0                                            \n",
      "__________________________________________________________________________________________________\n",
      "FullDescription (InputLayer)    (None, None)         0                                            \n",
      "__________________________________________________________________________________________________\n",
      "embedding_1 (Embedding)         (None, None, 48)     1639584     Title[0][0]                      \n",
      "                                                                 FullDescription[0][0]            \n",
      "__________________________________________________________________________________________________\n",
      "conv1d_1 (Conv1D)               (None, None, 32)     3104        embedding_1[0][0]                \n",
      "__________________________________________________________________________________________________\n",
      "conv1d_2 (Conv1D)               (None, None, 32)     4640        embedding_1[1][0]                \n",
      "__________________________________________________________________________________________________\n",
      "Categorical (InputLayer)        (None, 3768)         0                                            \n",
      "__________________________________________________________________________________________________\n",
      "global_max_pooling1d_1 (GlobalM (None, 32)           0           conv1d_1[0][0]                   \n",
      "                                                                 conv1d_2[0][0]                   \n",
      "__________________________________________________________________________________________________\n",
      "dense_1 (Dense)                 (None, 100)          376900      Categorical[0][0]                \n",
      "__________________________________________________________________________________________________\n",
      "concatenate_1 (Concatenate)     (None, 164)          0           global_max_pooling1d_1[0][0]     \n",
      "                                                                 global_max_pooling1d_1[1][0]     \n",
      "                                                                 dense_1[0][0]                    \n",
      "__________________________________________________________________________________________________\n",
      "dense_2 (Dense)                 (None, 100)          16500       concatenate_1[0][0]              \n",
      "__________________________________________________________________________________________________\n",
      "dense_3 (Dense)                 (None, 1)            101         dense_2[0][0]                    \n",
      "==================================================================================================\n",
      "Total params: 2,040,829\n",
      "Trainable params: 2,040,829\n",
      "Non-trainable params: 0\n",
      "__________________________________________________________________________________________________\n"
     ]
    }
   ],
   "source": [
    "model = build_model()\n",
    "model.summary()"
   ]
  },
  {
   "cell_type": "code",
   "execution_count": 30,
   "metadata": {},
   "outputs": [],
   "source": [
    "dummy_pred = model.predict(make_batch(data_train[:100]))\n",
    "\n",
    "dummy_loss = model.train_on_batch(make_batch(data_train[:100]), data_train['Log1pSalary'][:100])[0]\n",
    "assert dummy_pred.shape == (100, 1)\n",
    "assert len(np.unique(dummy_pred)) > 20, \"model returns suspiciously few unique outputs. Check your initialization\"\n",
    "assert np.ndim(dummy_loss) == 0 and 0. <= dummy_loss <= 250., \"make sure you minimize MSE\""
   ]
  },
  {
   "cell_type": "markdown",
   "metadata": {},
   "source": [
    "#### Training and evaluation\n",
    "\n",
    "As usual, we gonna feed our monster with random minibatches of data. \n",
    "\n",
    "As we train, we want to monitor not only loss function, which is computed in log-space, but also the actual error measured in dollars."
   ]
  },
  {
   "cell_type": "code",
   "execution_count": 31,
   "metadata": {},
   "outputs": [],
   "source": [
    "def iterate_minibatches(data, batch_size=256, shuffle=True, cycle=False, **kwargs):\n",
    "    \"\"\" iterates minibatches of data in random order \"\"\"\n",
    "    while True:\n",
    "        indices = np.arange(len(data))\n",
    "        if shuffle:\n",
    "            indices = np.random.permutation(indices)\n",
    "\n",
    "        for start in range(0, len(indices), batch_size):\n",
    "            batch = make_batch(data.iloc[indices[start : start + batch_size]], **kwargs)\n",
    "            target = batch.pop(target_column)\n",
    "            yield batch, target\n",
    "        \n",
    "        if not cycle: break"
   ]
  },
  {
   "cell_type": "markdown",
   "metadata": {},
   "source": [
    "### Model training\n",
    "\n",
    "We can now fit our model the usual minibatch way. The interesting part is that we train on an infinite stream of minibatches, produced by `iterate_minibatches` function."
   ]
  },
  {
   "cell_type": "code",
   "execution_count": 32,
   "metadata": {},
   "outputs": [
    {
     "name": "stdout",
     "output_type": "stream",
     "text": [
      "Epoch 1/20\n",
      "100/100 [==============================] - 13s 133ms/step - loss: 15.2843 - mean_absolute_error: 2.3475 - val_loss: 0.2253 - val_mean_absolute_error: 0.3783\n",
      "Epoch 2/20\n",
      "100/100 [==============================] - 12s 119ms/step - loss: 0.1875 - mean_absolute_error: 0.3395 - val_loss: 0.1628 - val_mean_absolute_error: 0.3152\n",
      "Epoch 3/20\n",
      "100/100 [==============================] - 12s 118ms/step - loss: 0.1495 - mean_absolute_error: 0.3004 - val_loss: 0.1351 - val_mean_absolute_error: 0.2841\n",
      "Epoch 4/20\n",
      "100/100 [==============================] - 12s 119ms/step - loss: 0.1287 - mean_absolute_error: 0.2759 - val_loss: 0.1196 - val_mean_absolute_error: 0.2645\n",
      "Epoch 5/20\n",
      "100/100 [==============================] - 12s 119ms/step - loss: 0.1157 - mean_absolute_error: 0.2591 - val_loss: 0.1071 - val_mean_absolute_error: 0.2489\n",
      "Epoch 6/20\n",
      "100/100 [==============================] - 12s 120ms/step - loss: 0.1052 - mean_absolute_error: 0.2444 - val_loss: 0.0999 - val_mean_absolute_error: 0.2389\n",
      "Epoch 7/20\n",
      "100/100 [==============================] - 12s 118ms/step - loss: 0.1004 - mean_absolute_error: 0.2377 - val_loss: 0.0941 - val_mean_absolute_error: 0.2314\n",
      "Epoch 8/20\n",
      "100/100 [==============================] - 12s 119ms/step - loss: 0.0922 - mean_absolute_error: 0.2279 - val_loss: 0.0917 - val_mean_absolute_error: 0.2278\n",
      "Epoch 9/20\n",
      "100/100 [==============================] - 12s 117ms/step - loss: 0.0867 - mean_absolute_error: 0.2201 - val_loss: 0.0880 - val_mean_absolute_error: 0.2220\n",
      "Epoch 10/20\n",
      "100/100 [==============================] - 12s 118ms/step - loss: 0.0847 - mean_absolute_error: 0.2181 - val_loss: 0.0851 - val_mean_absolute_error: 0.2181\n",
      "Epoch 11/20\n",
      "100/100 [==============================] - 12s 120ms/step - loss: 0.0818 - mean_absolute_error: 0.2134 - val_loss: 0.0837 - val_mean_absolute_error: 0.2162\n",
      "Epoch 12/20\n",
      "100/100 [==============================] - 12s 118ms/step - loss: 0.0826 - mean_absolute_error: 0.2127 - val_loss: 0.0818 - val_mean_absolute_error: 0.2131\n",
      "Epoch 13/20\n",
      "100/100 [==============================] - 12s 121ms/step - loss: 0.0792 - mean_absolute_error: 0.2096 - val_loss: 0.0805 - val_mean_absolute_error: 0.2110\n",
      "Epoch 14/20\n",
      "100/100 [==============================] - 12s 120ms/step - loss: 0.0788 - mean_absolute_error: 0.2078 - val_loss: 0.0780 - val_mean_absolute_error: 0.2080\n",
      "Epoch 15/20\n",
      "100/100 [==============================] - 12s 117ms/step - loss: 0.0777 - mean_absolute_error: 0.2067 - val_loss: 0.0768 - val_mean_absolute_error: 0.2059\n",
      "Epoch 16/20\n",
      "100/100 [==============================] - 12s 121ms/step - loss: 0.0718 - mean_absolute_error: 0.1967 - val_loss: 0.0764 - val_mean_absolute_error: 0.2052\n",
      "Epoch 17/20\n",
      "100/100 [==============================] - 12s 118ms/step - loss: 0.0683 - mean_absolute_error: 0.1936 - val_loss: 0.0755 - val_mean_absolute_error: 0.2035\n",
      "Epoch 18/20\n",
      "100/100 [==============================] - 12s 119ms/step - loss: 0.0693 - mean_absolute_error: 0.1950 - val_loss: 0.0746 - val_mean_absolute_error: 0.2027\n",
      "Epoch 19/20\n",
      "100/100 [==============================] - 12s 120ms/step - loss: 0.0701 - mean_absolute_error: 0.1954 - val_loss: 0.0742 - val_mean_absolute_error: 0.2021\n",
      "Epoch 20/20\n",
      "100/100 [==============================] - 12s 119ms/step - loss: 0.0696 - mean_absolute_error: 0.1946 - val_loss: 0.0733 - val_mean_absolute_error: 0.2008\n"
     ]
    },
    {
     "data": {
      "text/plain": [
       "<keras.callbacks.History at 0x7ff4e14be470>"
      ]
     },
     "execution_count": 32,
     "metadata": {},
     "output_type": "execute_result"
    }
   ],
   "source": [
    "batch_size = 256\n",
    "epochs = 20            # definitely too small\n",
    "steps_per_epoch = 100  # for full pass over data: (len(data_train) - 1) // batch_size + 1\n",
    "\n",
    "model = build_model()\n",
    "\n",
    "model.fit_generator(iterate_minibatches(data_train, batch_size, cycle=True, word_dropout=0.05), \n",
    "                    epochs=epochs, steps_per_epoch=steps_per_epoch,\n",
    "                    \n",
    "                    validation_data=iterate_minibatches(data_val, batch_size, cycle=True),\n",
    "                    validation_steps=data_val.shape[0] // batch_size\n",
    "                   )"
   ]
  },
  {
   "cell_type": "code",
   "execution_count": 33,
   "metadata": {},
   "outputs": [
    {
     "name": "stdout",
     "output_type": "stream",
     "text": [
      "Train results:\n",
      "Mean square error: 0.06291\n",
      "Mean absolute error: 0.18408\n",
      "Val results:\n",
      "Mean square error: 0.07338\n",
      "Mean absolute error: 0.20076\n"
     ]
    }
   ],
   "source": [
    "def print_metrics(model, data, batch_size=batch_size, name=\"\", **kw):\n",
    "    squared_error = abs_error = num_samples = 0.0\n",
    "    for batch_x, batch_y in iterate_minibatches(data, batch_size=batch_size, shuffle=False, **kw):\n",
    "        batch_pred = model.predict(batch_x)[:, 0]\n",
    "        squared_error += np.sum(np.square(batch_pred - batch_y))\n",
    "        abs_error += np.sum(np.abs(batch_pred - batch_y))\n",
    "        num_samples += len(batch_y)\n",
    "    print(\"%s results:\" % (name or \"\"))\n",
    "    print(\"Mean square error: %.5f\" % (squared_error / num_samples))\n",
    "    print(\"Mean absolute error: %.5f\" % (abs_error / num_samples))\n",
    "    return squared_error, abs_error\n",
    "    \n",
    "print_metrics(model, data_train, name='Train')\n",
    "print_metrics(model, data_val, name='Val');"
   ]
  },
  {
   "cell_type": "code",
   "execution_count": 43,
   "metadata": {},
   "outputs": [
    {
     "data": {
      "text/plain": [
       "0    10.126671\n",
       "1    10.308986\n",
       "2    10.308986\n",
       "3    10.221977\n",
       "4    10.126671\n",
       "5    10.126671\n",
       "6    11.225257\n",
       "7     9.998843\n",
       "8    10.043293\n",
       "Name: Log1pSalary, dtype: float32"
      ]
     },
     "execution_count": 43,
     "metadata": {},
     "output_type": "execute_result"
    }
   ],
   "source": [
    "data['Log1pSalary'].head(9)"
   ]
  },
  {
   "cell_type": "markdown",
   "metadata": {},
   "source": [
    "### Bonus part: explaining model predictions\n",
    "\n",
    "It's usually a good idea to understand how your model works before you let it make actual decisions. It's simple for linear models: just see which words learned positive or negative weights. However, its much harder for neural networks that learn complex nonlinear dependencies.\n",
    "\n",
    "There are, however, some ways to look inside the black box:\n",
    "* Seeing how model responds to input perturbations\n",
    "* Finding inputs that maximize/minimize activation of some chosen neurons (_read more [on distill.pub](https://distill.pub/2018/building-blocks/)_)\n",
    "* Building local linear approximations to your neural network: [article](https://arxiv.org/abs/1602.04938), [eli5 library](https://github.com/TeamHG-Memex/eli5/tree/master/eli5/formatters)\n",
    "\n",
    "Today we gonna try the first method just because it's the simplest one."
   ]
  },
  {
   "cell_type": "code",
   "execution_count": 34,
   "metadata": {},
   "outputs": [
    {
     "data": {
      "text/plain": [
       "10"
      ]
     },
     "execution_count": 34,
     "metadata": {},
     "output_type": "execute_result"
    }
   ],
   "source": [
    "5+5"
   ]
  },
  {
   "cell_type": "code",
   "execution_count": 35,
   "metadata": {},
   "outputs": [],
   "source": [
    "def explain(model, sample, col_name='Title'):\n",
    "    \"\"\" Computes the effect each word had on model predictions \"\"\"\n",
    "    sample = dict(sample)\n",
    "    sample_col_tokens = [tokens[token_to_id.get(tok, 0)] for tok in sample[col_name].split()]\n",
    "    data_drop_one_token = pd.DataFrame([sample] * (len(sample_col_tokens) + 1))\n",
    "\n",
    "    for drop_i in range(len(sample_col_tokens)):\n",
    "        data_drop_one_token.loc[drop_i, col_name] = ' '.join(UNK if i == drop_i else tok\n",
    "                                                   for i, tok in enumerate(sample_col_tokens)) \n",
    "\n",
    "    *predictions_drop_one_token, baseline_pred = model.predict(make_batch(data_drop_one_token))[:, 0]\n",
    "    diffs = baseline_pred - predictions_drop_one_token\n",
    "    return list(zip(sample_col_tokens, diffs))"
   ]
  },
  {
   "cell_type": "code",
   "execution_count": 36,
   "metadata": {},
   "outputs": [],
   "source": [
    "from IPython.display import HTML, display_html\n",
    "\n",
    "def draw_html(tokens_and_weights, cmap=plt.get_cmap(\"bwr\"), display=True,\n",
    "              token_template=\"\"\"<span style=\"background-color: {color_hex}\">{token}</span>\"\"\",\n",
    "              font_style=\"font-size:14px;\"\n",
    "             ):\n",
    "    \n",
    "    def get_color_hex(weight):\n",
    "        rgba = cmap(1. / (1 + np.exp(weight)), bytes=True)\n",
    "        return '#%02X%02X%02X' % rgba[:3]\n",
    "    \n",
    "    tokens_html = [\n",
    "        token_template.format(token=token, color_hex=get_color_hex(weight))\n",
    "        for token, weight in tokens_and_weights\n",
    "    ]\n",
    "    \n",
    "    \n",
    "    raw_html = \"\"\"<p style=\"{}\">{}</p>\"\"\".format(font_style, ' '.join(tokens_html))\n",
    "    if display:\n",
    "        display_html(HTML(raw_html))\n",
    "        \n",
    "    return raw_html\n",
    "    "
   ]
  },
  {
   "cell_type": "code",
   "execution_count": 38,
   "metadata": {},
   "outputs": [
    {
     "data": {
      "text/html": [
       "<p style=\"font-size:20px;\"><span style=\"background-color: #FFDEDE\">sales</span> <span style=\"background-color: #D8D8FF\">specialist</span> <span style=\"background-color: #FFD0D0\">iv</span> <span style=\"background-color: #FFECEC\">access</span> <span style=\"background-color: #FFC6C6\">and</span> <span style=\"background-color: #E8E8FF\">infusion</span></p>"
      ]
     },
     "metadata": {},
     "output_type": "display_data"
    },
    {
     "data": {
      "text/html": [
       "<p style=\"font-size:14px;\"><span style=\"background-color: #FFFEFE\">sales</span> <span style=\"background-color: #FFFEFE\">representative</span> <span style=\"background-color: #FFFEFE\">medical</span> <span style=\"background-color: #FFFEFE\">sales</span> <span style=\"background-color: #FFFEFE\">iv</span> <span style=\"background-color: #FFFEFE\">access</span> <span style=\"background-color: #FFFEFE\">and</span> <span style=\"background-color: #FFFEFE\">infusion</span> <span style=\"background-color: #FFFEFE\">an</span> <span style=\"background-color: #FFFEFE\">opportunity</span> <span style=\"background-color: #FFFEFE\">to</span> <span style=\"background-color: #FFFEFE\">work</span> <span style=\"background-color: #FFFEFE\">for</span> <span style=\"background-color: #FFFEFE\">the</span> <span style=\"background-color: #FFFEFE\">industry</span> <span style=\"background-color: #FFFCFC\">leading</span> <span style=\"background-color: #FFF4F4\">manufacturer</span> <span style=\"background-color: #FFEEEE\">of</span> <span style=\"background-color: #FFFEFE\">iv</span> <span style=\"background-color: #FFFEFE\">access</span> <span style=\"background-color: #FFFAFA\">and</span> <span style=\"background-color: #FFF4F4\">infusion</span> <span style=\"background-color: #FFFCFC\">solutions</span> <span style=\"background-color: #FAFAFF\">.</span> <span style=\"background-color: #ECECFF\">formally</span> <span style=\"background-color: #FEFEFF\">recognised</span> <span style=\"background-color: #FFFEFE\">as</span> <span style=\"background-color: #FFFEFE\">the</span> <span style=\"background-color: #FFFEFE\">number</span> <span style=\"background-color: #FFFEFE\">****</span> <span style=\"background-color: #FFFEFE\">company</span> <span style=\"background-color: #FFF4F4\">in</span> <span style=\"background-color: #F6F6FF\">this</span> <span style=\"background-color: #F8F8FF\">market</span> <span style=\"background-color: #FFFEFE\">space</span> <span style=\"background-color: #FFEEEE\">,</span> <span style=\"background-color: #FFFEFE\">our</span> <span style=\"background-color: #FFFEFE\">client</span> <span style=\"background-color: #FFFEFE\">are</span> <span style=\"background-color: #FFFEFE\">an</span> <span style=\"background-color: #FFFEFE\">ethical</span> <span style=\"background-color: #FFFEFE\">and</span> <span style=\"background-color: #FFFEFE\">dynamic</span> <span style=\"background-color: #FFFEFE\">organisation</span> <span style=\"background-color: #FFFEFE\">absolutely</span> <span style=\"background-color: #FFFEFE\">committed</span> <span style=\"background-color: #FAFAFF\">to</span> <span style=\"background-color: #FAFAFF\">the</span> <span style=\"background-color: #FCFCFF\">advancement</span> <span style=\"background-color: #FCFCFF\">of</span> <span style=\"background-color: #FCFCFF\">innovative</span> <span style=\"background-color: #FCFCFF\">technologies</span> <span style=\"background-color: #FFFEFE\">.</span> <span style=\"background-color: #FCFCFF\">job</span> <span style=\"background-color: #FCFCFF\">title</span> <span style=\"background-color: #FCFCFF\">:</span> <span style=\"background-color: #FFFEFE\">sales</span> <span style=\"background-color: #FFFEFE\">specialist</span> <span style=\"background-color: #FFFEFE\">iv</span> <span style=\"background-color: #FFFEFE\">access</span> <span style=\"background-color: #FFFEFE\">and</span> <span style=\"background-color: #FFFAFA\">infusion</span> <span style=\"background-color: #FFFEFE\">selling</span> <span style=\"background-color: #FFFEFE\">:</span> <span style=\"background-color: #F8F8FF\">medication</span> <span style=\"background-color: #FCFCFF\">delivery</span> <span style=\"background-color: #F8F8FF\">solutions</span> <span style=\"background-color: #FFFEFE\">selling</span> <span style=\"background-color: #FFFEFE\">to</span> <span style=\"background-color: #FFFEFE\">:</span> <span style=\"background-color: #FFFEFE\">iv</span> <span style=\"background-color: #FFFEFE\">teams</span> <span style=\"background-color: #FFFEFE\">,</span> <span style=\"background-color: #FFFEFE\">infection</span> <span style=\"background-color: #FFFEFE\">control</span> <span style=\"background-color: #FFEEEE\">,</span> <span style=\"background-color: #FCFCFF\">lead</span> <span style=\"background-color: #FCFCFF\">intensive</span> <span style=\"background-color: #FFF2F2\">care</span> <span style=\"background-color: #FFFEFE\">nurse</span> <span style=\"background-color: #FFFEFE\">specialists</span> <span style=\"background-color: #FFFEFE\">,</span> <span style=\"background-color: #FFFEFE\">ward</span> <span style=\"background-color: #FFFEFE\">managers</span> <span style=\"background-color: #FFFEFE\">territory</span> <span style=\"background-color: #FFFEFE\">:</span> <span style=\"background-color: #FFFEFE\">east</span> <span style=\"background-color: #FFFEFE\">midlands</span> <span style=\"background-color: #FFFEFE\">location</span> <span style=\"background-color: #FFFEFE\">:</span> <span style=\"background-color: #FFFEFE\">east</span> <span style=\"background-color: #FCFCFF\">midlands</span> <span style=\"background-color: #FEFEFF\">package</span> <span style=\"background-color: #FCFCFF\">:</span> <span style=\"background-color: #FFFCFC\">basic</span> <span style=\"background-color: #FFFEFE\">:</span> <span style=\"background-color: #FFFEFE\">****</span> <span style=\"background-color: #FFFEFE\">k</span> <span style=\"background-color: #FFF6F6\">****</span> <span style=\"background-color: #FFFEFE\">k</span> <span style=\"background-color: #FFF6F6\">,</span> <span style=\"background-color: #FFFEFE\">uncapped</span> <span style=\"background-color: #FFFEFE\">bonus</span> <span style=\"background-color: #FFFEFE\">in</span> <span style=\"background-color: #FFFEFE\">addition</span> <span style=\"background-color: #FFFEFE\">,</span> <span style=\"background-color: #FFFEFE\">full</span> <span style=\"background-color: #FFFEFE\">corporate</span> <span style=\"background-color: #FFFAFA\">benefits</span> <span style=\"background-color: #FFFEFE\">company</span> <span style=\"background-color: #FFF8F8\">information</span> <span style=\"background-color: #FFFEFE\">hugely</span> <span style=\"background-color: #FFFEFE\">ethical</span> <span style=\"background-color: #FEFEFF\">and</span> <span style=\"background-color: #FFF4F4\">professional</span> <span style=\"background-color: #F8F8FF\">global</span> <span style=\"background-color: #FFF6F6\">organisation</span> <span style=\"background-color: #FFF8F8\">extremely</span> <span style=\"background-color: #FFFEFE\">well</span> <span style=\"background-color: #FFFEFE\">established</span> <span style=\"background-color: #FFFEFE\">in</span> <span style=\"background-color: #FFFEFE\">the</span> <span style=\"background-color: #FFFEFE\">uk</span> <span style=\"background-color: #FFFEFE\">the</span> <span style=\"background-color: #FFFEFE\">market</span> <span style=\"background-color: #FFFEFE\">leader</span> <span style=\"background-color: #FFFEFE\">across</span> <span style=\"background-color: #FFFEFE\">all</span> <span style=\"background-color: #FFFEFE\">of</span> <span style=\"background-color: #FFFEFE\">their</span> <span style=\"background-color: #FFFEFE\">core</span> <span style=\"background-color: #FFF0F0\">business</span> <span style=\"background-color: #FFFEFE\">areas</span> <span style=\"background-color: #FFFEFE\">focus</span> <span style=\"background-color: #FFFCFC\">on</span> <span style=\"background-color: #FEFEFF\">providing</span> <span style=\"background-color: #FFF8F8\">cutting</span> <span style=\"background-color: #F0F0FF\">edge</span> <span style=\"background-color: #FCFCFF\">solutions</span> <span style=\"background-color: #FFFEFE\">along</span> <span style=\"background-color: #FFFEFE\">with</span> <span style=\"background-color: #FFFEFE\">outstanding</span> <span style=\"background-color: #FFFEFE\">service</span> <span style=\"background-color: #FFFEFE\">and</span> <span style=\"background-color: #FFFEFE\">support</span> <span style=\"background-color: #FFFEFE\">a</span> <span style=\"background-color: #FFFEFE\">business</span> <span style=\"background-color: #FFFEFE\">that</span> <span style=\"background-color: #FFFEFE\">retain</span> <span style=\"background-color: #FFFEFE\">talented</span> <span style=\"background-color: #FFFEFE\">personnel</span> <span style=\"background-color: #FFFEFE\">by</span> <span style=\"background-color: #FFFEFE\">offering</span> <span style=\"background-color: #FFFEFE\">a</span> <span style=\"background-color: #FFFEFE\">strong</span> <span style=\"background-color: #FFF2F2\">platform</span> <span style=\"background-color: #FFFCFC\">for</span> <span style=\"background-color: #FFFEFE\">career</span> <span style=\"background-color: #FFFEFE\">development</span> <span style=\"background-color: #FFFEFE\">sales</span> <span style=\"background-color: #FFFEFE\">specialist</span> <span style=\"background-color: #FFFEFE\">iv</span> <span style=\"background-color: #FFFEFE\">access</span> <span style=\"background-color: #FFFAFA\">and</span> <span style=\"background-color: #FFFEFE\">infusion</span> <span style=\"background-color: #FFFAFA\">you</span> <span style=\"background-color: #FFFEFE\">must</span> <span style=\"background-color: #FFFEFE\">have</span> <span style=\"background-color: #FFFEFE\">/</span> <span style=\"background-color: #FFFEFE\">be</span> <span style=\"background-color: #FFFEFE\">the</span> <span style=\"background-color: #FFFEFE\">following</span> <span style=\"background-color: #FFFEFE\">at</span> <span style=\"background-color: #FFFEFE\">least</span> <span style=\"background-color: #FFFEFE\">2</span> <span style=\"background-color: #FFFEFE\">years</span> <span style=\"background-color: #FFFEFE\">medical</span> <span style=\"background-color: #FFFEFE\">device</span> <span style=\"background-color: #FFFEFE\">sales</span> <span style=\"background-color: #FFFEFE\">experience</span> <span style=\"background-color: #FFFEFE\">.</span> <span style=\"background-color: #FFFEFE\">candidates</span> <span style=\"background-color: #FFFEFE\">who</span> <span style=\"background-color: #FFFEFE\">have</span> <span style=\"background-color: #FFFEFE\">sold</span> <span style=\"background-color: #FFFEFE\">disposables</span> <span style=\"background-color: #FFFEFE\">/</span> <span style=\"background-color: #FFFEFE\">consumables</span> <span style=\"background-color: #FFFEFE\">or</span> <span style=\"background-color: #FFFEFE\">similar</span> <span style=\"background-color: #FEFEFF\">into</span> <span style=\"background-color: #EAEAFF\">hospitals</span> <span style=\"background-color: #F3F3FF\">would</span> <span style=\"background-color: #F6F6FF\">be</span> <span style=\"background-color: #FFFEFE\">of</span> <span style=\"background-color: #FFFEFE\">particular</span> <span style=\"background-color: #FFFEFE\">interest</span> <span style=\"background-color: #FFFEFE\">.</span> <span style=\"background-color: #FFFAFA\">candidates</span> <span style=\"background-color: #FFFEFE\">must</span> <span style=\"background-color: #FFFEFE\">have</span> <span style=\"background-color: #FFFEFE\">sold</span> <span style=\"background-color: #FFFAFA\">into</span> <span style=\"background-color: #FCFCFF\">hospitals</span> <span style=\"background-color: #FCFCFF\">demonstrable</span> <span style=\"background-color: #FFF8F8\">performance</span> <span style=\"background-color: #FFFEFE\">and</span> <span style=\"background-color: #FFFEFE\">achievements</span> <span style=\"background-color: #FFFEFE\">so</span> <span style=\"background-color: #FFFEFE\">far</span> <span style=\"background-color: #FFFEFE\">personable</span> <span style=\"background-color: #FFFEFE\">,</span> <span style=\"background-color: #FFFEFE\">adaptable</span> <span style=\"background-color: #FFFEFE\">and</span> <span style=\"background-color: #FFFEFE\">willing</span> <span style=\"background-color: #FFFEFE\">to</span> <span style=\"background-color: #FFFEFE\">learn</span> <span style=\"background-color: #FFFEFE\">keen</span> <span style=\"background-color: #FFFEFE\">and</span> <span style=\"background-color: #FFFEFE\">eager</span> <span style=\"background-color: #FFFEFE\">to</span> <span style=\"background-color: #FFFEFE\">be</span> <span style=\"background-color: #FFFEFE\">a</span> <span style=\"background-color: #FFFEFE\">success</span> <span style=\"background-color: #FFFAFA\">candidates</span> <span style=\"background-color: #FFFEFE\">must</span> <span style=\"background-color: #FFFEFE\">have</span> <span style=\"background-color: #FFFEFE\">a</span> <span style=\"background-color: #FFFEFE\">degree</span> <span style=\"background-color: #FFFEFE\">or</span> <span style=\"background-color: #FEFEFF\">at</span> <span style=\"background-color: #FEFEFF\">least</span> <span style=\"background-color: #FEFEFF\">be</span> <span style=\"background-color: #FFFEFE\">able</span> <span style=\"background-color: #FFFEFE\">to</span> <span style=\"background-color: #FFFEFE\">show</span> <span style=\"background-color: #FFFEFE\">a</span> <span style=\"background-color: #FFFEFE\">strong</span> <span style=\"background-color: #FFF2F2\">ability</span> <span style=\"background-color: #FFFEFE\">to</span> <span style=\"background-color: #FFFEFE\">learn</span> <span style=\"background-color: #FAFAFF\">role</span> <span style=\"background-color: #FEFEFF\">information</span> <span style=\"background-color: #FAFAFF\">managing</span> <span style=\"background-color: #FFFEFE\">the</span> <span style=\"background-color: #FFFEFE\">east</span> <span style=\"background-color: #FFFEFE\">midlands</span> <span style=\"background-color: #FFFEFE\">region</span> <span style=\"background-color: #FFF6F6\">selling</span> <span style=\"background-color: #FFEEEE\">across</span> <span style=\"background-color: #FFFEFE\">the</span> <span style=\"background-color: #FFFEFE\">company</span> <span style=\"background-color: #FFFEFE\">'</span> <span style=\"background-color: #FFFEFE\">s</span> <span style=\"background-color: #FFFEFE\">range</span> <span style=\"background-color: #FFFEFE\">of</span> <span style=\"background-color: #FFFEFE\">iv</span> <span style=\"background-color: #FFFAFA\">and</span> <span style=\"background-color: #FFF4F4\">infusion</span> <span style=\"background-color: #FCFCFF\">solutions</span> <span style=\"background-color: #FCFCFF\">portfolio</span> <span style=\"background-color: #FCFCFF\">selling</span> <span style=\"background-color: #FFF4F4\">into</span> <span style=\"background-color: #F8F8FF\">lead</span> <span style=\"background-color: #FEFEFF\">intensive</span> <span style=\"background-color: #FFF2F2\">care</span> <span style=\"background-color: #FFFEFE\">nurse</span> <span style=\"background-color: #FFFEFE\">specialists</span> <span style=\"background-color: #FFFEFE\">,</span> <span style=\"background-color: #FFFEFE\">ward</span> <span style=\"background-color: #FFFEFE\">managers</span> <span style=\"background-color: #FFFEFE\">,</span> <span style=\"background-color: #FFFEFE\">iv</span> <span style=\"background-color: #FFFEFE\">teams</span> <span style=\"background-color: #FFFEFE\">,</span> <span style=\"background-color: #FFF8F8\">infection</span> <span style=\"background-color: #FFFEFE\">control</span> <span style=\"background-color: #FFFEFE\">teams</span> <span style=\"background-color: #FFFEFE\">,</span> <span style=\"background-color: #FCFCFF\">procurement</span> <span style=\"background-color: #FCFCFF\">sales</span> <span style=\"background-color: #FFFEFE\">specialist</span> <span style=\"background-color: #FFFEFE\">iv</span> <span style=\"background-color: #FFFEFE\">access</span> <span style=\"background-color: #FFFAFA\">and</span> <span style=\"background-color: #FFFCFC\">infusion</span> <span style=\"background-color: #FFFEFE\">candidates</span> <span style=\"background-color: #FFFEFE\">must</span> <span style=\"background-color: #FFFEFE\">be</span> <span style=\"background-color: #FFFEFE\">eligible</span> <span style=\"background-color: #FFFEFE\">to</span> <span style=\"background-color: #FFFEFE\">work</span> <span style=\"background-color: #FEFEFF\">and</span> <span style=\"background-color: #FFEEEE\">live</span> <span style=\"background-color: #FEFEFF\">in</span> <span style=\"background-color: #FFFEFE\">the</span> <span style=\"background-color: #FFFEFE\">uk</span> <span style=\"background-color: #FFFEFE\">.</span> <span style=\"background-color: #FFFEFE\">please</span> <span style=\"background-color: #FFFEFE\">contact</span> <span style=\"background-color: #FFF6F6\">allan</span> <span style=\"background-color: #FFFEFE\">waller</span> <span style=\"background-color: #FFFEFE\">on</span> <span style=\"background-color: #FFFEFE\">****</span> <span style=\"background-color: #FFF0F0\">****</span> <span style=\"background-color: #FFFCFC\">****</span> <span style=\"background-color: #FFFEFE\">or</span> <span style=\"background-color: #FFFEFE\">please</span> <span style=\"background-color: #FFFEFE\">hit</span> <span style=\"background-color: #FFFEFE\">the</span> <span style=\"background-color: #FFFEFE\">apply</span> <span style=\"background-color: #FEFEFF\">button</span> <span style=\"background-color: #FEFEFF\">.</span> <span style=\"background-color: #FFFCFC\">this</span> <span style=\"background-color: #FFFEFE\">job</span> <span style=\"background-color: #FFFEFE\">was</span> <span style=\"background-color: #FFFEFE\">originally</span> <span style=\"background-color: #FFFEFE\">posted</span> <span style=\"background-color: #FFFEFE\">as</span> <span style=\"background-color: #FFFEFE\">www</span> <span style=\"background-color: #FFFEFE\">.</span> <span style=\"background-color: #FEFEFF\">salestarget</span> <span style=\"background-color: #F8F8FF\">.</span> <span style=\"background-color: #FCFCFF\">co</span> <span style=\"background-color: #FFFCFC\">.</span> <span style=\"background-color: #FFFEFE\">uk</span> <span style=\"background-color: #FFFEFE\">/</span> <span style=\"background-color: #FFFEFE\">jobseeking</span> <span style=\"background-color: #FFFCFC\">/</span> <span style=\"background-color: #FFFEFE\">UNK</span> <span style=\"background-color: #FFFEFE\">****</span></p>"
      ]
     },
     "metadata": {},
     "output_type": "display_data"
    }
   ],
   "source": [
    "i = 36605\n",
    "tokens_and_weights = explain(model, data.loc[i], \"Title\")\n",
    "draw_html([(tok, weight * 5) for tok, weight in tokens_and_weights], font_style='font-size:20px;');\n",
    "\n",
    "tokens_and_weights = explain(model, data.loc[i], \"FullDescription\")\n",
    "draw_html([(tok, weight * 10) for tok, weight in tokens_and_weights]);"
   ]
  },
  {
   "cell_type": "code",
   "execution_count": 39,
   "metadata": {},
   "outputs": [
    {
     "data": {
      "text/html": [
       "<p style=\"font-size:20px;\"><span style=\"background-color: #FF1C1C\">cleaning</span> <span style=\"background-color: #FF3434\">operative</span></p>"
      ]
     },
     "metadata": {},
     "output_type": "display_data"
    },
    {
     "data": {
      "text/html": [
       "<p style=\"font-size:14px;\"><span style=\"background-color: #FFEEEE\">12</span> <span style=\"background-color: #F3F3FF\">.</span> <span style=\"background-color: #F0F0FF\">5</span> <span style=\"background-color: #FFE8E8\">hours</span> <span style=\"background-color: #FEFEFF\">per</span> <span style=\"background-color: #FFF4F4\">week</span> <span style=\"background-color: #FFECEC\">monday</span> <span style=\"background-color: #FFFCFC\">friday</span> <span style=\"background-color: #FFFEFE\">9am</span> <span style=\"background-color: #FFFEFE\">11</span> <span style=\"background-color: #FFFEFE\">.</span> <span style=\"background-color: #FFFCFC\">30am</span> <span style=\"background-color: #FCFCFF\">duties</span> <span style=\"background-color: #FFF8F8\">to</span> <span style=\"background-color: #F3F3FF\">include</span> <span style=\"background-color: #FFF2F2\">sweeping</span> <span style=\"background-color: #E3E3FF\">,</span> <span style=\"background-color: #D6D6FF\">mopping</span> <span style=\"background-color: #EEEEFF\">,</span> <span style=\"background-color: #E0E0FF\">vacuuming</span> <span style=\"background-color: #FFEEEE\">,</span> <span style=\"background-color: #FFF4F4\">buffing</span> <span style=\"background-color: #FFF8F8\">,</span> <span style=\"background-color: #FFFCFC\">cleaning</span> <span style=\"background-color: #FFE4E4\">staff</span> <span style=\"background-color: #FFFEFE\">toilets</span> <span style=\"background-color: #FFFEFE\">and</span> <span style=\"background-color: #FEFEFF\">rest</span> <span style=\"background-color: #FFF8F8\">room</span> <span style=\"background-color: #E6E6FF\">.</span> <span style=\"background-color: #E8E8FF\">must</span> <span style=\"background-color: #F8F8FF\">be</span> <span style=\"background-color: #FFE8E8\">able</span> <span style=\"background-color: #FFFEFE\">to</span> <span style=\"background-color: #FFF6F6\">read</span> <span style=\"background-color: #FFFEFE\">as</span> <span style=\"background-color: #FFFEFE\">they</span> <span style=\"background-color: #E0E0FF\">will</span> <span style=\"background-color: #FFFCFC\">be</span> <span style=\"background-color: #FFFAFA\">using</span> <span style=\"background-color: #FFFEFE\">UNK</span> <span style=\"background-color: #FFF8F8\">which</span> <span style=\"background-color: #FFFAFA\">need</span> <span style=\"background-color: #FFFEFE\">UNK</span> <span style=\"background-color: #FFF8F8\">as</span> <span style=\"background-color: #FCFCFF\">per</span> <span style=\"background-color: #FFE4E4\">instructions</span> <span style=\"background-color: #FFFAFA\">on</span> <span style=\"background-color: #FFFAFA\">the</span> <span style=\"background-color: #FFC8C8\">containers</span> <span style=\"background-color: #FFFEFE\">.</span> <span style=\"background-color: #FFE6E6\">sucessfull</span> <span style=\"background-color: #FCFCFF\">applicants</span> <span style=\"background-color: #FFEAEA\">will</span> <span style=\"background-color: #FEFEFF\">be</span> <span style=\"background-color: #FFF6F6\">trained</span> <span style=\"background-color: #FFFEFE\">on</span> <span style=\"background-color: #FFF4F4\">all</span> <span style=\"background-color: #FFE0E0\">electrical</span> <span style=\"background-color: #FFFEFE\">appliances</span> <span style=\"background-color: #E8E8FF\">and</span> <span style=\"background-color: #FFFEFE\">UNK</span> <span style=\"background-color: #F2F2FF\">of</span> <span style=\"background-color: #E3E3FF\">cleaning</span> <span style=\"background-color: #FFF4F4\">materials</span> <span style=\"background-color: #F8F8FF\">.</span></p>"
      ]
     },
     "metadata": {},
     "output_type": "display_data"
    }
   ],
   "source": [
    "i = 12077\n",
    "tokens_and_weights = explain(model, data.loc[i], \"Title\")\n",
    "draw_html([(tok, weight * 5) for tok, weight in tokens_and_weights], font_style='font-size:20px;');\n",
    "\n",
    "tokens_and_weights = explain(model, data.loc[i], \"FullDescription\")\n",
    "draw_html([(tok, weight * 10) for tok, weight in tokens_and_weights]);"
   ]
  },
  {
   "cell_type": "code",
   "execution_count": 40,
   "metadata": {},
   "outputs": [
    {
     "name": "stdout",
     "output_type": "stream",
     "text": [
      "Index: 107330\n",
      "Salary (gbp): 5520.7827\n"
     ]
    },
    {
     "data": {
      "text/html": [
       "<p style=\"font-size:20px;\"><span style=\"background-color: #FFF0F0\">sales</span> <span style=\"background-color: #FF4040\">administrator</span></p>"
      ]
     },
     "metadata": {},
     "output_type": "display_data"
    },
    {
     "data": {
      "text/html": [
       "<p style=\"font-size:14px;\"><span style=\"background-color: #FFFEFE\">we</span> <span style=\"background-color: #FFFEFE\">are</span> <span style=\"background-color: #FFFEFE\">looking</span> <span style=\"background-color: #E3E3FF\">for</span> <span style=\"background-color: #C8C8FF\">an</span> <span style=\"background-color: #BABAFF\">experienced</span> <span style=\"background-color: #FFE8E8\">sales</span> <span style=\"background-color: #FFFCFC\">administrator</span> <span style=\"background-color: #FFFEFE\">(</span> <span style=\"background-color: #FFFEFE\">this</span> <span style=\"background-color: #FFFAFA\">will</span> <span style=\"background-color: #FEFEFF\">be</span> <span style=\"background-color: #FEFEFF\">a</span> <span style=\"background-color: #FEFEFF\">permanent</span> <span style=\"background-color: #FFFEFE\">job</span> <span style=\"background-color: #FFF8F8\">)</span> <span style=\"background-color: #FFFEFE\">for</span> <span style=\"background-color: #FFFCFC\">our</span> <span style=\"background-color: #FFFEFE\">client</span> <span style=\"background-color: #FFFEFE\">within</span> <span style=\"background-color: #FFFEFE\">the</span> <span style=\"background-color: #FFF8F8\">manufacturing</span> <span style=\"background-color: #FFFEFE\">industry</span> <span style=\"background-color: #FFF8F8\">in</span> <span style=\"background-color: #FFFEFE\">doncaster</span> <span style=\"background-color: #FFFEFE\">.</span> <span style=\"background-color: #FFF0F0\">this</span> <span style=\"background-color: #FFFEFE\">role</span> <span style=\"background-color: #FFFEFE\">has</span> <span style=\"background-color: #FFFCFC\">arisen</span> <span style=\"background-color: #FFFEFE\">due</span> <span style=\"background-color: #FEFEFF\">to</span> <span style=\"background-color: #FFFAFA\">an</span> <span style=\"background-color: #FFFAFA\">internal</span> <span style=\"background-color: #FFFEFE\">promotion</span> <span style=\"background-color: #FFFEFE\">.</span> <span style=\"background-color: #FFFEFE\">you</span> <span style=\"background-color: #EAEAFF\">will</span> <span style=\"background-color: #EAEAFF\">basically</span> <span style=\"background-color: #FFE8E8\">take</span> <span style=\"background-color: #FFFEFE\">the</span> <span style=\"background-color: #FFFEFE\">order</span> <span style=\"background-color: #FFFEFE\">from</span> <span style=\"background-color: #FFFEFE\">the</span> <span style=\"background-color: #FFFEFE\">customer</span> <span style=\"background-color: #FFFEFE\">over</span> <span style=\"background-color: #FFFEFE\">the</span> <span style=\"background-color: #FFFEFE\">phone</span> <span style=\"background-color: #FFFEFE\">and</span> <span style=\"background-color: #FFFAFA\">follow</span> <span style=\"background-color: #FFF6F6\">it</span> <span style=\"background-color: #FFFEFE\">right</span> <span style=\"background-color: #FFFAFA\">through</span> <span style=\"background-color: #FFF2F2\">to</span> <span style=\"background-color: #FAFAFF\">delivery</span> <span style=\"background-color: #F2F2FF\">,</span> <span style=\"background-color: #FFE2E2\">answering</span> <span style=\"background-color: #FFFEFE\">all</span> <span style=\"background-color: #FFFEFE\">questions</span> <span style=\"background-color: #FFFEFE\">and</span> <span style=\"background-color: #FFECEC\">queries</span> <span style=\"background-color: #FFFEFE\">along</span> <span style=\"background-color: #FFFEFE\">the</span> <span style=\"background-color: #FFFEFE\">way</span> <span style=\"background-color: #FFFEFE\">.</span> <span style=\"background-color: #FFFEFE\">we</span> <span style=\"background-color: #FFFEFE\">are</span> <span style=\"background-color: #FFF4F4\">looking</span> <span style=\"background-color: #FFFEFE\">for</span> <span style=\"background-color: #FFF6F6\">someone</span> <span style=\"background-color: #FFF8F8\">who</span> <span style=\"background-color: #FFFEFE\">has</span> <span style=\"background-color: #FFFCFC\">a</span> <span style=\"background-color: #FFFEFE\">proactive</span> <span style=\"background-color: #FFFEFE\">approach</span> <span style=\"background-color: #FFFEFE\">,</span> <span style=\"background-color: #FFE6E6\">this</span> <span style=\"background-color: #FFFEFE\">is</span> <span style=\"background-color: #FFF8F8\">not</span> <span style=\"background-color: #FFFEFE\">a</span> <span style=\"background-color: #FFECEC\">sales</span> <span style=\"background-color: #FFFEFE\">role</span> <span style=\"background-color: #FFFEFE\">but</span> <span style=\"background-color: #FEFEFF\">you</span> <span style=\"background-color: #FEFEFF\">will</span> <span style=\"background-color: #FEFEFF\">be</span> <span style=\"background-color: #FFFEFE\">expected</span> <span style=\"background-color: #FFFAFA\">to</span> <span style=\"background-color: #FFF2F2\">call</span> <span style=\"background-color: #FFFEFE\">existing</span> <span style=\"background-color: #FFFEFE\">customers</span> <span style=\"background-color: #FFFEFE\">who</span> <span style=\"background-color: #FFFEFE\">haven</span> <span style=\"background-color: #FFFCFC\">'</span> <span style=\"background-color: #FFFEFE\">t</span> <span style=\"background-color: #FFFEFE\">placed</span> <span style=\"background-color: #FFFEFE\">an</span> <span style=\"background-color: #FFFEFE\">order</span> <span style=\"background-color: #FEFEFF\">in</span> <span style=\"background-color: #FEFEFF\">some</span> <span style=\"background-color: #FEFEFF\">time</span> <span style=\"background-color: #FFFEFE\">to</span> <span style=\"background-color: #FFFEFE\">see</span> <span style=\"background-color: #FFEEEE\">if</span> <span style=\"background-color: #FFFEFE\">there</span> <span style=\"background-color: #FFFEFE\">is</span> <span style=\"background-color: #FFFEFE\">anything</span> <span style=\"background-color: #FFFEFE\">you</span> <span style=\"background-color: #FFF8F8\">can</span> <span style=\"background-color: #FFFEFE\">help</span> <span style=\"background-color: #FCFCFF\">with</span> <span style=\"background-color: #FFF8F8\">.</span> <span style=\"background-color: #FCFCFF\">if</span> <span style=\"background-color: #FFECEC\">you</span> <span style=\"background-color: #FFFEFE\">have</span> <span style=\"background-color: #D8D8FF\">used</span> <span style=\"background-color: #DEDEFF\">sap</span> <span style=\"background-color: #FFEEEE\">in</span> <span style=\"background-color: #FFFEFE\">previous</span> <span style=\"background-color: #FFFAFA\">roles</span> <span style=\"background-color: #FFFEFE\">this</span> <span style=\"background-color: #FFFEFE\">will</span> <span style=\"background-color: #FFFEFE\">be</span> <span style=\"background-color: #FFFEFE\">advantageous</span> <span style=\"background-color: #FFFEFE\">however</span> <span style=\"background-color: #FAFAFF\">training</span> <span style=\"background-color: #FAFAFF\">will</span> <span style=\"background-color: #FFF8F8\">be</span> <span style=\"background-color: #FFFEFE\">given</span> <span style=\"background-color: #FFFEFE\">.</span> <span style=\"background-color: #FFFEFE\">we</span> <span style=\"background-color: #FFFEFE\">are</span> <span style=\"background-color: #FFF6F6\">looking</span> <span style=\"background-color: #EEEEFF\">for</span> <span style=\"background-color: #ECECFF\">a</span> <span style=\"background-color: #FFFAFA\">confident</span> <span style=\"background-color: #FFFEFE\">,</span> <span style=\"background-color: #FFFAFA\">efficient</span> <span style=\"background-color: #FFFEFE\">and</span> <span style=\"background-color: #FFD6D6\">organised</span> <span style=\"background-color: #FFFEFE\">team</span> <span style=\"background-color: #FFFEFE\">player</span> <span style=\"background-color: #FAFAFF\">.</span> <span style=\"background-color: #F3F3FF\">please</span> <span style=\"background-color: #F3F3FF\">send</span> <span style=\"background-color: #FCFCFF\">your</span> <span style=\"background-color: #FFF8F8\">cv</span> <span style=\"background-color: #FFFEFE\">by</span> <span style=\"background-color: #FFFEFE\">email</span> <span style=\"background-color: #FFFCFC\">or</span> <span style=\"background-color: #FFFEFE\">call</span> <span style=\"background-color: #FFF4F4\">the</span> <span style=\"background-color: #FFFEFE\">office</span> <span style=\"background-color: #FFFEFE\">you</span> <span style=\"background-color: #FFFEFE\">have</span> <span style=\"background-color: #FFFEFE\">any</span> <span style=\"background-color: #FFFEFE\">questions</span> <span style=\"background-color: #FFFAFA\">about</span> <span style=\"background-color: #FFEEEE\">the</span> <span style=\"background-color: #FCFCFF\">position</span> <span style=\"background-color: #FFF8F8\">.</span> <span style=\"background-color: #FEFEFF\">hays</span> <span style=\"background-color: #FFF8F8\">specialist</span> <span style=\"background-color: #FFFAFA\">recruitment</span> <span style=\"background-color: #FFF6F6\">limited</span> <span style=\"background-color: #FFFCFC\">acts</span> <span style=\"background-color: #FAFAFF\">as</span> <span style=\"background-color: #F6F6FF\">an</span> <span style=\"background-color: #FFF6F6\">employment</span> <span style=\"background-color: #FFFEFE\">agency</span> <span style=\"background-color: #FFFEFE\">for</span> <span style=\"background-color: #FFFEFE\">permanent</span> <span style=\"background-color: #FFFEFE\">recruitment</span> <span style=\"background-color: #FFEAEA\">and</span> <span style=\"background-color: #FFE8E8\">employment</span> <span style=\"background-color: #FFEAEA\">business</span> <span style=\"background-color: #FFFEFE\">for</span> <span style=\"background-color: #FFFEFE\">the</span> <span style=\"background-color: #FFFEFE\">supply</span> <span style=\"background-color: #FFFEFE\">of</span> <span style=\"background-color: #FFFEFE\">temporary</span> <span style=\"background-color: #F3F3FF\">workers</span> <span style=\"background-color: #FEFEFF\">.</span> <span style=\"background-color: #FEFEFF\">by</span> <span style=\"background-color: #FFF2F2\">applying</span> <span style=\"background-color: #FFFEFE\">for</span> <span style=\"background-color: #FFFEFE\">this</span> <span style=\"background-color: #FFFEFE\">job</span> <span style=\"background-color: #FFFEFE\">you</span> <span style=\"background-color: #FFFEFE\">accept</span> <span style=\"background-color: #FFF0F0\">the</span> <span style=\"background-color: #FFFEFE\">t</span> <span style=\"background-color: #FFFEFE\">c</span> <span style=\"background-color: #F6F6FF\">'</span> <span style=\"background-color: #F6F6FF\">s</span> <span style=\"background-color: #F8F8FF\">,</span> <span style=\"background-color: #FAFAFF\">privacy</span> <span style=\"background-color: #FAFAFF\">policy</span> <span style=\"background-color: #E8E8FF\">and</span> <span style=\"background-color: #F6F6FF\">disclaimers</span> <span style=\"background-color: #E3E3FF\">which</span> <span style=\"background-color: #FEFEFF\">can</span> <span style=\"background-color: #FFF8F8\">be</span> <span style=\"background-color: #FFF8F8\">found</span> <span style=\"background-color: #FFF8F8\">at</span> <span style=\"background-color: #FFFEFE\">hays</span> <span style=\"background-color: #FFFEFE\">.</span> <span style=\"background-color: #FFF8F8\">co</span> <span style=\"background-color: #FFFEFE\">.</span> <span style=\"background-color: #FFFEFE\">uk</span> <span style=\"background-color: #FFFAFA\">this</span> <span style=\"background-color: #FFFEFE\">job</span> <span style=\"background-color: #FFFCFC\">was</span> <span style=\"background-color: #FFFCFC\">originally</span> <span style=\"background-color: #FCFCFF\">posted</span> <span style=\"background-color: #FFFEFE\">as</span> <span style=\"background-color: #FFFEFE\">www</span> <span style=\"background-color: #FFF8F8\">.</span> <span style=\"background-color: #FFFCFC\">totaljobs</span> <span style=\"background-color: #FFFEFE\">.</span> <span style=\"background-color: #FFEAEA\">com</span> <span style=\"background-color: #FFFEFE\">/</span> <span style=\"background-color: #FFFEFE\">jobseeking</span> <span style=\"background-color: #FFEAEA\">/</span> <span style=\"background-color: #FCFCFF\">salesadministrator_job</span> <span style=\"background-color: #FCFCFF\">****</span></p>"
      ]
     },
     "metadata": {},
     "output_type": "display_data"
    }
   ],
   "source": [
    "i = np.random.randint(len(data))\n",
    "print(\"Index:\", i)\n",
    "print(\"Salary (gbp):\", np.expm1(model.predict(make_batch(data.iloc[i: i+1]))[0, 0]))\n",
    "\n",
    "tokens_and_weights = explain(model, data.loc[i], \"Title\")\n",
    "draw_html([(tok, weight * 5) for tok, weight in tokens_and_weights], font_style='font-size:20px;');\n",
    "\n",
    "tokens_and_weights = explain(model, data.loc[i], \"FullDescription\")\n",
    "draw_html([(tok, weight * 10) for tok, weight in tokens_and_weights]);"
   ]
  },
  {
   "cell_type": "code",
   "execution_count": 41,
   "metadata": {},
   "outputs": [
    {
     "name": "stdout",
     "output_type": "stream",
     "text": [
      "Index: 8147\n",
      "Salary (gbp): 23426.36\n"
     ]
    },
    {
     "data": {
      "text/html": [
       "<p style=\"font-size:20px;\"><span style=\"background-color: #E8E8FF\">php</span> <span style=\"background-color: #C2C2FF\">developer</span> <span style=\"background-color: #FFC6C6\">/</span> <span style=\"background-color: #F6F6FF\">mysql</span> <span style=\"background-color: #FFCACA\">loughborough</span> <span style=\"background-color: #FCFCFF\">****</span> <span style=\"background-color: #FFF8F8\">k</span></p>"
      ]
     },
     "metadata": {},
     "output_type": "display_data"
    },
    {
     "data": {
      "text/html": [
       "<p style=\"font-size:14px;\"><span style=\"background-color: #FFFEFE\">php</span> <span style=\"background-color: #FFF4F4\">developer</span> <span style=\"background-color: #F6F6FF\">/</span> <span style=\"background-color: #FFFCFC\">mysql</span> <span style=\"background-color: #FFFEFE\">loughborough</span> <span style=\"background-color: #FFFEFE\">****</span> <span style=\"background-color: #FFF0F0\">k</span> <span style=\"background-color: #FFFEFE\">greywood</span> <span style=\"background-color: #FFFEFE\">associates</span> <span style=\"background-color: #FFFCFC\">are</span> <span style=\"background-color: #FFFAFA\">delighted</span> <span style=\"background-color: #FFFEFE\">to</span> <span style=\"background-color: #FFFEFE\">be</span> <span style=\"background-color: #FFFEFE\">working</span> <span style=\"background-color: #FFFEFE\">in</span> <span style=\"background-color: #FFFEFE\">partnership</span> <span style=\"background-color: #FEFEFF\">with</span> <span style=\"background-color: #FEFEFF\">a</span> <span style=\"background-color: #FFFCFC\">market</span> <span style=\"background-color: #FAFAFF\">leading</span> <span style=\"background-color: #FEFEFF\">company</span> <span style=\"background-color: #FCFCFF\">based</span> <span style=\"background-color: #FFF8F8\">in</span> <span style=\"background-color: #FFFEFE\">loughborough</span> <span style=\"background-color: #FFFEFE\">,</span> <span style=\"background-color: #FFFEFE\">easily</span> <span style=\"background-color: #FFFEFE\">commutable</span> <span style=\"background-color: #FFFEFE\">from</span> <span style=\"background-color: #FFFEFE\">leicester</span> <span style=\"background-color: #FFFEFE\">,</span> <span style=\"background-color: #FFFEFE\">nottingham</span> <span style=\"background-color: #FFFEFE\">derby</span> <span style=\"background-color: #FEFEFF\">,</span> <span style=\"background-color: #FFF0F0\">who</span> <span style=\"background-color: #FEFEFF\">urgently</span> <span style=\"background-color: #FFFAFA\">require</span> <span style=\"background-color: #FFFEFE\">a</span> <span style=\"background-color: #FFFEFE\">talented</span> <span style=\"background-color: #FFFEFE\">midlevel</span> <span style=\"background-color: #FFFEFE\">php</span> <span style=\"background-color: #FEFEFF\">developer</span> <span style=\"background-color: #FFF6F6\">to</span> <span style=\"background-color: #FEFEFF\">join</span> <span style=\"background-color: #FFFEFE\">their</span> <span style=\"background-color: #FFFEFE\">team</span> <span style=\"background-color: #FFF6F6\">.</span> <span style=\"background-color: #FFFEFE\">a</span> <span style=\"background-color: #FFFEFE\">technically</span> <span style=\"background-color: #FFFEFE\">challenging</span> <span style=\"background-color: #FFFEFE\">role</span> <span style=\"background-color: #FFFEFE\">you</span> <span style=\"background-color: #FAFAFF\">will</span> <span style=\"background-color: #FFFAFA\">be</span> <span style=\"background-color: #FFFCFC\">using</span> <span style=\"background-color: #ECECFF\">cutting</span> <span style=\"background-color: #ECECFF\">edge</span> <span style=\"background-color: #FCFCFF\">technology</span> <span style=\"background-color: #F6F6FF\">to</span> <span style=\"background-color: #F6F6FF\">expand</span> <span style=\"background-color: #FFFAFA\">the</span> <span style=\"background-color: #FFFEFE\">functionality</span> <span style=\"background-color: #FFFEFE\">of</span> <span style=\"background-color: #FFFEFE\">the</span> <span style=\"background-color: #FFFEFE\">websites</span> <span style=\"background-color: #FFFEFE\">and</span> <span style=\"background-color: #FFFEFE\">in</span> <span style=\"background-color: #FFFEFE\">house</span> <span style=\"background-color: #FFFEFE\">systems</span> <span style=\"background-color: #FFFCFC\">as</span> <span style=\"background-color: #FFFCFC\">well</span> <span style=\"background-color: #FFFEFE\">as</span> <span style=\"background-color: #DEDEFF\">delivering</span> <span style=\"background-color: #FFF4F4\">new</span> <span style=\"background-color: #DADAFF\">projects</span> <span style=\"background-color: #FFFEFE\">in</span> <span style=\"background-color: #FFFEFE\">the</span> <span style=\"background-color: #FFFAFA\">future</span> <span style=\"background-color: #FAFAFF\">.</span> <span style=\"background-color: #FAFAFF\">the</span> <span style=\"background-color: #FFFEFE\">company</span> <span style=\"background-color: #FFFEFE\">systems</span> <span style=\"background-color: #FFFEFE\">are</span> <span style=\"background-color: #FFFEFE\">responsible</span> <span style=\"background-color: #FFFEFE\">for</span> <span style=\"background-color: #FFFEFE\">over</span> <span style=\"background-color: #FFFEFE\">****</span> <span style=\"background-color: #FFFEFE\">bookings</span> <span style=\"background-color: #FFFEFE\">per</span> <span style=\"background-color: #FFFEFE\">annum</span> <span style=\"background-color: #FFFEFE\">and</span> <span style=\"background-color: #FFFEFE\">therefore</span> <span style=\"background-color: #ECECFF\">a</span> <span style=\"background-color: #E3E3FF\">proven</span> <span style=\"background-color: #D6D6FF\">background</span> <span style=\"background-color: #E3E3FF\">delivering</span> <span style=\"background-color: #F3F3FF\">robust</span> <span style=\"background-color: #FFECEC\">code</span> <span style=\"background-color: #FFFEFE\">is</span> <span style=\"background-color: #FFFEFE\">essential</span> <span style=\"background-color: #FFFEFE\">this</span> <span style=\"background-color: #FFFEFE\">organisation</span> <span style=\"background-color: #FFFEFE\">is</span> <span style=\"background-color: #FFFEFE\">hugely</span> <span style=\"background-color: #FFFCFC\">successful</span> <span style=\"background-color: #FFFEFE\">and</span> <span style=\"background-color: #FFFEFE\">enjoying</span> <span style=\"background-color: #FFFEFE\">unprecedented</span> <span style=\"background-color: #FFFEFE\">growth</span> <span style=\"background-color: #FFFEFE\">who</span> <span style=\"background-color: #FFFEFE\">will</span> <span style=\"background-color: #FFFEFE\">offer</span> <span style=\"background-color: #FFFEFE\">the</span> <span style=\"background-color: #FFFEFE\">successful</span> <span style=\"background-color: #FFFEFE\">applicant</span> <span style=\"background-color: #FFFEFE\">a</span> <span style=\"background-color: #FFFEFE\">progressive</span> <span style=\"background-color: #FFFEFE\">working</span> <span style=\"background-color: #FFFEFE\">atmosphere</span> <span style=\"background-color: #FFFEFE\">where</span> <span style=\"background-color: #FFFEFE\">you</span> <span style=\"background-color: #FFFEFE\">will</span> <span style=\"background-color: #FFFEFE\">be</span> <span style=\"background-color: #FFFEFE\">given</span> <span style=\"background-color: #FFFEFE\">the</span> <span style=\"background-color: #FFFEFE\">opportunity</span> <span style=\"background-color: #FFFEFE\">to</span> <span style=\"background-color: #FFFEFE\">enhance</span> <span style=\"background-color: #FFFEFE\">your</span> <span style=\"background-color: #FFFEFE\">career</span> <span style=\"background-color: #FFFEFE\">in</span> <span style=\"background-color: #FFFEFE\">a</span> <span style=\"background-color: #FFFEFE\">fast</span> <span style=\"background-color: #FFFEFE\">paced</span> <span style=\"background-color: #FFF8F8\">environment</span> <span style=\"background-color: #FFFEFE\">.</span> <span style=\"background-color: #FFFEFE\">requirements</span> <span style=\"background-color: #FFFEFE\">:</span> <span style=\"background-color: #FFFEFE\">exceptional</span> <span style=\"background-color: #FFFEFE\">php</span> <span style=\"background-color: #FFFEFE\">****</span> <span style=\"background-color: #FFFEFE\">skills</span> <span style=\"background-color: #FEFEFF\">and</span> <span style=\"background-color: #FEFEFF\">familiar</span> <span style=\"background-color: #FFFEFE\">working</span> <span style=\"background-color: #FFFCFC\">in</span> <span style=\"background-color: #FEFEFF\">a</span> <span style=\"background-color: #FEFEFF\">lamp</span> <span style=\"background-color: #FFFEFE\">environment</span> <span style=\"background-color: #FFFEFE\">knowledge</span> <span style=\"background-color: #FCFCFF\">of</span> <span style=\"background-color: #FCFCFF\">mysql</span> <span style=\"background-color: #FCFCFF\">at</span> <span style=\"background-color: #FAFAFF\">least</span> <span style=\"background-color: #FFEAEA\">two</span> <span style=\"background-color: #FFFCFC\">years</span> <span style=\"background-color: #FCFCFF\">commercial</span> <span style=\"background-color: #FFF0F0\">experience</span> <span style=\"background-color: #FAFAFF\">in</span> <span style=\"background-color: #FAFAFF\">a</span> <span style=\"background-color: #FAFAFF\">similar</span> <span style=\"background-color: #FFFEFE\">role</span> <span style=\"background-color: #FFFEFE\">ability</span> <span style=\"background-color: #FFFAFA\">to</span> <span style=\"background-color: #FFFEFE\">build</span> <span style=\"background-color: #FEFEFF\">interfaces</span> <span style=\"background-color: #FEFEFF\">using</span> <span style=\"background-color: #FEFEFF\">html</span> <span style=\"background-color: #FFFEFE\">,</span> <span style=\"background-color: #FFFEFE\">css</span> <span style=\"background-color: #FFFEFE\">,</span> <span style=\"background-color: #FEFEFF\">javascript</span> <span style=\"background-color: #FEFEFF\">jquery</span> <span style=\"background-color: #FFFCFC\">knowledge</span> <span style=\"background-color: #FEFEFF\">of</span> <span style=\"background-color: #FCFCFF\">mvc</span> <span style=\"background-color: #FFFEFE\">frameworks</span> <span style=\"background-color: #FFFAFA\">desirable</span> <span style=\"background-color: #FFFEFE\">excellent</span> <span style=\"background-color: #FFFEFE\">communication</span> <span style=\"background-color: #FFFEFE\">skills</span> <span style=\"background-color: #FFFEFE\">with</span> <span style=\"background-color: #FFFEFE\">a</span> <span style=\"background-color: #FFFEFE\">friendly</span> <span style=\"background-color: #FFFEFE\">and</span> <span style=\"background-color: #FFFEFE\">professional</span> <span style=\"background-color: #FFFEFE\">approach</span> <span style=\"background-color: #FFFEFE\">the</span> <span style=\"background-color: #FFFEFE\">role</span> <span style=\"background-color: #FFFEFE\">offers</span> <span style=\"background-color: #FFFEFE\">a</span> <span style=\"background-color: #FFFEFE\">vibrant</span> <span style=\"background-color: #FFFCFC\">and</span> <span style=\"background-color: #FAFAFF\">social</span> <span style=\"background-color: #FCFCFF\">workplace</span> <span style=\"background-color: #FAFAFF\">,</span> <span style=\"background-color: #FFFEFE\">operating</span> <span style=\"background-color: #FFFEFE\">in</span> <span style=\"background-color: #FFFEFE\">a</span> <span style=\"background-color: #FFFEFE\">dynamic</span> <span style=\"background-color: #FFFEFE\">and</span> <span style=\"background-color: #FFFEFE\">fastpaced</span> <span style=\"background-color: #F6F6FF\">sector</span> <span style=\"background-color: #FAFAFF\">.</span> <span style=\"background-color: #FFFEFE\">for</span> <span style=\"background-color: #FFFEFE\">an</span> <span style=\"background-color: #FFFEFE\">ambitious</span> <span style=\"background-color: #FFFEFE\">,</span> <span style=\"background-color: #FFFEFE\">confident</span> <span style=\"background-color: #FFFEFE\">,</span> <span style=\"background-color: #FFFEFE\">selfmotivated</span> <span style=\"background-color: #FFFEFE\">and</span> <span style=\"background-color: #FFFEFE\">committed</span> <span style=\"background-color: #FFFEFE\">team</span> <span style=\"background-color: #FFFEFE\">player</span> <span style=\"background-color: #FFFEFE\">able</span> <span style=\"background-color: #FFFEFE\">to</span> <span style=\"background-color: #F6F6FF\">design</span> <span style=\"background-color: #FFF2F2\">and</span> <span style=\"background-color: #F6F6FF\">build</span> <span style=\"background-color: #FFFEFE\">code</span> <span style=\"background-color: #FFFEFE\">to</span> <span style=\"background-color: #FFFEFE\">the</span> <span style=\"background-color: #FFFEFE\">highest</span> <span style=\"background-color: #FFFEFE\">quality</span> <span style=\"background-color: #FFFEFE\">this</span> <span style=\"background-color: #FAFAFF\">is</span> <span style=\"background-color: #FAFAFF\">an</span> <span style=\"background-color: #FAFAFF\">excellent</span> <span style=\"background-color: #FFFEFE\">opportunity</span> <span style=\"background-color: #FFFEFE\">to</span> <span style=\"background-color: #FFFEFE\">make</span> <span style=\"background-color: #FFFEFE\">a</span> <span style=\"background-color: #FFFEFE\">real</span> <span style=\"background-color: #FFFEFE\">difference</span> <span style=\"background-color: #FFF6F6\">to</span> <span style=\"background-color: #FFFEFE\">this</span> <span style=\"background-color: #FFFEFE\">already</span> <span style=\"background-color: #FFFEFE\">highachieving</span> <span style=\"background-color: #FFFEFE\">organisation</span> <span style=\"background-color: #FFFEFE\">.</span> <span style=\"background-color: #FFFEFE\">this</span> <span style=\"background-color: #FFFEFE\">role</span> <span style=\"background-color: #FFFEFE\">is</span> <span style=\"background-color: #F2F2FF\">active</span> <span style=\"background-color: #F2F2FF\">now</span> <span style=\"background-color: #F2F2FF\">,</span> <span style=\"background-color: #FFFEFE\">interviews</span> <span style=\"background-color: #FFFEFE\">are</span> <span style=\"background-color: #FFFEFE\">planned</span> <span style=\"background-color: #FFFEFE\">for</span> <span style=\"background-color: #FFFEFE\">the</span> <span style=\"background-color: #FFFEFE\">week</span> <span style=\"background-color: #FFFEFE\">ahead</span> <span style=\"background-color: #FFFEFE\">and</span> <span style=\"background-color: #FFFEFE\">a</span> <span style=\"background-color: #FFFEFE\">prompt</span> <span style=\"background-color: #FFFEFE\">turnaround</span> <span style=\"background-color: #FFFEFE\">is</span> <span style=\"background-color: #FFFEFE\">expected</span> <span style=\"background-color: #FFFEFE\">.</span></p>"
      ]
     },
     "metadata": {},
     "output_type": "display_data"
    }
   ],
   "source": [
    "i = 8147\n",
    "print(\"Index:\", i)\n",
    "print(\"Salary (gbp):\", np.expm1(model.predict(make_batch(data.iloc[i: i+1]))[0, 0]))\n",
    "\n",
    "tokens_and_weights = explain(model, data.loc[i], \"Title\")\n",
    "draw_html([(tok, weight * 5) for tok, weight in tokens_and_weights], font_style='font-size:20px;');\n",
    "\n",
    "tokens_and_weights = explain(model, data.loc[i], \"FullDescription\")\n",
    "draw_html([(tok, weight * 10) for tok, weight in tokens_and_weights]);"
   ]
  },
  {
   "cell_type": "code",
   "execution_count": 42,
   "metadata": {},
   "outputs": [
    {
     "name": "stdout",
     "output_type": "stream",
     "text": [
      "Index: 130706\n",
      "Salary (gbp): 16511.172\n"
     ]
    },
    {
     "data": {
      "text/html": [
       "<p style=\"font-size:20px;\"><span style=\"background-color: #8686FF\">senior</span> <span style=\"background-color: #BCBCFF\">hr</span> <span style=\"background-color: #FFF2F2\">advisor</span></p>"
      ]
     },
     "metadata": {},
     "output_type": "display_data"
    },
    {
     "data": {
      "text/html": [
       "<p style=\"font-size:14px;\"><span style=\"background-color: #FFFCFC\">our</span> <span style=\"background-color: #FFFEFE\">client</span> <span style=\"background-color: #FFF4F4\">a</span> <span style=\"background-color: #FFFEFE\">successful</span> <span style=\"background-color: #D6D6FF\">global</span> <span style=\"background-color: #FFFAFA\">company</span> <span style=\"background-color: #FFF8F8\">is</span> <span style=\"background-color: #FCFCFF\">looking</span> <span style=\"background-color: #E2E2FF\">for</span> <span style=\"background-color: #D0D0FF\">a</span> <span style=\"background-color: #E2E2FF\">senior</span> <span style=\"background-color: #F6F6FF\">hr</span> <span style=\"background-color: #F6F6FF\">advisor</span> <span style=\"background-color: #F6F6FF\">with</span> <span style=\"background-color: #FFFEFE\">health</span> <span style=\"background-color: #FFFEFE\">&</span> <span style=\"background-color: #FFFEFE\">safety</span> <span style=\"background-color: #FFFEFE\">qualifications</span> <span style=\"background-color: #FAFAFF\">.</span> <span style=\"background-color: #FFFCFC\">the</span> <span style=\"background-color: #FAFAFF\">core</span> <span style=\"background-color: #FFFEFE\">responsibilities</span> <span style=\"background-color: #FFFCFC\">are</span> <span style=\"background-color: #FFFEFE\">for</span> <span style=\"background-color: #FFFEFE\">employee</span> <span style=\"background-color: #FFFEFE\">relations</span> <span style=\"background-color: #FFFEFE\">and</span> <span style=\"background-color: #FFFAFA\">health</span> <span style=\"background-color: #FFFEFE\">&</span> <span style=\"background-color: #FFFCFC\">safety</span> <span style=\"background-color: #FFFEFE\">for</span> <span style=\"background-color: #FFFAFA\">the</span> <span style=\"background-color: #FFF6F6\">organisation</span> <span style=\"background-color: #FFEAEA\">.</span> <span style=\"background-color: #FAFAFF\">reporting</span> <span style=\"background-color: #FFFEFE\">to</span> <span style=\"background-color: #FFFEFE\">the</span> <span style=\"background-color: #FFFEFE\">hr</span> <span style=\"background-color: #FFFEFE\">manager</span> <span style=\"background-color: #FFFEFE\">you</span> <span style=\"background-color: #FFFCFC\">would</span> <span style=\"background-color: #FFFEFE\">need</span> <span style=\"background-color: #ECECFF\">to</span> <span style=\"background-color: #F2F2FF\">have</span> <span style=\"background-color: #F6F6FF\">experience</span> <span style=\"background-color: #FFFEFE\">in</span> <span style=\"background-color: #FCFCFF\">the</span> <span style=\"background-color: #F3F3FF\">hr</span> <span style=\"background-color: #F8F8FF\">sector</span> <span style=\"background-color: #FFF8F8\">,</span> <span style=\"background-color: #FFFEFE\">coupled</span> <span style=\"background-color: #FFFEFE\">with</span> <span style=\"background-color: #FFFEFE\">knowledge</span> <span style=\"background-color: #FFFEFE\">of</span> <span style=\"background-color: #FFFEFE\">current</span> <span style=\"background-color: #FFFEFE\">health</span> <span style=\"background-color: #FFFEFE\">&</span> <span style=\"background-color: #FFFEFE\">safety</span> <span style=\"background-color: #FFFEFE\">legislation</span> <span style=\"background-color: #FFECEC\">,</span> <span style=\"background-color: #FFFEFE\">with</span> <span style=\"background-color: #FFFEFE\">the</span> <span style=\"background-color: #FFFEFE\">specific</span> <span style=\"background-color: #FFFEFE\">responsibility</span> <span style=\"background-color: #E8E8FF\">of</span> <span style=\"background-color: #F3F3FF\">health</span> <span style=\"background-color: #EAEAFF\">&</span> <span style=\"background-color: #FFFCFC\">safety</span> <span style=\"background-color: #FFFEFE\">for</span> <span style=\"background-color: #FFFEFE\">the</span> <span style=\"background-color: #FFFEFE\">head</span> <span style=\"background-color: #FFFAFA\">office</span> <span style=\"background-color: #FFFEFE\">.</span> <span style=\"background-color: #FFFEFE\">you</span> <span style=\"background-color: #FFFEFE\">would</span> <span style=\"background-color: #FFFEFE\">be</span> <span style=\"background-color: #FFFEFE\">responsible</span> <span style=\"background-color: #FFFEFE\">for</span> <span style=\"background-color: #FFFEFE\">providing</span> <span style=\"background-color: #FFFEFE\">monthly</span> <span style=\"background-color: #FFFEFE\">reports</span> <span style=\"background-color: #FFFEFE\">to</span> <span style=\"background-color: #FFFEFE\">the</span> <span style=\"background-color: #FFFEFE\">hr</span> <span style=\"background-color: #FFF4F4\">manager</span> <span style=\"background-color: #FFD0D0\">&</span> <span style=\"background-color: #EAEAFF\">director</span> <span style=\"background-color: #FFFAFA\">on</span> <span style=\"background-color: #FFF2F2\">hr</span> <span style=\"background-color: #FFF2F2\">&</span> <span style=\"background-color: #FFFEFE\">health</span> <span style=\"background-color: #FFFEFE\">&</span> <span style=\"background-color: #FFFEFE\">safety</span> <span style=\"background-color: #FFFEFE\">,</span> <span style=\"background-color: #FFFEFE\">in</span> <span style=\"background-color: #FFFEFE\">both</span> <span style=\"background-color: #FCFCFF\">written</span> <span style=\"background-color: #FCFCFF\">&</span> <span style=\"background-color: #FAFAFF\">statistical</span> <span style=\"background-color: #FAFAFF\">format</span> <span style=\"background-color: #FCFCFF\">.</span> <span style=\"background-color: #FFFEFE\">you</span> <span style=\"background-color: #FFFEFE\">will</span> <span style=\"background-color: #FFFEFE\">also</span> <span style=\"background-color: #FFFEFE\">assist</span> <span style=\"background-color: #FFFEFE\">with</span> <span style=\"background-color: #FFFEFE\">managing</span> <span style=\"background-color: #FFFEFE\">the</span> <span style=\"background-color: #FFFEFE\">relationship</span> <span style=\"background-color: #FEFEFF\">&</span> <span style=\"background-color: #FEFEFF\">costs</span> <span style=\"background-color: #FEFEFF\">for</span> <span style=\"background-color: #FFFEFE\">employment</span> <span style=\"background-color: #FFE8E8\">advise</span> <span style=\"background-color: #FFFEFE\">from</span> <span style=\"background-color: #FFFEFE\">solicitors</span> <span style=\"background-color: #FFFEFE\">.</span> <span style=\"background-color: #FFFEFE\">the</span> <span style=\"background-color: #FFFEFE\">successful</span> <span style=\"background-color: #FAFAFF\">candidate</span> <span style=\"background-color: #EAEAFF\">will</span> <span style=\"background-color: #FAFAFF\">be</span> <span style=\"background-color: #FFF4F4\">cipd</span> <span style=\"background-color: #F3F3FF\">qualified</span> <span style=\"background-color: #FFEEEE\">to</span> <span style=\"background-color: #FFF8F8\">degree</span> <span style=\"background-color: #FAFAFF\">or</span> <span style=\"background-color: #FFFEFE\">equivalent</span> <span style=\"background-color: #FFFEFE\">level</span> <span style=\"background-color: #FFFEFE\">,</span> <span style=\"background-color: #FFF6F6\">have</span> <span style=\"background-color: #FFFEFE\">experience</span> <span style=\"background-color: #FFFEFE\">dealing</span> <span style=\"background-color: #FEFEFF\">with</span> <span style=\"background-color: #FCFCFF\">nebosh</span> <span style=\"background-color: #FEFEFF\">,</span> <span style=\"background-color: #FFFEFE\">have</span> <span style=\"background-color: #FFFEFE\">a</span> <span style=\"background-color: #FFFEFE\">flexible</span> <span style=\"background-color: #FFFEFE\">approach</span> <span style=\"background-color: #FFFEFE\">to</span> <span style=\"background-color: #FFFEFE\">work</span> <span style=\"background-color: #FFFEFE\">,</span> <span style=\"background-color: #FFFEFE\">display</span> <span style=\"background-color: #FFFEFE\">excellent</span> <span style=\"background-color: #FFFEFE\">communication</span> <span style=\"background-color: #FFFEFE\">skills</span> <span style=\"background-color: #FFFEFE\">and</span> <span style=\"background-color: #FFFCFC\">be</span> <span style=\"background-color: #FFF6F6\">comfortable</span> <span style=\"background-color: #FFFEFE\">conversing</span> <span style=\"background-color: #FFFEFE\">with</span> <span style=\"background-color: #FFFEFE\">people</span> <span style=\"background-color: #FFFEFE\">from</span> <span style=\"background-color: #FFFEFE\">all</span> <span style=\"background-color: #FFFEFE\">walks</span> <span style=\"background-color: #FFFEFE\">of</span> <span style=\"background-color: #FAFAFF\">life</span> <span style=\"background-color: #FAFAFF\">.</span> <span style=\"background-color: #FAFAFF\">office</span> <span style=\"background-color: #FFFEFE\">,</span> <span style=\"background-color: #FFFEFE\">excel</span> <span style=\"background-color: #FFFEFE\">,</span> <span style=\"background-color: #FFFEFE\">outlook</span> <span style=\"background-color: #FFFEFE\">&</span> <span style=\"background-color: #FFFEFE\">access</span> <span style=\"background-color: #FFFEFE\">would</span> <span style=\"background-color: #FFFEFE\">be</span> <span style=\"background-color: #FFFEFE\">hugely</span> <span style=\"background-color: #FFFEFE\">beneficial</span> <span style=\"background-color: #FFFEFE\">.</span> <span style=\"background-color: #FFFEFE\">if</span> <span style=\"background-color: #FFFEFE\">this</span> <span style=\"background-color: #FFFEFE\">sounds</span> <span style=\"background-color: #FFFEFE\">like</span> <span style=\"background-color: #FFFEFE\">you</span> <span style=\"background-color: #FFFEFE\">,</span> <span style=\"background-color: #FFFEFE\">apply</span> <span style=\"background-color: #FFFAFA\">today</span> <span style=\"background-color: #FFFAFA\">adecco</span> <span style=\"background-color: #FFFEFE\">is</span> <span style=\"background-color: #FFFEFE\">a</span> <span style=\"background-color: #FFFEFE\">recruitment</span> <span style=\"background-color: #FFFEFE\">agency</span> <span style=\"background-color: #FFFAFA\">.</span> <span style=\"background-color: #FFFEFE\">adecco</span> <span style=\"background-color: #FFFEFE\">is</span> <span style=\"background-color: #FFFEFE\">an</span> <span style=\"background-color: #FFFEFE\">equal</span> <span style=\"background-color: #FFFEFE\">opportunities</span> <span style=\"background-color: #FFFEFE\">employer</span> <span style=\"background-color: #FFFAFA\">.</span> <span style=\"background-color: #FFFEFE\">adecco</span> <span style=\"background-color: #FEFEFF\">is</span> <span style=\"background-color: #FFFCFC\">acting</span> <span style=\"background-color: #FFF4F4\">as</span> <span style=\"background-color: #ECECFF\">an</span> <span style=\"background-color: #FFFEFE\">employment</span> <span style=\"background-color: #FFFCFC\">agency</span> <span style=\"background-color: #FFFEFE\">in</span> <span style=\"background-color: #FFFEFE\">relation</span> <span style=\"background-color: #FFFEFE\">to</span> <span style=\"background-color: #FFFEFE\">this</span> <span style=\"background-color: #FFFEFE\">vacancy</span></p>"
      ]
     },
     "metadata": {},
     "output_type": "display_data"
    }
   ],
   "source": [
    "i = 130706\n",
    "print(\"Index:\", i)\n",
    "print(\"Salary (gbp):\", np.expm1(model.predict(make_batch(data.iloc[i: i+1]))[0, 0]))\n",
    "\n",
    "tokens_and_weights = explain(model, data.loc[i], \"Title\")\n",
    "draw_html([(tok, weight * 5) for tok, weight in tokens_and_weights], font_style='font-size:20px;');\n",
    "\n",
    "tokens_and_weights = explain(model, data.loc[i], \"FullDescription\")\n",
    "draw_html([(tok, weight * 10) for tok, weight in tokens_and_weights]);"
   ]
  },
  {
   "cell_type": "markdown",
   "metadata": {},
   "source": [
    "__Terrible start-up idea #1962:__ make a tool that automaticaly rephrases your job description (or CV) to meet salary expectations :)"
   ]
  }
 ],
 "metadata": {
  "kernelspec": {
   "display_name": "tensorflow",
   "language": "python",
   "name": "tensorflow"
  },
  "language_info": {
   "codemirror_mode": {
    "name": "ipython",
    "version": 3
   },
   "file_extension": ".py",
   "mimetype": "text/x-python",
   "name": "python",
   "nbconvert_exporter": "python",
   "pygments_lexer": "ipython3",
   "version": "3.6.6"
  }
 },
 "nbformat": 4,
 "nbformat_minor": 2
}
