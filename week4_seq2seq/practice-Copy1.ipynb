{
 "cells": [
  {
   "cell_type": "markdown",
   "metadata": {},
   "source": [
    "## Seminar and homework (10 points total)\n",
    "\n",
    "Today we shall compose encoder-decoder neural networks and apply them to the task of machine translation.\n",
    "\n",
    "![img](https://esciencegroup.files.wordpress.com/2016/03/seq2seq.jpg)\n",
    "_(img: esciencegroup.files.wordpress.com)_\n",
    "\n",
    "\n",
    "Encoder-decoder architectures are about converting anything to anything, including\n",
    " * Machine translation and spoken dialogue systems\n",
    " * [Image captioning](http://mscoco.org/dataset/#captions-challenge2015) and [image2latex](https://openai.com/requests-for-research/#im2latex) (convolutional encoder, recurrent decoder)\n",
    " * Generating [images by captions](https://arxiv.org/abs/1511.02793) (recurrent encoder, convolutional decoder)\n",
    " * Grapheme2phoneme - convert words to transcripts"
   ]
  },
  {
   "cell_type": "markdown",
   "metadata": {},
   "source": [
    "## Our task: machine translation\n",
    "\n",
    "We gonna try our encoder-decoder models on russian to english machine translation problem. More specifically, we'll translate hotel and hostel descriptions. This task shows the scale of machine translation while not requiring you to train your model for weeks if you don't use GPU.\n",
    "\n",
    "Before we get to the architecture, there's some preprocessing to be done. ~~Go tokenize~~ Alright, this time we've done preprocessing for you. As usual, the data will be tokenized with WordPunctTokenizer.\n",
    "\n",
    "However, there's one more thing to do. Our data lines contain unique rare words. If we operate on a word level, we will have to deal with large vocabulary size. If instead we use character-level models, it would take lots of iterations to process a sequence. This time we're gonna pick something inbetween.\n",
    "\n",
    "One popular approach is called [Byte Pair Encoding](https://github.com/rsennrich/subword-nmt) aka __BPE__. The algorithm starts with a character-level tokenization and then iteratively merges most frequent pairs for N iterations. This results in frequent words being merged into a single token and rare words split into syllables or even characters.\n",
    "\n"
   ]
  },
  {
   "cell_type": "code",
   "execution_count": 8,
   "metadata": {},
   "outputs": [],
   "source": [
    "!pip3 install subword-nmt &> log\n",
    "!wget https://github.com/yandexdataschool/nlp_course/raw/62c1410427385336ef2bea74b09cba39c956207d/week4_seq2seq/data.txt -O data.txt 2> log\n",
    "!wget https://github.com/yandexdataschool/nlp_course/raw/62c1410427385336ef2bea74b09cba39c956207d/week4_seq2seq/utils.py -O utils.py 2> log\n",
    "!wget https://github.com/yandexdataschool/nlp_course/raw/62c1410427385336ef2bea74b09cba39c956207d/week4_seq2seq/dummy_checkpoint.npz -O dummy_checkpoint.npz 2> log\n",
    "#thanks to tilda and deephack teams for the data"
   ]
  },
  {
   "cell_type": "code",
   "execution_count": 1,
   "metadata": {},
   "outputs": [],
   "source": [
    "from nltk.tokenize import WordPunctTokenizer\n",
    "from subword_nmt.learn_bpe import learn_bpe\n",
    "from subword_nmt.apply_bpe import BPE\n",
    "tokenizer = WordPunctTokenizer()\n",
    "def tokenize(x):\n",
    "    return ' '.join(tokenizer.tokenize(x.lower()))\n",
    "\n",
    "# split and tokenize the data\n",
    "with open('train.en', 'w', encoding='utf-8') as f_src,  open('train.ru', 'w', encoding='utf-8') as f_dst:\n",
    "    for line in open('data.txt', encoding='utf-8'):\n",
    "        src_line, dst_line = line.strip().split('\\t')\n",
    "        f_src.write(tokenize(src_line) + '\\n')\n",
    "        f_dst.write(tokenize(dst_line) + '\\n')\n",
    "\n",
    "# build and apply bpe vocs\n",
    "bpe = {}\n",
    "for lang in ['en', 'ru']:\n",
    "    learn_bpe(open('./train.' + lang, encoding='utf-8'), open('bpe_rules.' + lang, 'w', encoding='utf-8'), num_symbols=8000)\n",
    "    bpe[lang] = BPE(open('./bpe_rules.' + lang, encoding='utf-8'))\n",
    "    \n",
    "    with open('train.bpe.' + lang, 'w', encoding='utf-8') as f_out:\n",
    "        for line in open('train.' + lang, encoding='utf-8'):\n",
    "            f_out.write(bpe[lang].process_line(line.strip()) + '\\n')"
   ]
  },
  {
   "cell_type": "code",
   "execution_count": 2,
   "metadata": {},
   "outputs": [
    {
     "name": "stdout",
     "output_type": "stream",
     "text": [
      "отель cordelia расположен в тбилиси , в 3 минутах ходьбы от свято - троицкого собора .\n",
      "\n",
      "в числе удобств лоджа tupirmarka круглосуточная стойка регистрации и снэк - бар . гости могут воспользоваться услугой доставки еды и напитков в номер .\n",
      "\n",
      "апартаменты naigao xiaowo расположены в городе шанхай . к услугам гостей бесплатный wi - fi во всех зонах .\n",
      "\n",
      "в вашем распоряжении также телевизор и собственная ванная комната с душем .\n",
      "\n",
      "номер оснащен кондиционером и спутниковым телевидением .\n",
      "\n",
      "они оформлены в кремовых тонах , в некоторых из них имеются отдельные балконы с гостиной зоной .\n",
      "\n",
      "сотрудники стойки регистрации с радостью помогут гостям спланировать экскурсии .\n",
      "\n",
      "в числе удобств некоторых номеров — гостиная зона .\n",
      "\n",
      "до площади ниумаркт , торговой улицы калверштрат , музея эрмитаж на амстеле и площади рембрандта можно дойти менее чем за 15 минут .\n",
      "\n",
      "дельта дуная является природным заповедником , в котором можно заняться рыбной ловлей , понаблюдать за птицами , покататься на лодке или просто расслабиться в окружении природы .\n",
      "\n",
      "номера оснащены кондиционером , телевизором с плоским экраном и кабельными каналами , письменным столом , вентилятором и гостиной зоной .\n",
      "\n"
     ]
    }
   ],
   "source": [
    "head=10\n",
    "i=0\n",
    "with open('train.ru', encoding='utf-8') as f:\n",
    "    for l in f:\n",
    "        print(l)\n",
    "        i += 1\n",
    "        if i>head:\n",
    "            break"
   ]
  },
  {
   "cell_type": "code",
   "execution_count": 3,
   "metadata": {},
   "outputs": [
    {
     "name": "stdout",
     "output_type": "stream",
     "text": [
      "отель cor@@ del@@ ia расположен в тбилиси , в 3 минутах ходьбы от свя@@ то - тро@@ и@@ ц@@ кого собора .\n",
      "\n",
      "в числе удобств лоджа tu@@ p@@ ir@@ mar@@ ka круглосуточная стойка регистрации и снэк - бар . гости могут воспользоваться услугой доставки еды и напитков в номер .\n",
      "\n",
      "апартаменты na@@ i@@ ga@@ o xi@@ a@@ ow@@ o расположены в городе шан@@ хай . к услугам гостей бесплатный wi - fi во всех зонах .\n",
      "\n",
      "в вашем распоряжении также телевизор и собственная ванная комната с душем .\n",
      "\n",
      "номер оснащен кондиционером и спутниковым телевидением .\n",
      "\n",
      "они оформлены в кре@@ мо@@ вых тонах , в некоторых из них имеются отдельные балконы с гостиной зоной .\n",
      "\n",
      "сотрудники стойки регистрации с радост@@ ью помогут гостям с@@ плани@@ ровать экскурсии .\n",
      "\n",
      "в числе удобств некоторых номеров — гостиная зона .\n",
      "\n",
      "до площади ни@@ у@@ мар@@ кт , торговой улицы кал@@ верш@@ тра@@ т , музея эрмитаж на ам@@ стел@@ е и площади ре@@ мб@@ ран@@ д@@ та можно дойти менее чем за 15 минут .\n",
      "\n",
      "дель@@ та ду@@ ная является природным заповед@@ ником , в котором можно заняться рыбной ловлей , понаблюдать за птицами , покататься на лодке или просто расслабиться в окружении природы .\n",
      "\n",
      "номера оснащены кондиционером , телевизором с плоским экраном и кабельными каналами , письменным столом , вентилятором и гостиной зоной .\n",
      "\n"
     ]
    }
   ],
   "source": [
    "head=10\n",
    "i=0\n",
    "with open('train.bpe.ru', encoding='utf-8') as f:\n",
    "    for l in f:\n",
    "        print(l)\n",
    "        i += 1\n",
    "        if i>head:\n",
    "            break"
   ]
  },
  {
   "cell_type": "markdown",
   "metadata": {},
   "source": [
    "### Building vocabularies\n",
    "\n",
    "We now need to build vocabularies that map strings to token ids and vice versa. We're gonna need these fellas when we feed training data into model or convert output matrices into words."
   ]
  },
  {
   "cell_type": "code",
   "execution_count": 4,
   "metadata": {},
   "outputs": [],
   "source": [
    "import numpy as np\n",
    "import matplotlib.pyplot as plt\n",
    "%matplotlib inline"
   ]
  },
  {
   "cell_type": "code",
   "execution_count": 5,
   "metadata": {},
   "outputs": [
    {
     "name": "stdout",
     "output_type": "stream",
     "text": [
      "inp: на территории обустроена бесплатная частная парковка .\n",
      "out: free private parking is available on site .\n",
      "\n",
      "inp: кроме того , в 5 минутах ходьбы работают многочисленные бары и рестораны .\n",
      "out: guests can find many bars and restaurants within a 5 - minute walk .\n",
      "\n",
      "inp: отель san mi@@ gu@@ el расположен в центре мор@@ ели@@ и , в 750 метрах от главной площади города и кафедрального собора .\n",
      "out: hotel san miguel is located in central more@@ lia , 750 metres from the city ’ s main square and cathedral .\n",
      "\n"
     ]
    }
   ],
   "source": [
    "data_inp = np.array(open('./train.bpe.ru', encoding='utf-8').read().split('\\n'))\n",
    "data_out = np.array(open('./train.bpe.en', encoding='utf-8').read().split('\\n'))\n",
    "\n",
    "from sklearn.model_selection import train_test_split\n",
    "train_inp, dev_inp, train_out, dev_out = train_test_split(data_inp, data_out, test_size=3000,\n",
    "                                                          random_state=42)\n",
    "for i in range(3):\n",
    "    print('inp:', train_inp[i])\n",
    "    print('out:', train_out[i], end='\\n\\n')"
   ]
  },
  {
   "cell_type": "code",
   "execution_count": 6,
   "metadata": {},
   "outputs": [
    {
     "name": "stderr",
     "output_type": "stream",
     "text": [
      "/usr/local/lib/python3.6/dist-packages/h5py/__init__.py:36: FutureWarning: Conversion of the second argument of issubdtype from `float` to `np.floating` is deprecated. In future, it will be treated as `np.float64 == np.dtype(float).type`.\n",
      "  from ._conv import register_converters as _register_converters\n"
     ]
    }
   ],
   "source": [
    "from utils import Vocab\n",
    "inp_voc = Vocab.from_lines(train_inp)\n",
    "out_voc = Vocab.from_lines(train_out)"
   ]
  },
  {
   "cell_type": "code",
   "execution_count": 7,
   "metadata": {},
   "outputs": [
    {
     "name": "stdout",
     "output_type": "stream",
     "text": [
      "lines\n",
      "['гостевой дом r .', 'до афин — 20 км .', 'работает боулинг .', 'оборудован балкон .', 'подключен wi - fi .']\n",
      "\n",
      "words to ids (0 = bos, 1 = eos):\n",
      "[[   0 2688 2943 1108   29    1    1    1]\n",
      " [   0 2922 1834 8035   59 3800   29    1]\n",
      " [   0 6030 2083   29    1    1    1    1]\n",
      " [   0 4927 1870   29    1    1    1    1]\n",
      " [   0 5549 1453   27  592   29    1    1]]\n",
      "\n",
      "back to words\n",
      "['гостевой дом r .', 'до афин — 20 км .', 'работает боулинг .', 'оборудован балкон .', 'подключен wi - fi .']\n"
     ]
    }
   ],
   "source": [
    "# Here's how you cast lines into ids and backwards.\n",
    "batch_lines = sorted(train_inp, key=len)[5:10]\n",
    "batch_ids = inp_voc.to_matrix(batch_lines)\n",
    "batch_lines_restored = inp_voc.to_lines(batch_ids)\n",
    "\n",
    "print(\"lines\")\n",
    "print(batch_lines)\n",
    "print(\"\\nwords to ids (0 = bos, 1 = eos):\")\n",
    "print(batch_ids)\n",
    "print(\"\\nback to words\")\n",
    "print(batch_lines_restored)"
   ]
  },
  {
   "cell_type": "markdown",
   "metadata": {},
   "source": [
    "Draw source and translation length distributions to estimate the scope of the task."
   ]
  },
  {
   "cell_type": "code",
   "execution_count": 8,
   "metadata": {},
   "outputs": [
    {
     "data": {
      "image/png": "[encoded data removed]",
      "text/plain": [
       "<Figure size 576x288 with 2 Axes>"
      ]
     },
     "metadata": {},
     "output_type": "display_data"
    }
   ],
   "source": [
    "plt.figure(figsize=[8, 4])\n",
    "plt.subplot(1, 2, 1)\n",
    "plt.title(\"source length\")\n",
    "plt.hist(list(map(len, map(str.split, train_inp))), bins=20);\n",
    "\n",
    "plt.subplot(1, 2, 2)\n",
    "plt.title(\"translation length\")\n",
    "plt.hist(list(map(len, map(str.split, train_out))), bins=20);"
   ]
  },
  {
   "cell_type": "markdown",
   "metadata": {},
   "source": [
    "### Encoder-decoder model\n",
    "\n",
    "The code below contas a template for a simple encoder-decoder model: single GRU encoder/decoder, no attention or anything. This model is implemented for you as a reference and a baseline for your homework assignment."
   ]
  },
  {
   "cell_type": "code",
   "execution_count": 9,
   "metadata": {},
   "outputs": [
    {
     "name": "stderr",
     "output_type": "stream",
     "text": [
      "Using TensorFlow backend.\n"
     ]
    }
   ],
   "source": [
    "import tensorflow as tf\n",
    "import keras.layers as L\n",
    "from utils import infer_length, infer_mask"
   ]
  },
  {
   "cell_type": "code",
   "execution_count": 10,
   "metadata": {},
   "outputs": [],
   "source": [
    "class BasicModel:\n",
    "    def __init__(self, name, inp_voc, out_voc, emb_size=64, hid_size=128):\n",
    "        \"\"\"\n",
    "        A simple encoder- oder model\n",
    "        \"\"\"\n",
    "        self.name, self.inp_voc, self.out_voc = name, inp_voc, out_voc\n",
    "\n",
    "        with tf.variable_scope(name):\n",
    "            self.emb_inp = L.Embedding(len(inp_voc), emb_size)\n",
    "            self.emb_out = L.Embedding(len(out_voc), emb_size)\n",
    "            self.enc0 = tf.nn.rnn_cell.GRUCell(hid_size)\n",
    "\n",
    "            self.dec_start = L.Dense(hid_size)\n",
    "            self.dec0 = tf.nn.rnn_cell.GRUCell(hid_size)\n",
    "            self.logits = L.Dense(len(out_voc))\n",
    "\n",
    "            # prepare to translate_lines\n",
    "            self.inp = tf.placeholder('int32', [None, None])\n",
    "            self.initial_state = self.prev_state = self.encode(self.inp)\n",
    "            self.prev_tokens = tf.placeholder('int32', [None])\n",
    "            self.next_state, self.next_logits = self.decode(self.prev_state, self.prev_tokens)\n",
    "        \n",
    "        self.weights = tf.get_collection(tf.GraphKeys.TRAINABLE_VARIABLES, scope=name)\n",
    "\n",
    "    def encode(self, inp, **flags):\n",
    "        \"\"\"\n",
    "        Takes symbolic input sequence, computes initial state\n",
    "        :param inp: matrix of input tokens [batch, time]\n",
    "        :returns: initial decoder state tensors, one or many\n",
    "        \"\"\"\n",
    "        inp_lengths = infer_length(inp, self.inp_voc.eos_ix)\n",
    "        inp_emb = self.emb_inp(inp)\n",
    "        with tf.variable_scope('enc0'):\n",
    "            _, enc_last = tf.nn.dynamic_rnn(\n",
    "                              self.enc0, inp_emb,\n",
    "                              sequence_length=inp_lengths,\n",
    "                              dtype = inp_emb.dtype)\n",
    "        dec_start = self.dec_start(enc_last)\n",
    "        return [dec_start]\n",
    "\n",
    "    def decode(self, prev_state, prev_tokens, **flags):\n",
    "        \"\"\"\n",
    "        Takes previous decoder state and tokens, returns new state and logits for next tokens\n",
    "        :param prev_state: a list of previous decoder state tensors\n",
    "        :param prev_tokens: previous output tokens, an int vector of [batch_size]\n",
    "        :return: a list of next decoder state tensors, a tensor of logits [batch, n_tokens]\n",
    "        \"\"\"\n",
    "        [prev_dec] = prev_state\n",
    "        prev_emb = self.emb_out(prev_tokens[:,None])[:,0]\n",
    "        with tf.variable_scope('dec0'):\n",
    "            new_dec_out, new_dec_state = self.dec0(prev_emb, prev_dec)\n",
    "        output_logits = self.logits(new_dec_out)\n",
    "        return [new_dec_state], output_logits\n",
    "\n",
    "    def translate_lines(self, inp_lines, max_len=100):\n",
    "        \"\"\"\n",
    "        Translates a list of lines by greedily selecting most likely next token at each step\n",
    "        :returns: a list of output lines, a sequence of model states at each step\n",
    "        \"\"\"\n",
    "        state = sess.run(self.initial_state, {self.inp: inp_voc.to_matrix(inp_lines)})\n",
    "        outputs = [[self.out_voc.bos_ix] for _ in range(len(inp_lines))]\n",
    "        all_states = [state]\n",
    "        finished = [False] * len(inp_lines)\n",
    "\n",
    "        for t in range(max_len):\n",
    "            state, logits = sess.run([self.next_state, self.next_logits], {**dict(zip(self.prev_state, state)),\n",
    "                                           self.prev_tokens: [out_i[-1] for out_i in outputs]})\n",
    "            next_tokens = np.argmax(logits, axis=-1)\n",
    "            all_states.append(state)\n",
    "            for i in range(len(next_tokens)):\n",
    "                outputs[i].append(next_tokens[i])\n",
    "                finished[i] |= next_tokens[i] == self.out_voc.eos_ix\n",
    "        return out_voc.to_lines(outputs), all_states"
   ]
  },
  {
   "cell_type": "code",
   "execution_count": 29,
   "metadata": {},
   "outputs": [
    {
     "name": "stderr",
     "output_type": "stream",
     "text": [
      "/usr/local/lib/python3.6/dist-packages/tensorflow/python/client/session.py:1711: UserWarning: An interactive session is already active. This can cause out-of-memory errors in some cases. You must explicitly call `InteractiveSession.close()` to release resources held by the other session(s).\n",
      "  warnings.warn('An interactive session is already active. This can '\n"
     ]
    }
   ],
   "source": [
    "tf.reset_default_graph()\n",
    "sess = tf.InteractiveSession()\n",
    "# ^^^ if you get \"variable *** already exists\": re-run this cell again - it will clear all tf operations youve 'built\n",
    "\n",
    "model = BasicModel('model', inp_voc, out_voc)\n",
    "sess.run(tf.global_variables_initializer())"
   ]
  },
  {
   "cell_type": "markdown",
   "metadata": {},
   "source": [
    "### Training loss (2 points)\n",
    "\n",
    "Our training objetive is almost the same as it was for neural language models:\n",
    "$$ L = {\\frac1{|D|}} \\sum_{X, Y \\in D} \\sum_{y_t \\in Y} - \\log p(y_t \\mid y_1, \\dots, y_{t-1}, X, \\theta) $$\n",
    "\n",
    "where $|D|$ is the __total length of all sequences__, including BOS and first EOS, but excluding PAD."
   ]
  },
  {
   "cell_type": "code",
   "execution_count": 30,
   "metadata": {},
   "outputs": [],
   "source": [
    "def compute_logits(model, inp, out, **flags):\n",
    "    \"\"\"\n",
    "    :param inp: input tokens matrix, int32[batch, time]\n",
    "    :param out: reference tokens matrix, int32[batch, time]\n",
    "    :returns: logits of shape [batch, time, voc_size]\n",
    "    \n",
    "    * logits must be a linear output of your neural network.\n",
    "    * logits [:, 0, :] should always predic BOS\n",
    "    * logits [:, -1, :] should be probabilities of last token in out\n",
    "    This function should NOT return logits predicted when taking out[:, -1] as y_prev\n",
    "    \"\"\"\n",
    "    batch_size = tf.shape(inp)[0]\n",
    "    \n",
    "    # Encode inp, get initial state\n",
    "    first_state = model.encode(inp)\n",
    "    \n",
    "    # initial logits: always predict BOS\n",
    "    first_logits = tf.log(tf.one_hot(tf.fill([batch_size], model.out_voc.bos_ix),\n",
    "                                     len(model.out_voc)) + 1e-30)\n",
    "    \n",
    "    # Decode step\n",
    "    def step(blob, y_prev):\n",
    "        # Given previous state, obtain next state and next token logits\n",
    "        prev_state, _ = blob\n",
    "        state, logits = model.decode(prev_state, y_prev)\n",
    "        return (state, logits)\n",
    "\n",
    "    # You can now use tf.scan to run step several times.\n",
    "    # use tf.transpose(out) as elems (to process one time-step at a time)\n",
    "    # docs: https://www.tensorflow.org/api_docs/python/tf/scan\n",
    "    \n",
    "    _, logits_seq = tf.scan(step,\n",
    "           elems=tf.transpose(out),\n",
    "           initializer=(first_state, first_logits)\n",
    "           )\n",
    "    \n",
    "    \n",
    "#     # prepend first_logits to logits_seq\n",
    "    logits_seq = tf.concat((tf.expand_dims(first_logits, axis=0), logits_seq[:-1]), axis=0)\n",
    "    \n",
    "#     # Make sure you convert logits_seq from [time, batch, voc_size] to [batch, time, voc_size]\n",
    "    logits_seq = tf.transpose(logits_seq, perm=[1,0,2])\n",
    "    \n",
    "    return logits_seq"
   ]
  },
  {
   "cell_type": "code",
   "execution_count": 31,
   "metadata": {},
   "outputs": [],
   "source": [
    "from utils import load\n",
    "load(tf.trainable_variables(), 'dummy_checkpoint.npz')\n",
    "dummy_inp = tf.constant(inp_voc.to_matrix(train_inp[:3]))\n",
    "dummy_out = tf.constant(out_voc.to_matrix(train_out[:3]))\n",
    "dummy_logits = sess.run(compute_logits(model, dummy_inp, dummy_out))\n",
    "\n",
    "from utils import load\n",
    "load(tf.trainable_variables(), 'dummy_checkpoint.npz')\n",
    "dummy_inp = tf.constant(inp_voc.to_matrix(train_inp[:3]))\n",
    "dummy_out = tf.constant(out_voc.to_matrix(train_out[:3]))\n",
    "dummy_logits = sess.run(compute_logits(model, dummy_inp, dummy_out))\n",
    "dummy_ref = np.array([-0.13257082, -0.11084784, -0.09024167, -0.14910498], dtype='float32')\n",
    "assert np.allclose(dummy_logits.sum(-1)[0, 1:5], dummy_ref)\n",
    "ref_shape = (dummy_out.shape[0], dummy_out.shape[1], len(out_voc))\n",
    "assert dummy_logits.shape == ref_shape, \"Your logits shape should be {} but got {}\".format(dummy_logits.shape, ref_shape)\n",
    "assert all(dummy_logits[:, 0].argmax(-1) == out_voc.bos_ix), \"first step must always be BOS\""
   ]
  },
  {
   "cell_type": "code",
   "execution_count": 32,
   "metadata": {
    "scrolled": true
   },
   "outputs": [],
   "source": [
    "from utils import select_values_over_last_axis\n",
    "\n",
    "def compute_loss(model, inp, out, **flags):\n",
    "    \"\"\"\n",
    "    Compute loss (float32 scalar) as in the formula above\n",
    "    :param inp: input tokens matrix, int32[batch, time]\n",
    "    :param out: reference tokens matrix, int32[batch, time]\n",
    "    \n",
    "    In order to pass the tests, your function should\n",
    "    * include loss at first EOS but not the subsequent ones\n",
    "    * divide sum of losses by a sum of input lengths (use infer_length or infer_mask)\n",
    "    \"\"\"\n",
    "    mask = infer_mask(out, out_voc.eos_ix) \n",
    "    logits_seq = compute_logits(model, inp, out, **flags)\n",
    "    softmaxed = tf.nn.softmax(logits_seq)\n",
    "    softmaxed = select_values_over_last_axis(softmaxed, out)\n",
    "#     return softmaxed\n",
    "    # Compute loss as per instructions above\n",
    "    loss = -tf.reduce_sum(tf.multiply(tf.log(softmaxed), mask))/tf.reduce_sum(mask)\n",
    "#     loss = -tf.reduce_mean(tf.reduce_sum(tf.log(softmaxed), axis=1))\n",
    "    \n",
    "    return loss"
   ]
  },
  {
   "cell_type": "code",
   "execution_count": 33,
   "metadata": {},
   "outputs": [],
   "source": [
    "loss = sess.run(compute_loss(model, dummy_inp, dummy_out))"
   ]
  },
  {
   "cell_type": "code",
   "execution_count": 34,
   "metadata": {},
   "outputs": [
    {
     "data": {
      "text/plain": [
       "8.424398"
      ]
     },
     "execution_count": 34,
     "metadata": {},
     "output_type": "execute_result"
    }
   ],
   "source": [
    "loss"
   ]
  },
  {
   "cell_type": "code",
   "execution_count": 17,
   "metadata": {},
   "outputs": [
    {
     "name": "stdout",
     "output_type": "stream",
     "text": [
      "Loss: 8.424398\n"
     ]
    }
   ],
   "source": [
    "dummy_loss = sess.run(compute_loss(model, dummy_inp, dummy_out))\n",
    "print(\"Loss:\", dummy_loss)\n",
    "assert np.allclose(dummy_loss, 8.425, rtol=0.1, atol=0.1), \"We're sorry for your loss\""
   ]
  },
  {
   "cell_type": "markdown",
   "metadata": {},
   "source": [
    "### Evaluation: BLEU\n",
    "\n",
    "Machine translation is commonly evaluated with [BLEU](https://en.wikipedia.org/wiki/BLEU) score. This metric simply computes which fraction of predicted n-grams is actually present in the reference translation. It does so for n=1,2,3 and 4 and computes the geometric average with penalty if translation is shorter than reference.\n",
    "\n",
    "While BLEU [has many drawbacks](http://www.cs.jhu.edu/~ccb/publications/re-evaluating-the-role-of-bleu-in-mt-research.pdf), it still remains the most commonly used metric and one of the simplest to compute."
   ]
  },
  {
   "cell_type": "code",
   "execution_count": 18,
   "metadata": {},
   "outputs": [],
   "source": [
    "from nltk.translate.bleu_score import corpus_bleu\n",
    "def compute_bleu(model, inp_lines, out_lines, bpe_sep='@@ ', **flags):\n",
    "    \"\"\" Estimates corpora-level BLEU score of model's translations given inp and reference out \"\"\"\n",
    "    translations, _ = model.translate_lines(inp_lines, **flags)\n",
    "    # Note: if you experience out-of-memory error, split input lines into batches and translate separately\n",
    "    return corpus_bleu([[ref] for ref in out_lines], translations) * 100"
   ]
  },
  {
   "cell_type": "code",
   "execution_count": 19,
   "metadata": {},
   "outputs": [
    {
     "data": {
      "text/plain": [
       "4.764888431368293"
      ]
     },
     "execution_count": 19,
     "metadata": {},
     "output_type": "execute_result"
    }
   ],
   "source": [
    "compute_bleu(model, dev_inp, dev_out)"
   ]
  },
  {
   "cell_type": "markdown",
   "metadata": {},
   "source": [
    "### Training loop\n",
    "\n",
    "Training encoder-decoder models isn't that different from any other models: sample batches, compute loss, backprop and update"
   ]
  },
  {
   "cell_type": "code",
   "execution_count": 35,
   "metadata": {},
   "outputs": [],
   "source": [
    "inp = tf.placeholder('int32', [None, None])\n",
    "out = tf.placeholder('int32', [None, None])\n",
    "\n",
    "loss = compute_loss(model, inp, out)\n",
    "\n",
    "train_step = tf.train.AdamOptimizer().minimize(loss)"
   ]
  },
  {
   "cell_type": "code",
   "execution_count": 19,
   "metadata": {
    "scrolled": false
   },
   "outputs": [],
   "source": [
    "from IPython.display import clear_output\n",
    "from tqdm import tqdm, trange"
   ]
  },
  {
   "cell_type": "code",
   "execution_count": 36,
   "metadata": {
    "scrolled": false
   },
   "outputs": [],
   "source": [
    "metrics = {'train_loss': [], 'dev_bleu': [] }\n",
    "\n",
    "sess.run(tf.global_variables_initializer())\n",
    "batch_size = 32"
   ]
  },
  {
   "cell_type": "code",
   "execution_count": 37,
   "metadata": {
    "scrolled": true
   },
   "outputs": [
    {
     "data": {
      "image/png": "[encoded data removed]",
      "text/plain": [
       "<Figure size 864x288 with 2 Axes>"
      ]
     },
     "metadata": {},
     "output_type": "display_data"
    },
    {
     "name": "stdout",
     "output_type": "stream",
     "text": [
      "Mean loss=1.774\n"
     ]
    },
    {
     "name": "stderr",
     "output_type": "stream",
     "text": [
      "100%|██████████| 25000/25000 [50:15<00:00,  1.21it/s]\n"
     ]
    }
   ],
   "source": [
    "for _ in trange(25000):\n",
    "    step = len(metrics['train_loss']) + 1\n",
    "    batch_ix = np.random.randint(len(train_inp), size=batch_size)\n",
    "    feed_dict = {\n",
    "        inp: inp_voc.to_matrix(train_inp[batch_ix]),\n",
    "        out: out_voc.to_matrix(train_out[batch_ix]),\n",
    "    }\n",
    "    \n",
    "    loss_t, _ = sess.run([loss, train_step], feed_dict)\n",
    "    metrics['train_loss'].append((step, loss_t))\n",
    "    \n",
    "    if step % 100 == 0:\n",
    "        metrics['dev_bleu'].append((step, compute_bleu(model, dev_inp, dev_out)))\n",
    "        \n",
    "        clear_output(True)\n",
    "        plt.figure(figsize=(12,4))\n",
    "        for i, (name, history) in enumerate(sorted(metrics.items())):\n",
    "            plt.subplot(1, len(metrics), i + 1)\n",
    "            plt.title(name)\n",
    "            plt.plot(*zip(*history))\n",
    "            plt.grid()\n",
    "        plt.show()\n",
    "        print(\"Mean loss=%.3f\" % np.mean(metrics['train_loss'][-10:], axis=0)[1], flush=True)\n",
    "        \n",
    "# Note: it's okay if bleu oscillates up and down as long as it gets better on average over long term (e.g. 5k batches)"
   ]
  },
  {
   "cell_type": "code",
   "execution_count": 38,
   "metadata": {},
   "outputs": [],
   "source": [
    "assert np.mean(metrics['dev_bleu'][-10:], axis=0)[1] > 35, \"We kind of need a higher bleu BLEU from you. Kind of right now.\""
   ]
  },
  {
   "cell_type": "code",
   "execution_count": 39,
   "metadata": {},
   "outputs": [
    {
     "data": {
      "text/plain": [
       "47.38383855638854"
      ]
     },
     "execution_count": 39,
     "metadata": {},
     "output_type": "execute_result"
    }
   ],
   "source": [
    "np.mean(metrics['dev_bleu'][-10:], axis=0)[1]"
   ]
  },
  {
   "cell_type": "code",
   "execution_count": 173,
   "metadata": {},
   "outputs": [
    {
     "name": "stdout",
     "output_type": "stream",
     "text": [
      "на территории виллы sh@@ eng@@ si hu@@ a@@ jing находится сад и терраса .\n",
      "at holiday home sl@@ adi you will find a terrace and a terrace .\n",
      "\n",
      "в вашем распоряжении также телевизор и фен .\n",
      "a tv and a hairdryer is also provided .\n",
      "\n",
      "отель типа « постель и завтрак » the bel@@ lin@@ i house расположен в историческом центре неаполя , рядом с площадью пьяцца бел@@ лини .\n",
      "located in the historic centre of rome , the house is 1 block from piazza dei mar@@ ín .\n",
      "\n",
      "отель находится в 100 метрах от площади дже@@ ма - эль - ф@@ на , в 100 метрах от марраке@@ ш@@ ской мед@@ ины и в 200 метрах от рынка мед@@ ины .\n",
      "the hotel is 100 metres from the commercial centre and 800 metres from the commercial area and the famous holy trans@@ ef fort .\n",
      "\n",
      "к услугам гостей бесплатный wifi , кондиционер и стиральная машина .\n",
      "it offers air - conditioned accommodation with free wi - fi and a washing machine .\n",
      "\n",
      "в окрест@@ ных супермарке@@ тах предлагается услуга доставки продуктов из магазинов . в торго@@ вом квартале ван@@ да плаза открыты различные ресторан@@ ные заведения .\n",
      "the hotel has a restaurant , a dining area and a direct link to the city centre .\n",
      "\n"
     ]
    }
   ],
   "source": [
    "for inp_line, trans_line in zip(dev_inp[1::500], model.translate_lines(dev_inp[1::500])[0]):\n",
    "    print(inp_line)\n",
    "    print(trans_line)\n",
    "    print()"
   ]
  },
  {
   "cell_type": "markdown",
   "metadata": {},
   "source": [
    "### Your Attention Required (4 points)\n",
    "\n",
    "In this section we want you to improve over the basic model by implementing a simple attention mechanism.\n",
    "\n",
    "This is gonna be a two-parter: building the __attention layer__ and using it for an __attentive seq2seq model__."
   ]
  },
  {
   "cell_type": "markdown",
   "metadata": {},
   "source": [
    "### Attention layer\n",
    "\n",
    "Here you will have to implement a layer that computes a simple additive attention:\n",
    "\n",
    "Given encoder sequence $ h^e_0, h^e_1, h^e_2, ..., h^e_T$ and a single decoder state $h^d$,\n",
    "\n",
    "* Compute logits with a 2-layer neural network\n",
    "$$a_t = linear_{out}(tanh(linear_{e}(h^e_t) + linear_{d}(h_d)))$$\n",
    "* Get probabilities from logits, \n",
    "$$ p_t = {{e ^ {a_t}} \\over { \\sum_\\tau e^{a_\\tau} }} $$\n",
    "\n",
    "* Add up encoder states with probabilities to get __attention response__\n",
    "$$ attn = \\sum_t p_t \\cdot h^e_t $$\n",
    "\n",
    "You can learn more about attention layers in the leture slides or [from this post](https://distill.pub/2016/augmented-rnns/)."
   ]
  },
  {
   "cell_type": "code",
   "execution_count": 20,
   "metadata": {},
   "outputs": [],
   "source": [
    "class AttentionLayer:\n",
    "    def __init__(self, name, enc_size, dec_size, hid_size, activ=tf.tanh,):\n",
    "        \"\"\" A layer that computes additive attention response and weights \"\"\"\n",
    "        self.name = name\n",
    "        self.enc_size = enc_size # num units in encoder state\n",
    "        self.dec_size = dec_size # num units in decoder state\n",
    "        self.hid_size = hid_size # attention layer hidden units\n",
    "        self.activ = activ       # attention layer hidden nonlinearity\n",
    "\n",
    "        with tf.variable_scope(name):\n",
    "            # YOUR CODE - create layer variables\n",
    "            self.state_tr = L.Dense(hid_size)\n",
    "            self.enc_tr = L.Dense(hid_size)\n",
    "            self.add = L.Dense(hid_size, activation=activ)\n",
    "            self.attn = L.Dense(1)\n",
    "\n",
    "    def __call__(self, enc, dec, inp_mask):\n",
    "        \"\"\"\n",
    "        Computes attention response and weights\n",
    "        :param enc: encoder activation sequence, float32[batch_size, ninp, enc_size]\n",
    "        :param dec: single decoder state used as \"query\", float32[batch_size, dec_size]\n",
    "        :param inp_mask: mask on enc activatons (0 after first eos), float32 [batch_size, ninp]\n",
    "        :returns: attn[batch_size, enc_size], probs[batch_size, ninp]\n",
    "            - attn - attention response vector (weighted sum of enc)\n",
    "            - probs - attention weights after softmax\n",
    "        \"\"\"\n",
    "        with tf.variable_scope(self.name):\n",
    "            \n",
    "            # Compute logits\n",
    "            state_transform = self.state_tr(dec)\n",
    "            enc_transform = self.enc_tr(enc)\n",
    "            addition = self.add(tf.tile(tf.expand_dims(state_transform, 1), [1, tf.shape(enc_transform)[1], 1]) + enc_transform)\n",
    "            attn_logits = self.attn(addition)\n",
    "            attn_logits = tf.reduce_sum(attn_logits, axis=-1)\n",
    "            \n",
    "            \n",
    "            # Apply mask - if mask is 0, logits should be -inf or -1e9\n",
    "            # You may need tf.where\n",
    "            attn_logits = tf.where(inp_mask>0, attn_logits, tf.multiply(tf.ones(tf.shape(attn_logits)), tf.constant(-1e9)))\n",
    "            \n",
    "            # Compute attention probabilities (softmax)\n",
    "            probs = tf.nn.softmax(attn_logits, axis=-1)\n",
    "            \n",
    "            # Compute attention response using enc and probs\n",
    "            attn = tf.reduce_sum(tf.multiply(tf.tile(tf.expand_dims(probs, axis=-1), [1,1,self.enc_size]), enc), axis=-2)\n",
    "            \n",
    "            return attn, probs"
   ]
  },
  {
   "cell_type": "markdown",
   "metadata": {},
   "source": [
    "### Seq2seq model with attention\n",
    "\n",
    "You can now use the attention layer to build a network. The simplest way to implement attention is to use it in decoder phase:\n",
    "![img](https://i.imgur.com/6fKHlHb.png)\n",
    "_image from distill.pub [article](https://distill.pub/2016/augmented-rnns/)_\n",
    "\n",
    "On every step, use __previous__ decoder state to obtain attention response. Then feed concat this response to the inputs of next attetion layer.\n",
    "\n",
    "The key implementation detail here is __model state__. Put simply, you can add any tensor into the list of `encode` outputs. You will then have access to them at each `decode` step. This may include:\n",
    "* Last RNN hidden states (as in basic model)\n",
    "* The whole sequence of encoder outputs (to attend to) and mask\n",
    "* Attention probabilities (to visualize)\n",
    "\n",
    "_There are, of course, alternative ways to wire attention into your network and different kinds of attention. Take a look at [this](https://arxiv.org/abs/1609.08144), [this](https://arxiv.org/abs/1706.03762) and [this](https://arxiv.org/abs/1808.03867) for ideas. And for image captioning/im2latex there's [visual attention](https://arxiv.org/abs/1502.03044)_"
   ]
  },
  {
   "cell_type": "code",
   "execution_count": 21,
   "metadata": {},
   "outputs": [],
   "source": [
    "class AttentiveModel(BasicModel):\n",
    "    def __init__(self, name, inp_voc, out_voc,\n",
    "                 emb_size=64, hid_size=128, attn_size=128):\n",
    "        \"\"\" Translation model that uses attention. See instructions above. \"\"\"\n",
    "        self.name = name\n",
    "        self.inp_voc = inp_voc\n",
    "        self.out_voc = out_voc\n",
    "\n",
    "        with tf.variable_scope(name):\n",
    "            \n",
    "            # YOUR CODE - define model layers\n",
    "            \n",
    "            self.emb_inp = L.Embedding(len(inp_voc), emb_size)\n",
    "            self.emb_out = L.Embedding(len(out_voc), emb_size)\n",
    "            self.enc0 = tf.nn.rnn_cell.GRUCell(hid_size)\n",
    "\n",
    "            self.dec_start = L.Dense(hid_size)\n",
    "            self.dec0 = tf.nn.rnn_cell.GRUCell(hid_size)\n",
    "            self.logits = L.Dense(len(out_voc))\n",
    "            \n",
    "            self.attn_layer = AttentionLayer('attn_l', hid_size, hid_size, hid_size)\n",
    "            \n",
    "            # END OF YOUR CODE\n",
    "            \n",
    "            # prepare to translate_lines\n",
    "            self.inp = tf.placeholder('int32', [None, None])\n",
    "            self.initial_state = self.prev_state = self.encode(self.inp)\n",
    "            self.prev_tokens = tf.placeholder('int32', [None])\n",
    "            self.next_state, self.next_logits = self.decode(self.prev_state, self.prev_tokens)\n",
    "\n",
    "        self.weights = tf.get_collection(tf.GraphKeys.TRAINABLE_VARIABLES, scope=name)\n",
    "\n",
    "    def encode(self, inp, **flags):\n",
    "        \"\"\"\n",
    "        Takes symbolic input sequence, computes initial state\n",
    "        :param inp: matrix of input tokens [batch, time]\n",
    "        :return: a list of initial decoder state tensors\n",
    "        \"\"\"\n",
    "        \n",
    "        # encode input sequence, create initial decoder states\n",
    "        inp_lengths = infer_length(inp, self.inp_voc.eos_ix)\n",
    "        inp_emb = self.emb_inp(inp)\n",
    "        with tf.variable_scope('enc0'):\n",
    "            enc, enc_last = tf.nn.dynamic_rnn(\n",
    "                              self.enc0, inp_emb,\n",
    "                              sequence_length=inp_lengths,\n",
    "                              dtype = inp_emb.dtype)\n",
    "        dec_start = self.dec_start(enc_last)\n",
    "#         return [dec_start]\n",
    "        \n",
    "        # apply attention layer from initial decoder hidden state\n",
    "        mask = infer_mask(inp, inp_voc.eos_ix) \n",
    "        first_attn_response, first_attn_probas = self.attn_layer(enc, dec_start, mask)\n",
    "        \n",
    "        # Build first state: include\n",
    "        # * initial states for decoder recurrent layers\n",
    "        # * encoder sequence and encoder attn mask (for attention)\n",
    "        # * make sure that last state item is attention probabilities tensor\n",
    "        \n",
    "        first_state = [dec_start, enc, mask, first_attn_response, first_attn_probas]\n",
    "        return first_state\n",
    "\n",
    "    def decode(self, prev_state, prev_tokens, **flags):\n",
    "        \"\"\"\n",
    "        Takes previous decoder state and tokens, returns new state and logits\n",
    "        :param prev_state: a list of previous decoder state tensors\n",
    "        :param prev_tokens: previous output tokens, an int vector of [batch_size]\n",
    "        :return: a list of next decoder state tensors, a tensor of logits [batch,n_tokens]\n",
    "        \"\"\"\n",
    "        # Unpack your state: you will get tensors in the same order that you've packed in encode\n",
    "        [prev_dec, enc, mask, prev_attn_response, prev_attn_probas] = prev_state\n",
    "        next_attn_response, next_attn_probas = self.attn_layer(enc, prev_dec, mask)\n",
    "        prev_emb = self.emb_out(prev_tokens[:,None])[:,0]\n",
    "        prev_attn_dec = tf.concat((prev_emb, prev_attn_response), axis=-1)\n",
    "        with tf.variable_scope('dec0'):\n",
    "            new_dec_out, new_dec_state = self.dec0(prev_emb, prev_dec)\n",
    "        output_logits = self.logits(new_dec_out)\n",
    "#         return [new_dec_state], output_logits\n",
    "        \n",
    "        \n",
    "        # Perform decoder step\n",
    "        # * predict next attn response and attn probas given previous decoder state\n",
    "        # * use prev token embedding and attn response to update decoder states (concatenate and feed into decoder cell)\n",
    "        # * predict logits\n",
    "        \n",
    "        \n",
    "\n",
    "#         <YOUR CODE>\n",
    "        \n",
    "        # Pack new state:\n",
    "        # * replace previous decoder state with next one\n",
    "        # * copy encoder sequence and mask from prev_state\n",
    "        # * append new attention probas\n",
    "        \n",
    "        next_state = [new_dec_state, enc, mask, next_attn_response, next_attn_probas]\n",
    "        return next_state, output_logits\n"
   ]
  },
  {
   "cell_type": "code",
   "execution_count": 22,
   "metadata": {},
   "outputs": [],
   "source": [
    "sess.close()"
   ]
  },
  {
   "cell_type": "code",
   "execution_count": 23,
   "metadata": {},
   "outputs": [],
   "source": [
    "# WARNING! this cell will clear your TF graph from the regular model. All trained variables will be gone!\n",
    "tf.reset_default_graph()\n",
    "sess = tf.InteractiveSession()\n",
    "model = AttentiveModel('model_attn', inp_voc, out_voc)"
   ]
  },
  {
   "cell_type": "markdown",
   "metadata": {},
   "source": [
    "### Training attentive model\n",
    "\n",
    "We'll reuse the infrastructure you've built for the regular model. I hope you didn't hard-code anything :)"
   ]
  },
  {
   "cell_type": "code",
   "execution_count": 24,
   "metadata": {},
   "outputs": [],
   "source": [
    "inp = tf.placeholder('int32', [None, None])\n",
    "out = tf.placeholder('int32', [None, None])\n",
    "\n",
    "loss = compute_loss(model, inp, out)\n",
    "train_step = tf.train.AdamOptimizer().minimize(loss)"
   ]
  },
  {
   "cell_type": "code",
   "execution_count": 25,
   "metadata": {},
   "outputs": [],
   "source": [
    "metrics = {'train_loss': [], 'dev_bleu': []}\n",
    "sess.run(tf.global_variables_initializer())\n",
    "batch_size = 32"
   ]
  },
  {
   "cell_type": "code",
   "execution_count": 26,
   "metadata": {},
   "outputs": [
    {
     "data": {
      "image/png": "[encoded data removed]",
      "text/plain": [
       "<Figure size 864x288 with 2 Axes>"
      ]
     },
     "metadata": {},
     "output_type": "display_data"
    },
    {
     "name": "stdout",
     "output_type": "stream",
     "text": [
      "Mean loss=1.710\n"
     ]
    },
    {
     "name": "stderr",
     "output_type": "stream",
     "text": [
      "100%|██████████| 25000/25000 [1:00:11<00:00,  1.17s/it]\n"
     ]
    }
   ],
   "source": [
    "for _ in trange(25000):\n",
    "    step = len(metrics['train_loss']) + 1\n",
    "    batch_ix = np.random.randint(len(train_inp), size=batch_size)\n",
    "    feed_dict = {\n",
    "        inp: inp_voc.to_matrix(train_inp[batch_ix]),\n",
    "        out: out_voc.to_matrix(train_out[batch_ix]),\n",
    "    }\n",
    "    \n",
    "    loss_t, _ = sess.run([loss, train_step], feed_dict)\n",
    "    metrics['train_loss'].append((step, loss_t))\n",
    "    \n",
    "    if step % 100 == 0:\n",
    "        metrics['dev_bleu'].append((step, compute_bleu(model, dev_inp, dev_out)))\n",
    "        \n",
    "        clear_output(True)\n",
    "        plt.figure(figsize=(12,4))\n",
    "        for i, (name, history) in enumerate(sorted(metrics.items())):\n",
    "            plt.subplot(1, len(metrics), i + 1)\n",
    "            plt.title(name)\n",
    "            plt.plot(*zip(*history))\n",
    "            plt.grid()\n",
    "        plt.show()\n",
    "        print(\"Mean loss=%.3f\" % np.mean(metrics['train_loss'][-10:], axis=0)[1], flush=True)\n",
    "\n",
    "# Your model may train slower than the basic one. check that it's at least >30 bleu by 5k steps\n",
    "# Also: you don't have to train for 25k steps. It was chosen by a squirrel."
   ]
  },
  {
   "cell_type": "code",
   "execution_count": 27,
   "metadata": {},
   "outputs": [
    {
     "data": {
      "text/plain": [
       "46.03266301364794"
      ]
     },
     "execution_count": 27,
     "metadata": {},
     "output_type": "execute_result"
    }
   ],
   "source": [
    "np.mean(metrics['dev_bleu'][-10:], axis=0)[1]"
   ]
  },
  {
   "cell_type": "code",
   "execution_count": 28,
   "metadata": {},
   "outputs": [],
   "source": [
    "assert np.mean(metrics['dev_bleu'][-10:], axis=0)[1] > 45, \"Something might be wrong with the model...\""
   ]
  },
  {
   "cell_type": "code",
   "execution_count": 170,
   "metadata": {},
   "outputs": [
    {
     "data": {
      "text/html": [
       "\n",
       "    <div class=\"bk-root\">\n",
       "        <a href=\"https://bokeh.pydata.org\" target=\"_blank\" class=\"bk-logo bk-logo-small bk-logo-notebook\"></a>\n",
       "        <span id=\"348ece32-2c64-42bb-aa04-b55660b7c3d9\">Loading BokehJS ...</span>\n",
       "    </div>"
      ]
     },
     "metadata": {},
     "output_type": "display_data"
    },
    {
     "data": {
      "application/javascript": [
       "\n",
       "(function(root) {\n",
       "  function now() {\n",
       "    return new Date();\n",
       "  }\n",
       "\n",
       "  var force = true;\n",
       "\n",
       "  if (typeof (root._bokeh_onload_callbacks) === \"undefined\" || force === true) {\n",
       "    root._bokeh_onload_callbacks = [];\n",
       "    root._bokeh_is_loading = undefined;\n",
       "  }\n",
       "\n",
       "  var JS_MIME_TYPE = 'application/javascript';\n",
       "  var HTML_MIME_TYPE = 'text/html';\n",
       "  var EXEC_MIME_TYPE = 'application/vnd.bokehjs_exec.v0+json';\n",
       "  var CLASS_NAME = 'output_bokeh rendered_html';\n",
       "\n",
       "  /**\n",
       "   * Render data to the DOM node\n",
       "   */\n",
       "  function render(props, node) {\n",
       "    var script = document.createElement(\"script\");\n",
       "    node.appendChild(script);\n",
       "  }\n",
       "\n",
       "  /**\n",
       "   * Handle when an output is cleared or removed\n",
       "   */\n",
       "  function handleClearOutput(event, handle) {\n",
       "    var cell = handle.cell;\n",
       "\n",
       "    var id = cell.output_area._bokeh_element_id;\n",
       "    var server_id = cell.output_area._bokeh_server_id;\n",
       "    // Clean up Bokeh references\n",
       "    if (id != null && id in Bokeh.index) {\n",
       "      Bokeh.index[id].model.document.clear();\n",
       "      delete Bokeh.index[id];\n",
       "    }\n",
       "\n",
       "    if (server_id !== undefined) {\n",
       "      // Clean up Bokeh references\n",
       "      var cmd = \"from bokeh.io.state import curstate; print(curstate().uuid_to_server['\" + server_id + \"'].get_sessions()[0].document.roots[0]._id)\";\n",
       "      cell.notebook.kernel.execute(cmd, {\n",
       "        iopub: {\n",
       "          output: function(msg) {\n",
       "            var id = msg.content.text.trim();\n",
       "            if (id in Bokeh.index) {\n",
       "              Bokeh.index[id].model.document.clear();\n",
       "              delete Bokeh.index[id];\n",
       "            }\n",
       "          }\n",
       "        }\n",
       "      });\n",
       "      // Destroy server and session\n",
       "      var cmd = \"import bokeh.io.notebook as ion; ion.destroy_server('\" + server_id + \"')\";\n",
       "      cell.notebook.kernel.execute(cmd);\n",
       "    }\n",
       "  }\n",
       "\n",
       "  /**\n",
       "   * Handle when a new output is added\n",
       "   */\n",
       "  function handleAddOutput(event, handle) {\n",
       "    var output_area = handle.output_area;\n",
       "    var output = handle.output;\n",
       "\n",
       "    // limit handleAddOutput to display_data with EXEC_MIME_TYPE content only\n",
       "    if ((output.output_type != \"display_data\") || (!output.data.hasOwnProperty(EXEC_MIME_TYPE))) {\n",
       "      return\n",
       "    }\n",
       "\n",
       "    var toinsert = output_area.element.find(\".\" + CLASS_NAME.split(' ')[0]);\n",
       "\n",
       "    if (output.metadata[EXEC_MIME_TYPE][\"id\"] !== undefined) {\n",
       "      toinsert[toinsert.length - 1].firstChild.textContent = output.data[JS_MIME_TYPE];\n",
       "      // store reference to embed id on output_area\n",
       "      output_area._bokeh_element_id = output.metadata[EXEC_MIME_TYPE][\"id\"];\n",
       "    }\n",
       "    if (output.metadata[EXEC_MIME_TYPE][\"server_id\"] !== undefined) {\n",
       "      var bk_div = document.createElement(\"div\");\n",
       "      bk_div.innerHTML = output.data[HTML_MIME_TYPE];\n",
       "      var script_attrs = bk_div.children[0].attributes;\n",
       "      for (var i = 0; i < script_attrs.length; i++) {\n",
       "        toinsert[toinsert.length - 1].firstChild.setAttribute(script_attrs[i].name, script_attrs[i].value);\n",
       "      }\n",
       "      // store reference to server id on output_area\n",
       "      output_area._bokeh_server_id = output.metadata[EXEC_MIME_TYPE][\"server_id\"];\n",
       "    }\n",
       "  }\n",
       "\n",
       "  function register_renderer(events, OutputArea) {\n",
       "\n",
       "    function append_mime(data, metadata, element) {\n",
       "      // create a DOM node to render to\n",
       "      var toinsert = this.create_output_subarea(\n",
       "        metadata,\n",
       "        CLASS_NAME,\n",
       "        EXEC_MIME_TYPE\n",
       "      );\n",
       "      this.keyboard_manager.register_events(toinsert);\n",
       "      // Render to node\n",
       "      var props = {data: data, metadata: metadata[EXEC_MIME_TYPE]};\n",
       "      render(props, toinsert[toinsert.length - 1]);\n",
       "      element.append(toinsert);\n",
       "      return toinsert\n",
       "    }\n",
       "\n",
       "    /* Handle when an output is cleared or removed */\n",
       "    events.on('clear_output.CodeCell', handleClearOutput);\n",
       "    events.on('delete.Cell', handleClearOutput);\n",
       "\n",
       "    /* Handle when a new output is added */\n",
       "    events.on('output_added.OutputArea', handleAddOutput);\n",
       "\n",
       "    /**\n",
       "     * Register the mime type and append_mime function with output_area\n",
       "     */\n",
       "    OutputArea.prototype.register_mime_type(EXEC_MIME_TYPE, append_mime, {\n",
       "      /* Is output safe? */\n",
       "      safe: true,\n",
       "      /* Index of renderer in `output_area.display_order` */\n",
       "      index: 0\n",
       "    });\n",
       "  }\n",
       "\n",
       "  // register the mime type if in Jupyter Notebook environment and previously unregistered\n",
       "  if (root.Jupyter !== undefined) {\n",
       "    var events = require('base/js/events');\n",
       "    var OutputArea = require('notebook/js/outputarea').OutputArea;\n",
       "\n",
       "    if (OutputArea.prototype.mime_types().indexOf(EXEC_MIME_TYPE) == -1) {\n",
       "      register_renderer(events, OutputArea);\n",
       "    }\n",
       "  }\n",
       "\n",
       "  \n",
       "  if (typeof (root._bokeh_timeout) === \"undefined\" || force === true) {\n",
       "    root._bokeh_timeout = Date.now() + 5000;\n",
       "    root._bokeh_failed_load = false;\n",
       "  }\n",
       "\n",
       "  var NB_LOAD_WARNING = {'data': {'text/html':\n",
       "     \"<div style='background-color: #fdd'>\\n\"+\n",
       "     \"<p>\\n\"+\n",
       "     \"BokehJS does not appear to have successfully loaded. If loading BokehJS from CDN, this \\n\"+\n",
       "     \"may be due to a slow or bad network connection. Possible fixes:\\n\"+\n",
       "     \"</p>\\n\"+\n",
       "     \"<ul>\\n\"+\n",
       "     \"<li>re-rerun `output_notebook()` to attempt to load from CDN again, or</li>\\n\"+\n",
       "     \"<li>use INLINE resources instead, as so:</li>\\n\"+\n",
       "     \"</ul>\\n\"+\n",
       "     \"<code>\\n\"+\n",
       "     \"from bokeh.resources import INLINE\\n\"+\n",
       "     \"output_notebook(resources=INLINE)\\n\"+\n",
       "     \"</code>\\n\"+\n",
       "     \"</div>\"}};\n",
       "\n",
       "  function display_loaded() {\n",
       "    var el = document.getElementById(\"348ece32-2c64-42bb-aa04-b55660b7c3d9\");\n",
       "    if (el != null) {\n",
       "      el.textContent = \"BokehJS is loading...\";\n",
       "    }\n",
       "    if (root.Bokeh !== undefined) {\n",
       "      if (el != null) {\n",
       "        el.textContent = \"BokehJS \" + root.Bokeh.version + \" successfully loaded.\";\n",
       "      }\n",
       "    } else if (Date.now() < root._bokeh_timeout) {\n",
       "      setTimeout(display_loaded, 100)\n",
       "    }\n",
       "  }\n",
       "\n",
       "\n",
       "  function run_callbacks() {\n",
       "    try {\n",
       "      root._bokeh_onload_callbacks.forEach(function(callback) { callback() });\n",
       "    }\n",
       "    finally {\n",
       "      delete root._bokeh_onload_callbacks\n",
       "    }\n",
       "    console.info(\"Bokeh: all callbacks have finished\");\n",
       "  }\n",
       "\n",
       "  function load_libs(js_urls, callback) {\n",
       "    root._bokeh_onload_callbacks.push(callback);\n",
       "    if (root._bokeh_is_loading > 0) {\n",
       "      console.log(\"Bokeh: BokehJS is being loaded, scheduling callback at\", now());\n",
       "      return null;\n",
       "    }\n",
       "    if (js_urls == null || js_urls.length === 0) {\n",
       "      run_callbacks();\n",
       "      return null;\n",
       "    }\n",
       "    console.log(\"Bokeh: BokehJS not loaded, scheduling load and callback at\", now());\n",
       "    root._bokeh_is_loading = js_urls.length;\n",
       "    for (var i = 0; i < js_urls.length; i++) {\n",
       "      var url = js_urls[i];\n",
       "      var s = document.createElement('script');\n",
       "      s.src = url;\n",
       "      s.async = false;\n",
       "      s.onreadystatechange = s.onload = function() {\n",
       "        root._bokeh_is_loading--;\n",
       "        if (root._bokeh_is_loading === 0) {\n",
       "          console.log(\"Bokeh: all BokehJS libraries loaded\");\n",
       "          run_callbacks()\n",
       "        }\n",
       "      };\n",
       "      s.onerror = function() {\n",
       "        console.warn(\"failed to load library \" + url);\n",
       "      };\n",
       "      console.log(\"Bokeh: injecting script tag for BokehJS library: \", url);\n",
       "      document.getElementsByTagName(\"head\")[0].appendChild(s);\n",
       "    }\n",
       "  };var element = document.getElementById(\"348ece32-2c64-42bb-aa04-b55660b7c3d9\");\n",
       "  if (element == null) {\n",
       "    console.log(\"Bokeh: ERROR: autoload.js configured with elementid '348ece32-2c64-42bb-aa04-b55660b7c3d9' but no matching script tag was found. \")\n",
       "    return false;\n",
       "  }\n",
       "\n",
       "  var js_urls = [\"https://cdn.pydata.org/bokeh/release/bokeh-0.13.0.min.js\", \"https://cdn.pydata.org/bokeh/release/bokeh-widgets-0.13.0.min.js\", \"https://cdn.pydata.org/bokeh/release/bokeh-tables-0.13.0.min.js\", \"https://cdn.pydata.org/bokeh/release/bokeh-gl-0.13.0.min.js\"];\n",
       "\n",
       "  var inline_js = [\n",
       "    function(Bokeh) {\n",
       "      Bokeh.set_log_level(\"info\");\n",
       "    },\n",
       "    \n",
       "    function(Bokeh) {\n",
       "      \n",
       "    },\n",
       "    function(Bokeh) {\n",
       "      console.log(\"Bokeh: injecting CSS: https://cdn.pydata.org/bokeh/release/bokeh-0.13.0.min.css\");\n",
       "      Bokeh.embed.inject_css(\"https://cdn.pydata.org/bokeh/release/bokeh-0.13.0.min.css\");\n",
       "      console.log(\"Bokeh: injecting CSS: https://cdn.pydata.org/bokeh/release/bokeh-widgets-0.13.0.min.css\");\n",
       "      Bokeh.embed.inject_css(\"https://cdn.pydata.org/bokeh/release/bokeh-widgets-0.13.0.min.css\");\n",
       "      console.log(\"Bokeh: injecting CSS: https://cdn.pydata.org/bokeh/release/bokeh-tables-0.13.0.min.css\");\n",
       "      Bokeh.embed.inject_css(\"https://cdn.pydata.org/bokeh/release/bokeh-tables-0.13.0.min.css\");\n",
       "    }\n",
       "  ];\n",
       "\n",
       "  function run_inline_js() {\n",
       "    \n",
       "    if ((root.Bokeh !== undefined) || (force === true)) {\n",
       "      for (var i = 0; i < inline_js.length; i++) {\n",
       "        inline_js[i].call(root, root.Bokeh);\n",
       "      }if (force === true) {\n",
       "        display_loaded();\n",
       "      }} else if (Date.now() < root._bokeh_timeout) {\n",
       "      setTimeout(run_inline_js, 100);\n",
       "    } else if (!root._bokeh_failed_load) {\n",
       "      console.log(\"Bokeh: BokehJS failed to load within specified timeout.\");\n",
       "      root._bokeh_failed_load = true;\n",
       "    } else if (force !== true) {\n",
       "      var cell = $(document.getElementById(\"348ece32-2c64-42bb-aa04-b55660b7c3d9\")).parents('.cell').data().cell;\n",
       "      cell.output_area.append_execute_result(NB_LOAD_WARNING)\n",
       "    }\n",
       "\n",
       "  }\n",
       "\n",
       "  if (root._bokeh_is_loading === 0) {\n",
       "    console.log(\"Bokeh: BokehJS loaded, going straight to plotting\");\n",
       "    run_inline_js();\n",
       "  } else {\n",
       "    load_libs(js_urls, function() {\n",
       "      console.log(\"Bokeh: BokehJS plotting callback run at\", now());\n",
       "      run_inline_js();\n",
       "    });\n",
       "  }\n",
       "}(window));"
      ],
      "application/vnd.bokehjs_load.v0+json": "\n(function(root) {\n  function now() {\n    return new Date();\n  }\n\n  var force = true;\n\n  if (typeof (root._bokeh_onload_callbacks) === \"undefined\" || force === true) {\n    root._bokeh_onload_callbacks = [];\n    root._bokeh_is_loading = undefined;\n  }\n\n  \n\n  \n  if (typeof (root._bokeh_timeout) === \"undefined\" || force === true) {\n    root._bokeh_timeout = Date.now() + 5000;\n    root._bokeh_failed_load = false;\n  }\n\n  var NB_LOAD_WARNING = {'data': {'text/html':\n     \"<div style='background-color: #fdd'>\\n\"+\n     \"<p>\\n\"+\n     \"BokehJS does not appear to have successfully loaded. If loading BokehJS from CDN, this \\n\"+\n     \"may be due to a slow or bad network connection. Possible fixes:\\n\"+\n     \"</p>\\n\"+\n     \"<ul>\\n\"+\n     \"<li>re-rerun `output_notebook()` to attempt to load from CDN again, or</li>\\n\"+\n     \"<li>use INLINE resources instead, as so:</li>\\n\"+\n     \"</ul>\\n\"+\n     \"<code>\\n\"+\n     \"from bokeh.resources import INLINE\\n\"+\n     \"output_notebook(resources=INLINE)\\n\"+\n     \"</code>\\n\"+\n     \"</div>\"}};\n\n  function display_loaded() {\n    var el = document.getElementById(\"348ece32-2c64-42bb-aa04-b55660b7c3d9\");\n    if (el != null) {\n      el.textContent = \"BokehJS is loading...\";\n    }\n    if (root.Bokeh !== undefined) {\n      if (el != null) {\n        el.textContent = \"BokehJS \" + root.Bokeh.version + \" successfully loaded.\";\n      }\n    } else if (Date.now() < root._bokeh_timeout) {\n      setTimeout(display_loaded, 100)\n    }\n  }\n\n\n  function run_callbacks() {\n    try {\n      root._bokeh_onload_callbacks.forEach(function(callback) { callback() });\n    }\n    finally {\n      delete root._bokeh_onload_callbacks\n    }\n    console.info(\"Bokeh: all callbacks have finished\");\n  }\n\n  function load_libs(js_urls, callback) {\n    root._bokeh_onload_callbacks.push(callback);\n    if (root._bokeh_is_loading > 0) {\n      console.log(\"Bokeh: BokehJS is being loaded, scheduling callback at\", now());\n      return null;\n    }\n    if (js_urls == null || js_urls.length === 0) {\n      run_callbacks();\n      return null;\n    }\n    console.log(\"Bokeh: BokehJS not loaded, scheduling load and callback at\", now());\n    root._bokeh_is_loading = js_urls.length;\n    for (var i = 0; i < js_urls.length; i++) {\n      var url = js_urls[i];\n      var s = document.createElement('script');\n      s.src = url;\n      s.async = false;\n      s.onreadystatechange = s.onload = function() {\n        root._bokeh_is_loading--;\n        if (root._bokeh_is_loading === 0) {\n          console.log(\"Bokeh: all BokehJS libraries loaded\");\n          run_callbacks()\n        }\n      };\n      s.onerror = function() {\n        console.warn(\"failed to load library \" + url);\n      };\n      console.log(\"Bokeh: injecting script tag for BokehJS library: \", url);\n      document.getElementsByTagName(\"head\")[0].appendChild(s);\n    }\n  };var element = document.getElementById(\"348ece32-2c64-42bb-aa04-b55660b7c3d9\");\n  if (element == null) {\n    console.log(\"Bokeh: ERROR: autoload.js configured with elementid '348ece32-2c64-42bb-aa04-b55660b7c3d9' but no matching script tag was found. \")\n    return false;\n  }\n\n  var js_urls = [\"https://cdn.pydata.org/bokeh/release/bokeh-0.13.0.min.js\", \"https://cdn.pydata.org/bokeh/release/bokeh-widgets-0.13.0.min.js\", \"https://cdn.pydata.org/bokeh/release/bokeh-tables-0.13.0.min.js\", \"https://cdn.pydata.org/bokeh/release/bokeh-gl-0.13.0.min.js\"];\n\n  var inline_js = [\n    function(Bokeh) {\n      Bokeh.set_log_level(\"info\");\n    },\n    \n    function(Bokeh) {\n      \n    },\n    function(Bokeh) {\n      console.log(\"Bokeh: injecting CSS: https://cdn.pydata.org/bokeh/release/bokeh-0.13.0.min.css\");\n      Bokeh.embed.inject_css(\"https://cdn.pydata.org/bokeh/release/bokeh-0.13.0.min.css\");\n      console.log(\"Bokeh: injecting CSS: https://cdn.pydata.org/bokeh/release/bokeh-widgets-0.13.0.min.css\");\n      Bokeh.embed.inject_css(\"https://cdn.pydata.org/bokeh/release/bokeh-widgets-0.13.0.min.css\");\n      console.log(\"Bokeh: injecting CSS: https://cdn.pydata.org/bokeh/release/bokeh-tables-0.13.0.min.css\");\n      Bokeh.embed.inject_css(\"https://cdn.pydata.org/bokeh/release/bokeh-tables-0.13.0.min.css\");\n    }\n  ];\n\n  function run_inline_js() {\n    \n    if ((root.Bokeh !== undefined) || (force === true)) {\n      for (var i = 0; i < inline_js.length; i++) {\n        inline_js[i].call(root, root.Bokeh);\n      }if (force === true) {\n        display_loaded();\n      }} else if (Date.now() < root._bokeh_timeout) {\n      setTimeout(run_inline_js, 100);\n    } else if (!root._bokeh_failed_load) {\n      console.log(\"Bokeh: BokehJS failed to load within specified timeout.\");\n      root._bokeh_failed_load = true;\n    } else if (force !== true) {\n      var cell = $(document.getElementById(\"348ece32-2c64-42bb-aa04-b55660b7c3d9\")).parents('.cell').data().cell;\n      cell.output_area.append_execute_result(NB_LOAD_WARNING)\n    }\n\n  }\n\n  if (root._bokeh_is_loading === 0) {\n    console.log(\"Bokeh: BokehJS loaded, going straight to plotting\");\n    run_inline_js();\n  } else {\n    load_libs(js_urls, function() {\n      console.log(\"Bokeh: BokehJS plotting callback run at\", now());\n      run_inline_js();\n    });\n  }\n}(window));"
     },
     "metadata": {},
     "output_type": "display_data"
    }
   ],
   "source": [
    "import bokeh.plotting as pl\n",
    "import bokeh.models as bm\n",
    "from bokeh.io import output_notebook, show\n",
    "output_notebook()\n",
    "\n",
    "def draw_attention(inp_line, translation, probs):\n",
    "    \"\"\" An intentionally ambiguous function to visualize attention weights \"\"\"\n",
    "    inp_tokens = inp_voc.tokenize(inp_line)\n",
    "    trans_tokens = out_voc.tokenize(translation)\n",
    "    probs = probs[:len(trans_tokens), :len(inp_tokens)]\n",
    "    \n",
    "    fig = pl.figure(x_range=(0, len(inp_tokens)), y_range=(0, len(trans_tokens)),\n",
    "                    x_axis_type=None, y_axis_type=None, tools=[])\n",
    "    fig.image([probs[::-1]], 0, 0, len(inp_tokens), len(trans_tokens))\n",
    "\n",
    "    fig.add_layout(bm.LinearAxis(axis_label='source tokens'), 'above')\n",
    "    fig.xaxis.ticker = np.arange(len(inp_tokens)) + 0.5\n",
    "    fig.xaxis.major_label_overrides = dict(zip(np.arange(len(inp_tokens)) + 0.5, inp_tokens))\n",
    "    fig.xaxis.major_label_orientation = 45\n",
    "\n",
    "    fig.add_layout(bm.LinearAxis(axis_label='translation tokens'), 'left')\n",
    "    fig.yaxis.ticker = np.arange(len(trans_tokens)) + 0.5\n",
    "    fig.yaxis.major_label_overrides = dict(zip(np.arange(len(trans_tokens)) + 0.5, trans_tokens[::-1]))\n",
    "\n",
    "    show(fig)"
   ]
  },
  {
   "cell_type": "code",
   "execution_count": 171,
   "metadata": {},
   "outputs": [],
   "source": [
    "inp = dev_inp[::500]\n",
    "\n",
    "trans, states = model.translate_lines(inp)\n",
    "\n",
    "# select attention probs from model state (you may need to change this for your custom model)\n",
    "attention_probs = np.stack([state[-1] for state in states], axis=1)"
   ]
  },
  {
   "cell_type": "code",
   "execution_count": 172,
   "metadata": {
    "scrolled": false
   },
   "outputs": [
    {
     "data": {
      "text/html": [
       "\n",
       "\n",
       "\n",
       "\n",
       "\n",
       "\n",
       "  <div class=\"bk-root\" id=\"c35f37f7-432f-4105-a7dc-96ccd469015f\"></div>\n"
      ]
     },
     "metadata": {},
     "output_type": "display_data"
    },
    {
     "data": {
      "application/javascript": [
       "(function(root) {\n",
       "  function embed_document(root) {\n",
       "    \n",
       "  var docs_json = {\"6610e90e-021c-43be-b81d-9b145cf3619a\":{\"roots\":{\"references\":[{\"attributes\":{\"above\":[{\"id\":\"32560139-bfc9-4752-943d-b26563771ed7\",\"type\":\"LinearAxis\"}],\"left\":[{\"id\":\"58f341f4-332b-4c70-befa-eb8602b41ea3\",\"type\":\"LinearAxis\"}],\"renderers\":[{\"id\":\"a33b5ac0-8009-4562-b206-8d48217bf3cf\",\"type\":\"GlyphRenderer\"},{\"id\":\"32560139-bfc9-4752-943d-b26563771ed7\",\"type\":\"LinearAxis\"},{\"id\":\"58f341f4-332b-4c70-befa-eb8602b41ea3\",\"type\":\"LinearAxis\"}],\"title\":{\"id\":\"1afa831f-558b-4555-98e0-912057f1e1ba\",\"type\":\"Title\"},\"toolbar\":{\"id\":\"af7c483b-ec40-4902-b084-7112471fb322\",\"type\":\"Toolbar\"},\"x_range\":{\"id\":\"8a1478bc-fe83-43be-bd50-888584747869\",\"type\":\"Range1d\"},\"x_scale\":{\"id\":\"3a5f2421-123c-416a-ac38-ad78a39f7b73\",\"type\":\"LinearScale\"},\"y_range\":{\"id\":\"41d40509-ec44-4660-95a4-bc020061977c\",\"type\":\"Range1d\"},\"y_scale\":{\"id\":\"233fdc90-3b8b-42d0-a6aa-a9d822089255\",\"type\":\"LinearScale\"}},\"id\":\"0625c59b-89b6-4691-acc2-a99c45ed1fbe\",\"subtype\":\"Figure\",\"type\":\"Plot\"},{\"attributes\":{\"color_mapper\":{\"id\":\"646ea5e7-229e-4a9d-8550-f950150637d7\",\"type\":\"LinearColorMapper\"},\"dh\":{\"units\":\"data\",\"value\":12},\"dw\":{\"units\":\"data\",\"value\":11},\"image\":{\"field\":\"image\"},\"x\":{\"value\":0},\"y\":{\"value\":0}},\"id\":\"8baeca59-5010-42f9-844f-b72cbb946771\",\"type\":\"Image\"},{\"attributes\":{\"callback\":null,\"data\":{\"image\":[{\"__ndarray__\":\"IJnYPSWe4j3xteQ9LUbzPco6yj0VcaA9hWzZPesnij3EL4w98bmAPZqikT0l9+I9ZEnwPZLk8T39lgA+hrOzPSR+lz2uINg9wrWAPd1chT3ZTnY9iiCVPVE9yT1BMN49tkztPVV1CT4PdNg9Qr6kPaZU0z089II9yrdqPYzBej0oI5I9obvXPUqf6T2AKvA92q3/Pd+8vz2bb4Q9nw/QPcyJjT2Wu5U9im6FPbTckT2NtNw9SgroPf9d6z3u/PY9OqjcPWqilj2uq8c90/6HPZDhij3vVnU9DGSQPUv/8D0xOQI+ibkDPvwDCD5Mh8A9J3SJPQp1vj1dKXI9CclWPXw8az1ii5A9++DFPXCd4D1UmvE9DYkIPhRi4z0nt609XrvKPWkdjD1Qq0Y9ej1oPb9ulz2QS809ssDnPXIw+z0jkAQ+puDoPT0nnz1KYMo9kNCEPfEnUD1vH3A9nkaPPcFF2T1MgvE93M4CPjrpFT7litU9xKGZPUogyT1p+mo90lREPRzwYj0qW4I9Dw3oPdQUAD6UWQU+5YkWPh7Y4j2XRZ097ParPVWiVD2Ad0g9RAFRPVrAeT0ZgsU9oM3WPTVv4z3Tvfk9VkXjPRFgnj01Ic49NKiLPTQgiD3Ak4s9e2CXPRmCxT2gzdY9NW/jPdO9+T1WReM9EWCePTUhzj00qIs9NCCIPcCTiz17YJc9\",\"dtype\":\"float32\",\"shape\":[12,11]}]},\"selected\":{\"id\":\"e8bb88fd-5ee6-4fe7-a1f7-f8c96dcc52ec\",\"type\":\"Selection\"},\"selection_policy\":{\"id\":\"4197b7c7-0500-42ad-ab47-f41c336f61ee\",\"type\":\"UnionRenderers\"}},\"id\":\"f1e843f5-7cf5-47b1-a88a-7f080ddb9682\",\"type\":\"ColumnDataSource\"},{\"attributes\":{\"source\":{\"id\":\"f1e843f5-7cf5-47b1-a88a-7f080ddb9682\",\"type\":\"ColumnDataSource\"}},\"id\":\"c69d651e-2da0-43b8-a190-f7d9d5f31123\",\"type\":\"CDSView\"},{\"attributes\":{\"palette\":[\"#000000\",\"#252525\",\"#525252\",\"#737373\",\"#969696\",\"#bdbdbd\",\"#d9d9d9\",\"#f0f0f0\",\"#ffffff\"]},\"id\":\"646ea5e7-229e-4a9d-8550-f950150637d7\",\"type\":\"LinearColorMapper\"},{\"attributes\":{},\"id\":\"4197b7c7-0500-42ad-ab47-f41c336f61ee\",\"type\":\"UnionRenderers\"},{\"attributes\":{\"ticks\":[0.5,1.5,2.5,3.5,4.5,5.5,6.5,7.5,8.5,9.5,10.5,11.5]},\"id\":\"eba2ee19-8fd5-4be0-ae94-c4dc1f9288ab\",\"type\":\"FixedTicker\"},{\"attributes\":{},\"id\":\"cd482706-ca09-49fd-9ac0-10b18d33da08\",\"type\":\"BasicTickFormatter\"},{\"attributes\":{\"color_mapper\":{\"id\":\"68937103-ece4-4705-b259-8c2827c3c967\",\"type\":\"LinearColorMapper\"},\"dh\":{\"units\":\"data\",\"value\":12},\"dw\":{\"units\":\"data\",\"value\":11},\"image\":{\"field\":\"image\"},\"x\":{\"value\":0},\"y\":{\"value\":0}},\"id\":\"dc1c30bd-72de-485d-9a6b-578c8b9ce277\",\"type\":\"Image\"},{\"attributes\":{\"axis_label\":\"source tokens\",\"formatter\":{\"id\":\"cd482706-ca09-49fd-9ac0-10b18d33da08\",\"type\":\"BasicTickFormatter\"},\"major_label_orientation\":45,\"major_label_overrides\":{\"0.5\":\"_BOS_\",\"1.5\":\"\\u0432\",\"10.5\":\"_EOS_\",\"2.5\":\"\\u0440\\u0430\\u0441\\u043f\\u043e\\u0440\\u044f\\u0436\\u0435\\u043d\\u0438\\u0438\",\"3.5\":\"\\u0433\\u043e\\u0441\\u0442\\u0435\\u0439\",\"4.5\":\"\\u043e\\u0431\\u0449\\u0430\\u044f\",\"5.5\":\"\\u043a\\u0443\\u0445\\u043d\\u044f\",\"6.5\":\"\\u0438\",\"7.5\":\"\\u043e\\u0431\\u0449\\u0430\\u044f\",\"8.5\":\"\\u0433\\u043e\\u0441\\u0442\\u0438\\u043d\\u0430\\u044f\",\"9.5\":\".\"},\"plot\":{\"id\":\"0625c59b-89b6-4691-acc2-a99c45ed1fbe\",\"subtype\":\"Figure\",\"type\":\"Plot\"},\"ticker\":{\"id\":\"18104cc6-8d00-4c89-ab6f-4e2a12004f3b\",\"type\":\"FixedTicker\"}},\"id\":\"32560139-bfc9-4752-943d-b26563771ed7\",\"type\":\"LinearAxis\"},{\"attributes\":{},\"id\":\"3a5f2421-123c-416a-ac38-ad78a39f7b73\",\"type\":\"LinearScale\"},{\"attributes\":{\"palette\":[\"#000000\",\"#252525\",\"#525252\",\"#737373\",\"#969696\",\"#bdbdbd\",\"#d9d9d9\",\"#f0f0f0\",\"#ffffff\"]},\"id\":\"68937103-ece4-4705-b259-8c2827c3c967\",\"type\":\"LinearColorMapper\"},{\"attributes\":{\"active_drag\":\"auto\",\"active_inspect\":\"auto\",\"active_multi\":null,\"active_scroll\":\"auto\",\"active_tap\":\"auto\"},\"id\":\"af7c483b-ec40-4902-b084-7112471fb322\",\"type\":\"Toolbar\"},{\"attributes\":{\"ticks\":[0.5,1.5,2.5,3.5,4.5,5.5,6.5,7.5,8.5,9.5,10.5]},\"id\":\"18104cc6-8d00-4c89-ab6f-4e2a12004f3b\",\"type\":\"FixedTicker\"},{\"attributes\":{\"data_source\":{\"id\":\"f1e843f5-7cf5-47b1-a88a-7f080ddb9682\",\"type\":\"ColumnDataSource\"},\"glyph\":{\"id\":\"dc1c30bd-72de-485d-9a6b-578c8b9ce277\",\"type\":\"Image\"},\"hover_glyph\":null,\"muted_glyph\":null,\"nonselection_glyph\":{\"id\":\"8baeca59-5010-42f9-844f-b72cbb946771\",\"type\":\"Image\"},\"selection_glyph\":null,\"view\":{\"id\":\"c69d651e-2da0-43b8-a190-f7d9d5f31123\",\"type\":\"CDSView\"}},\"id\":\"a33b5ac0-8009-4562-b206-8d48217bf3cf\",\"type\":\"GlyphRenderer\"},{\"attributes\":{},\"id\":\"e8bb88fd-5ee6-4fe7-a1f7-f8c96dcc52ec\",\"type\":\"Selection\"},{\"attributes\":{},\"id\":\"233fdc90-3b8b-42d0-a6aa-a9d822089255\",\"type\":\"LinearScale\"},{\"attributes\":{\"callback\":null,\"end\":12},\"id\":\"41d40509-ec44-4660-95a4-bc020061977c\",\"type\":\"Range1d\"},{\"attributes\":{\"plot\":null,\"text\":\"\"},\"id\":\"1afa831f-558b-4555-98e0-912057f1e1ba\",\"type\":\"Title\"},{\"attributes\":{\"axis_label\":\"translation tokens\",\"formatter\":{\"id\":\"75073da1-e463-4975-9a04-987489719749\",\"type\":\"BasicTickFormatter\"},\"major_label_overrides\":{\"0.5\":\"_EOS_\",\"1.5\":\".\",\"10.5\":\"there\",\"11.5\":\"_BOS_\",\"2.5\":\"kitchen\",\"3.5\":\"shared\",\"4.5\":\"a\",\"5.5\":\"and\",\"6.5\":\"kitchen\",\"7.5\":\"shared\",\"8.5\":\"a\",\"9.5\":\"is\"},\"plot\":{\"id\":\"0625c59b-89b6-4691-acc2-a99c45ed1fbe\",\"subtype\":\"Figure\",\"type\":\"Plot\"},\"ticker\":{\"id\":\"eba2ee19-8fd5-4be0-ae94-c4dc1f9288ab\",\"type\":\"FixedTicker\"}},\"id\":\"58f341f4-332b-4c70-befa-eb8602b41ea3\",\"type\":\"LinearAxis\"},{\"attributes\":{\"callback\":null,\"end\":11},\"id\":\"8a1478bc-fe83-43be-bd50-888584747869\",\"type\":\"Range1d\"},{\"attributes\":{},\"id\":\"75073da1-e463-4975-9a04-987489719749\",\"type\":\"BasicTickFormatter\"}],\"root_ids\":[\"0625c59b-89b6-4691-acc2-a99c45ed1fbe\"]},\"title\":\"Bokeh Application\",\"version\":\"0.13.0\"}};\n",
       "  var render_items = [{\"docid\":\"6610e90e-021c-43be-b81d-9b145cf3619a\",\"roots\":{\"0625c59b-89b6-4691-acc2-a99c45ed1fbe\":\"c35f37f7-432f-4105-a7dc-96ccd469015f\"}}];\n",
       "  root.Bokeh.embed.embed_items_notebook(docs_json, render_items);\n",
       "\n",
       "  }\n",
       "  if (root.Bokeh !== undefined) {\n",
       "    embed_document(root);\n",
       "  } else {\n",
       "    var attempts = 0;\n",
       "    var timer = setInterval(function(root) {\n",
       "      if (root.Bokeh !== undefined) {\n",
       "        embed_document(root);\n",
       "        clearInterval(timer);\n",
       "      }\n",
       "      attempts++;\n",
       "      if (attempts > 100) {\n",
       "        console.log(\"Bokeh: ERROR: Unable to run BokehJS code because BokehJS library is missing\")\n",
       "        clearInterval(timer);\n",
       "      }\n",
       "    }, 10, root)\n",
       "  }\n",
       "})(window);"
      ],
      "application/vnd.bokehjs_exec.v0+json": ""
     },
     "metadata": {
      "application/vnd.bokehjs_exec.v0+json": {
       "id": "0625c59b-89b6-4691-acc2-a99c45ed1fbe"
      }
     },
     "output_type": "display_data"
    },
    {
     "data": {
      "text/html": [
       "\n",
       "\n",
       "\n",
       "\n",
       "\n",
       "\n",
       "  <div class=\"bk-root\" id=\"6c1eb1b0-53e5-47a7-b78f-1f215dc6efce\"></div>\n"
      ]
     },
     "metadata": {},
     "output_type": "display_data"
    },
    {
     "data": {
      "application/javascript": [
       "(function(root) {\n",
       "  function embed_document(root) {\n",
       "    \n",
       "  var docs_json = {\"bc800f96-2d7f-4616-ae8d-937151023755\":{\"roots\":{\"references\":[{\"attributes\":{\"data_source\":{\"id\":\"1b1ec354-f1ca-448f-bea9-c6b729b00f4d\",\"type\":\"ColumnDataSource\"},\"glyph\":{\"id\":\"ee5cc5df-05e8-4603-9ae9-b2c9529a0c23\",\"type\":\"Image\"},\"hover_glyph\":null,\"muted_glyph\":null,\"nonselection_glyph\":{\"id\":\"d4cfa72f-04d8-4f61-8832-849ac6aa0353\",\"type\":\"Image\"},\"selection_glyph\":null,\"view\":{\"id\":\"d2051091-4d13-4eaf-aade-50c2b5fe0ff0\",\"type\":\"CDSView\"}},\"id\":\"f770d562-1ccb-4f1e-b73b-13fe5ec4ae5d\",\"type\":\"GlyphRenderer\"},{\"attributes\":{},\"id\":\"a9d48564-76a6-482f-84d0-0caa2da41600\",\"type\":\"UnionRenderers\"},{\"attributes\":{\"callback\":null,\"end\":12},\"id\":\"a6755b31-dab7-4893-9c81-63d18d8d1ff5\",\"type\":\"Range1d\"},{\"attributes\":{\"active_drag\":\"auto\",\"active_inspect\":\"auto\",\"active_multi\":null,\"active_scroll\":\"auto\",\"active_tap\":\"auto\"},\"id\":\"9ece4048-e7d1-4498-8471-7503fe6cb2e2\",\"type\":\"Toolbar\"},{\"attributes\":{\"color_mapper\":{\"id\":\"313f0b14-f64f-4bb1-b2ff-da2493fa5547\",\"type\":\"LinearColorMapper\"},\"dh\":{\"units\":\"data\",\"value\":12},\"dw\":{\"units\":\"data\",\"value\":15},\"image\":{\"field\":\"image\"},\"x\":{\"value\":0},\"y\":{\"value\":0}},\"id\":\"ee5cc5df-05e8-4603-9ae9-b2c9529a0c23\",\"type\":\"Image\"},{\"attributes\":{\"axis_label\":\"source tokens\",\"formatter\":{\"id\":\"a03c3893-6f47-42ed-882e-3b1b96bc0377\",\"type\":\"BasicTickFormatter\"},\"major_label_orientation\":45,\"major_label_overrides\":{\"0.5\":\"_BOS_\",\"1.5\":\"\\u043a\\u0440\\u043e\\u043c\\u0435\",\"10.5\":\"\\u0438\",\"11.5\":\"\\u0431\\u0435\\u0441\\u043f\\u043b\\u0430\\u0442\\u043d\\u0430\\u044f\",\"12.5\":\"\\u043f\\u0430\\u0440\\u043a\\u043e\\u0432\\u043a\\u0430\",\"13.5\":\".\",\"14.5\":\"_EOS_\",\"2.5\":\"\\u0442\\u043e\\u0433\\u043e\",\"3.5\":\",\",\"4.5\":\"\\u043f\\u0440\\u0435\\u0434\\u043e\\u0441\\u0442\\u0430\\u0432\\u043b\\u044f\\u0435\\u0442\\u0441\\u044f\",\"5.5\":\"\\u043f\\u0440\\u043e\\u043a\\u0430\\u0442\",\"6.5\":\"\\u0432\\u0435\\u043b\\u043e\\u0441\\u0438\\u043f\\u0435\\u0434\\u043e\\u0432\",\"7.5\":\",\",\"8.5\":\"\\u0443\\u0441\\u043b\\u0443\\u0433\\u0438\",\"9.5\":\"\\u0442\\u0440\\u0430\\u043d\\u0441\\u0444\\u0435\\u0440\\u0430\"},\"plot\":{\"id\":\"849b1324-2b7b-4462-9a25-76a621097501\",\"subtype\":\"Figure\",\"type\":\"Plot\"},\"ticker\":{\"id\":\"421b61ea-a03e-4083-8c12-5c3d540dbc51\",\"type\":\"FixedTicker\"}},\"id\":\"bed851a8-da74-4f98-abfc-25af0fa44361\",\"type\":\"LinearAxis\"},{\"attributes\":{},\"id\":\"a03c3893-6f47-42ed-882e-3b1b96bc0377\",\"type\":\"BasicTickFormatter\"},{\"attributes\":{\"ticks\":[0.5,1.5,2.5,3.5,4.5,5.5,6.5,7.5,8.5,9.5,10.5,11.5]},\"id\":\"5bfa41c5-3756-4cd4-b4f9-5929e5e279b7\",\"type\":\"FixedTicker\"},{\"attributes\":{\"color_mapper\":{\"id\":\"1e091418-8bcb-45b4-b53c-0923e6ebc985\",\"type\":\"LinearColorMapper\"},\"dh\":{\"units\":\"data\",\"value\":12},\"dw\":{\"units\":\"data\",\"value\":15},\"image\":{\"field\":\"image\"},\"x\":{\"value\":0},\"y\":{\"value\":0}},\"id\":\"d4cfa72f-04d8-4f61-8832-849ac6aa0353\",\"type\":\"Image\"},{\"attributes\":{\"source\":{\"id\":\"1b1ec354-f1ca-448f-bea9-c6b729b00f4d\",\"type\":\"ColumnDataSource\"}},\"id\":\"d2051091-4d13-4eaf-aade-50c2b5fe0ff0\",\"type\":\"CDSView\"},{\"attributes\":{\"callback\":null,\"end\":15},\"id\":\"1a6b3819-5ac1-4191-a448-eb1cc3d7cb41\",\"type\":\"Range1d\"},{\"attributes\":{},\"id\":\"53dcc145-2617-4a64-babd-ba2831e2954a\",\"type\":\"LinearScale\"},{\"attributes\":{\"callback\":null,\"data\":{\"image\":[{\"__ndarray__\":\"hx+dPeiioT2wD649mTOuPQNopz3F3Lc9vpOSPWl/gj0aBHg9HUw3PewHUT12C1Q9kdxtPVycSD0maFY9tImpPSEgqD1V06w95VumPVoWnj3SFq09x9F8Pa/gbD3LUmA9QHw9PcwNYz1qPWU9GxKEPepDWz26vmw9MgmsPT3fsT1R6cQ9qyXHPQl+uz2xNqQ9LS9tPfBPUD3vtEQ9uZIgPRCiXD0gr1s9o6BsPX3ZSj2dFVo9h9qzPaaMtz0g3b89PdXSPYnduj1+g6U9dA10PZ2Zgj1lH1Y9Uo0VPULrcj3giDY90jlDPTfiND1OjTw9KJXAPUbbuj3W7rk9VizIPXPhrz1o+aQ9jhZxPRsnaz0WwFw9R0slPRO5WT2v3E89qq5UPX38OT0TqUQ91y+9PVbwvD07xcM9zhrOPWbWuz1eaK491lV7PdnpYT1iM1E9Tc0iPfmVbT0t3D49lrAyPZE2LT1k6DU9ymyXPS5knD151aY97u7BPZUstT0He6U9XIp4PbE9ez0HXWQ9GQcQPWzGhz2a7IE9Gcp0PVoFSz1SJFY9nOKYPcE+oD2di6g9dce0PRe5pj36UK49aFWFPbQQcD0w41g9SEQRPQFHRT05Ppc9RzWFPQ3caD0BFl09Uy+tPROzrD3stLA98vzAPaS/vT0v8rQ9tgiJPRnEjT0pIHc9aMstPV3BRz0uhVI9WnM8PRQmJT2iDjU9A0aePYpRlj3J5ZE9vMmMPay5hT0lWoE9jUyAPamwgj1zTXE9c+QrPSRzmj3kOY09nxSZPaWnij2lpYg9eE+qPS3aqj0GrrE9CC2sPbHbpD1Db5Q9jYF7PfssXT07EnY9BMRqPfThfz08hzw9hjdYPb+MYT12rnc9eE+qPS3aqj0GrrE9CC2sPbHbpD1Db5Q9jYF7PfssXT07EnY9BMRqPfThfz08hzw9hjdYPb+MYT12rnc9\",\"dtype\":\"float32\",\"shape\":[12,15]}]},\"selected\":{\"id\":\"ae9652bc-1b05-49a2-bd52-f96ab8c5eab3\",\"type\":\"Selection\"},\"selection_policy\":{\"id\":\"a9d48564-76a6-482f-84d0-0caa2da41600\",\"type\":\"UnionRenderers\"}},\"id\":\"1b1ec354-f1ca-448f-bea9-c6b729b00f4d\",\"type\":\"ColumnDataSource\"},{\"attributes\":{},\"id\":\"0682ff22-a9ce-477e-997d-5e3304583eaa\",\"type\":\"BasicTickFormatter\"},{\"attributes\":{},\"id\":\"ae9652bc-1b05-49a2-bd52-f96ab8c5eab3\",\"type\":\"Selection\"},{\"attributes\":{\"ticks\":[0.5,1.5,2.5,3.5,4.5,5.5,6.5,7.5,8.5,9.5,10.5,11.5,12.5,13.5,14.5]},\"id\":\"421b61ea-a03e-4083-8c12-5c3d540dbc51\",\"type\":\"FixedTicker\"},{\"attributes\":{\"axis_label\":\"translation tokens\",\"formatter\":{\"id\":\"0682ff22-a9ce-477e-997d-5e3304583eaa\",\"type\":\"BasicTickFormatter\"},\"major_label_overrides\":{\"0.5\":\"_EOS_\",\"1.5\":\".\",\"10.5\":\"bicycle\",\"11.5\":\"_BOS_\",\"2.5\":\"site\",\"3.5\":\"on\",\"4.5\":\"available\",\"5.5\":\"is\",\"6.5\":\"parking\",\"7.5\":\"free\",\"8.5\":\"and\",\"9.5\":\"rental\"},\"plot\":{\"id\":\"849b1324-2b7b-4462-9a25-76a621097501\",\"subtype\":\"Figure\",\"type\":\"Plot\"},\"ticker\":{\"id\":\"5bfa41c5-3756-4cd4-b4f9-5929e5e279b7\",\"type\":\"FixedTicker\"}},\"id\":\"3304f33e-84f4-4fb0-afa7-6f35bfa929f0\",\"type\":\"LinearAxis\"},{\"attributes\":{\"plot\":null,\"text\":\"\"},\"id\":\"2816aff8-6724-4c3b-972d-37b38558565b\",\"type\":\"Title\"},{\"attributes\":{\"palette\":[\"#000000\",\"#252525\",\"#525252\",\"#737373\",\"#969696\",\"#bdbdbd\",\"#d9d9d9\",\"#f0f0f0\",\"#ffffff\"]},\"id\":\"313f0b14-f64f-4bb1-b2ff-da2493fa5547\",\"type\":\"LinearColorMapper\"},{\"attributes\":{\"palette\":[\"#000000\",\"#252525\",\"#525252\",\"#737373\",\"#969696\",\"#bdbdbd\",\"#d9d9d9\",\"#f0f0f0\",\"#ffffff\"]},\"id\":\"1e091418-8bcb-45b4-b53c-0923e6ebc985\",\"type\":\"LinearColorMapper\"},{\"attributes\":{\"above\":[{\"id\":\"bed851a8-da74-4f98-abfc-25af0fa44361\",\"type\":\"LinearAxis\"}],\"left\":[{\"id\":\"3304f33e-84f4-4fb0-afa7-6f35bfa929f0\",\"type\":\"LinearAxis\"}],\"renderers\":[{\"id\":\"f770d562-1ccb-4f1e-b73b-13fe5ec4ae5d\",\"type\":\"GlyphRenderer\"},{\"id\":\"bed851a8-da74-4f98-abfc-25af0fa44361\",\"type\":\"LinearAxis\"},{\"id\":\"3304f33e-84f4-4fb0-afa7-6f35bfa929f0\",\"type\":\"LinearAxis\"}],\"title\":{\"id\":\"2816aff8-6724-4c3b-972d-37b38558565b\",\"type\":\"Title\"},\"toolbar\":{\"id\":\"9ece4048-e7d1-4498-8471-7503fe6cb2e2\",\"type\":\"Toolbar\"},\"x_range\":{\"id\":\"1a6b3819-5ac1-4191-a448-eb1cc3d7cb41\",\"type\":\"Range1d\"},\"x_scale\":{\"id\":\"53dcc145-2617-4a64-babd-ba2831e2954a\",\"type\":\"LinearScale\"},\"y_range\":{\"id\":\"a6755b31-dab7-4893-9c81-63d18d8d1ff5\",\"type\":\"Range1d\"},\"y_scale\":{\"id\":\"d6084226-df51-44a0-b786-5e17d88c4666\",\"type\":\"LinearScale\"}},\"id\":\"849b1324-2b7b-4462-9a25-76a621097501\",\"subtype\":\"Figure\",\"type\":\"Plot\"},{\"attributes\":{},\"id\":\"d6084226-df51-44a0-b786-5e17d88c4666\",\"type\":\"LinearScale\"}],\"root_ids\":[\"849b1324-2b7b-4462-9a25-76a621097501\"]},\"title\":\"Bokeh Application\",\"version\":\"0.13.0\"}};\n",
       "  var render_items = [{\"docid\":\"bc800f96-2d7f-4616-ae8d-937151023755\",\"roots\":{\"849b1324-2b7b-4462-9a25-76a621097501\":\"6c1eb1b0-53e5-47a7-b78f-1f215dc6efce\"}}];\n",
       "  root.Bokeh.embed.embed_items_notebook(docs_json, render_items);\n",
       "\n",
       "  }\n",
       "  if (root.Bokeh !== undefined) {\n",
       "    embed_document(root);\n",
       "  } else {\n",
       "    var attempts = 0;\n",
       "    var timer = setInterval(function(root) {\n",
       "      if (root.Bokeh !== undefined) {\n",
       "        embed_document(root);\n",
       "        clearInterval(timer);\n",
       "      }\n",
       "      attempts++;\n",
       "      if (attempts > 100) {\n",
       "        console.log(\"Bokeh: ERROR: Unable to run BokehJS code because BokehJS library is missing\")\n",
       "        clearInterval(timer);\n",
       "      }\n",
       "    }, 10, root)\n",
       "  }\n",
       "})(window);"
      ],
      "application/vnd.bokehjs_exec.v0+json": ""
     },
     "metadata": {
      "application/vnd.bokehjs_exec.v0+json": {
       "id": "849b1324-2b7b-4462-9a25-76a621097501"
      }
     },
     "output_type": "display_data"
    },
    {
     "data": {
      "text/html": [
       "\n",
       "\n",
       "\n",
       "\n",
       "\n",
       "\n",
       "  <div class=\"bk-root\" id=\"129cd741-70a0-4ed1-af32-dec1469bab81\"></div>\n"
      ]
     },
     "metadata": {},
     "output_type": "display_data"
    },
    {
     "data": {
      "application/javascript": [
       "(function(root) {\n",
       "  function embed_document(root) {\n",
       "    \n",
       "  var docs_json = {\"dc8b89a6-9413-40e9-a26a-d68c3fd970e3\":{\"roots\":{\"references\":[{\"attributes\":{\"palette\":[\"#000000\",\"#252525\",\"#525252\",\"#737373\",\"#969696\",\"#bdbdbd\",\"#d9d9d9\",\"#f0f0f0\",\"#ffffff\"]},\"id\":\"a3ca78a3-4eab-49f5-8f35-08618ac5004a\",\"type\":\"LinearColorMapper\"},{\"attributes\":{\"palette\":[\"#000000\",\"#252525\",\"#525252\",\"#737373\",\"#969696\",\"#bdbdbd\",\"#d9d9d9\",\"#f0f0f0\",\"#ffffff\"]},\"id\":\"6795b4ac-2ee7-4ab0-8ad3-0029c9ace652\",\"type\":\"LinearColorMapper\"},{\"attributes\":{\"axis_label\":\"source tokens\",\"formatter\":{\"id\":\"41ec3123-7e23-4d03-9e8a-73fd7ec9890c\",\"type\":\"BasicTickFormatter\"},\"major_label_orientation\":45,\"major_label_overrides\":{\"0.5\":\"_BOS_\",\"1.5\":\"\\u0440\\u0430\\u0441\\u0441\\u0442\\u043e\\u044f\\u043d\\u0438\\u0435\",\"10.5\":\"\\u043a\\u043c\",\"11.5\":\".\",\"12.5\":\"_EOS_\",\"2.5\":\"\\u0434\\u043e\",\"3.5\":\"\\u0433\\u043e\\u0440\\u043e\\u0434\\u0430\",\"4.5\":\"\\u043a\\u0438@@\",\"5.5\":\"\\u0441\\u0441\\u0438@@\",\"6.5\":\"\\u043c@@\",\"7.5\":\"\\u043c\\u0438\",\"8.5\":\"\\u0441\\u043e\\u0441\\u0442\\u0430\\u0432\\u043b\\u044f\\u0435\\u0442\",\"9.5\":\"26\"},\"plot\":{\"id\":\"d37c9741-d7cf-4fd9-b916-1667bcdfa56b\",\"subtype\":\"Figure\",\"type\":\"Plot\"},\"ticker\":{\"id\":\"66d1bc45-03ce-45ed-a46a-d4ea6587eda2\",\"type\":\"FixedTicker\"}},\"id\":\"786ce54e-86fc-4309-8dea-cad90db20d14\",\"type\":\"LinearAxis\"},{\"attributes\":{},\"id\":\"41ec3123-7e23-4d03-9e8a-73fd7ec9890c\",\"type\":\"BasicTickFormatter\"},{\"attributes\":{\"ticks\":[0.5,1.5,2.5,3.5,4.5,5.5,6.5,7.5,8.5,9.5,10.5,11.5,12.5]},\"id\":\"66d1bc45-03ce-45ed-a46a-d4ea6587eda2\",\"type\":\"FixedTicker\"},{\"attributes\":{\"color_mapper\":{\"id\":\"a3ca78a3-4eab-49f5-8f35-08618ac5004a\",\"type\":\"LinearColorMapper\"},\"dh\":{\"units\":\"data\",\"value\":16},\"dw\":{\"units\":\"data\",\"value\":13},\"image\":{\"field\":\"image\"},\"x\":{\"value\":0},\"y\":{\"value\":0}},\"id\":\"d3788312-79b9-48ed-a51f-cb8337c737ab\",\"type\":\"Image\"},{\"attributes\":{\"source\":{\"id\":\"1b011495-9790-4e6b-9dff-e9dd183afecf\",\"type\":\"ColumnDataSource\"}},\"id\":\"42e2bc35-5796-4921-a580-8ca2996139fe\",\"type\":\"CDSView\"},{\"attributes\":{\"callback\":null,\"data\":{\"image\":[{\"__ndarray__\":\"otqnPe6foj3XqaQ9G96fPSFvlz0dQaA9hpuIPeJFiz3mu5w97RhXPW94nT07Or890nDAPa08qD2br609Ar2wPZ2XrT1t7Jw9/f6aPbQHhT3VmIk9f2SWPRKwPj15mYk9h1nEPaCDwT10ULo9isTJPftQxT1tEr89qNC1PTEbpj2SVY09+/WMPb4Emj23GSk966c6PWVjmz05B5o9EFemPe3Brz2Ma689TiS1PRoOqT026qQ983uRPeO1iz2zwJI9lzZBPYkChD3ll649kDa0PeSuoT2Kf6c9wdCcPZFzlz0//pI95recPXJ4hT3XOoY9x1WXPZ7saT2cCaU9gGHOPZpsxz3yXZ49TR+pPf73oj3Hk6Q90g+dPUMGpz1w1Y89Y8aKPZYBmz3kZ0g9doeNPeF/wj0xCMM9KiKgPQ+xqj1OR6c9RYatPZvPoj39Ya499LyTPbr+lT0sXJ89ko44PS2fYj3eDMA9BnK4PV2noz3io6w9FlSpPSmMtz3WW6c9OW+xPY1KmD1Q9Jc9uneVPUzIXT0Xink9raegPQUCpD15oKg9N8qyPclCqT1/BaU9VFyZPbFQmT38KYM9H8OBPbTKhT0rRYc9PFS3PRlOpz21ALM9y7WSPQJLoj2LyaA9/vitPUzapj3O/Lw9VXCePcD9lj1l2I89A1+BPeK1hj0blp89C3SrPb11oj1qLLE9Qi+xPdWfvD0I56Q99Kq6PSPimD1OIpE99NOIPYwGaj1FnHg9b0CaPYKSoD3UOKA90vKrPeofqD2GgKM9DgiTPZFOnz2TqIY9E6+APe4chz378IA9fiuyPU+Usj3ut8E9OhaVPWlsoz39N6E9Y9GrPTtUoT0O4sk9tj2sPfHUnz2JcZY9ToJlPViyZD1DPp098GCqPaqGpz2rVrI9WNC3PWqcvz1yPLY9exnHPUSArT1pMZo9DL2WPZFBTz2nQVc9JJBzPZDnhT1UH7c9hVzCPe2QwT0z5Mk97hO0PVYGuz06EKA9A9uXPXS3lz1leic9CSYyPfsWiT3qaoY9VB+3PYVcwj3tkME9M+TJPe4TtD1WBrs9OhCgPQPblz10t5c9ZXonPQkmMj37Fok96mqGPQ==\",\"dtype\":\"float32\",\"shape\":[16,13]}]},\"selected\":{\"id\":\"6fe904ab-fc81-4bcd-981d-48c2ba1fc522\",\"type\":\"Selection\"},\"selection_policy\":{\"id\":\"8c665b57-211a-41bb-b290-982554b34412\",\"type\":\"UnionRenderers\"}},\"id\":\"1b011495-9790-4e6b-9dff-e9dd183afecf\",\"type\":\"ColumnDataSource\"},{\"attributes\":{\"active_drag\":\"auto\",\"active_inspect\":\"auto\",\"active_multi\":null,\"active_scroll\":\"auto\",\"active_tap\":\"auto\"},\"id\":\"83183d6d-8709-4339-8f34-a2e9297a563c\",\"type\":\"Toolbar\"},{\"attributes\":{\"ticks\":[0.5,1.5,2.5,3.5,4.5,5.5,6.5,7.5,8.5,9.5,10.5,11.5,12.5,13.5,14.5,15.5]},\"id\":\"f1fc78ed-4bdf-4969-aa44-c9a89733ed1d\",\"type\":\"FixedTicker\"},{\"attributes\":{\"color_mapper\":{\"id\":\"6795b4ac-2ee7-4ab0-8ad3-0029c9ace652\",\"type\":\"LinearColorMapper\"},\"dh\":{\"units\":\"data\",\"value\":16},\"dw\":{\"units\":\"data\",\"value\":13},\"image\":{\"field\":\"image\"},\"x\":{\"value\":0},\"y\":{\"value\":0}},\"id\":\"789435da-99aa-4fb8-9eab-1390f45a7576\",\"type\":\"Image\"},{\"attributes\":{\"data_source\":{\"id\":\"1b011495-9790-4e6b-9dff-e9dd183afecf\",\"type\":\"ColumnDataSource\"},\"glyph\":{\"id\":\"789435da-99aa-4fb8-9eab-1390f45a7576\",\"type\":\"Image\"},\"hover_glyph\":null,\"muted_glyph\":null,\"nonselection_glyph\":{\"id\":\"d3788312-79b9-48ed-a51f-cb8337c737ab\",\"type\":\"Image\"},\"selection_glyph\":null,\"view\":{\"id\":\"42e2bc35-5796-4921-a580-8ca2996139fe\",\"type\":\"CDSView\"}},\"id\":\"8b3a6bc5-cc1c-467d-810d-eeaf27730895\",\"type\":\"GlyphRenderer\"},{\"attributes\":{},\"id\":\"abcef69d-f872-4c2e-8cb2-b7d9ff11cfd6\",\"type\":\"LinearScale\"},{\"attributes\":{},\"id\":\"8b4e4f8f-0cd5-411c-a93c-e0e1501efb25\",\"type\":\"LinearScale\"},{\"attributes\":{\"plot\":null,\"text\":\"\"},\"id\":\"b91459b6-5c77-43ee-8e6b-97a2637f15ca\",\"type\":\"Title\"},{\"attributes\":{\"axis_label\":\"translation tokens\",\"formatter\":{\"id\":\"3555c5a2-c8e9-4710-9886-511fd08647a0\",\"type\":\"BasicTickFormatter\"},\"major_label_overrides\":{\"0.5\":\"_EOS_\",\"1.5\":\".\",\"10.5\":\"city\",\"11.5\":\"the\",\"12.5\":\"of\",\"13.5\":\"city\",\"14.5\":\"the\",\"15.5\":\"_BOS_\",\"2.5\":\"away\",\"3.5\":\"km\",\"4.5\":\"26\",\"5.5\":\"is\",\"6.5\":\"airport\",\"7.5\":\"gut\",\"8.5\":\"sur@@\",\"9.5\":\"of\"},\"plot\":{\"id\":\"d37c9741-d7cf-4fd9-b916-1667bcdfa56b\",\"subtype\":\"Figure\",\"type\":\"Plot\"},\"ticker\":{\"id\":\"f1fc78ed-4bdf-4969-aa44-c9a89733ed1d\",\"type\":\"FixedTicker\"}},\"id\":\"0f7f25fd-d4e1-4f01-97d9-9a4d7199eaa2\",\"type\":\"LinearAxis\"},{\"attributes\":{\"callback\":null,\"end\":16},\"id\":\"304f5ef6-0639-4d41-9943-67a8852ceaff\",\"type\":\"Range1d\"},{\"attributes\":{\"callback\":null,\"end\":13},\"id\":\"c0184cbc-0497-40f9-a192-a7216e211d96\",\"type\":\"Range1d\"},{\"attributes\":{},\"id\":\"6fe904ab-fc81-4bcd-981d-48c2ba1fc522\",\"type\":\"Selection\"},{\"attributes\":{},\"id\":\"3555c5a2-c8e9-4710-9886-511fd08647a0\",\"type\":\"BasicTickFormatter\"},{\"attributes\":{},\"id\":\"8c665b57-211a-41bb-b290-982554b34412\",\"type\":\"UnionRenderers\"},{\"attributes\":{\"above\":[{\"id\":\"786ce54e-86fc-4309-8dea-cad90db20d14\",\"type\":\"LinearAxis\"}],\"left\":[{\"id\":\"0f7f25fd-d4e1-4f01-97d9-9a4d7199eaa2\",\"type\":\"LinearAxis\"}],\"renderers\":[{\"id\":\"8b3a6bc5-cc1c-467d-810d-eeaf27730895\",\"type\":\"GlyphRenderer\"},{\"id\":\"786ce54e-86fc-4309-8dea-cad90db20d14\",\"type\":\"LinearAxis\"},{\"id\":\"0f7f25fd-d4e1-4f01-97d9-9a4d7199eaa2\",\"type\":\"LinearAxis\"}],\"title\":{\"id\":\"b91459b6-5c77-43ee-8e6b-97a2637f15ca\",\"type\":\"Title\"},\"toolbar\":{\"id\":\"83183d6d-8709-4339-8f34-a2e9297a563c\",\"type\":\"Toolbar\"},\"x_range\":{\"id\":\"c0184cbc-0497-40f9-a192-a7216e211d96\",\"type\":\"Range1d\"},\"x_scale\":{\"id\":\"8b4e4f8f-0cd5-411c-a93c-e0e1501efb25\",\"type\":\"LinearScale\"},\"y_range\":{\"id\":\"304f5ef6-0639-4d41-9943-67a8852ceaff\",\"type\":\"Range1d\"},\"y_scale\":{\"id\":\"abcef69d-f872-4c2e-8cb2-b7d9ff11cfd6\",\"type\":\"LinearScale\"}},\"id\":\"d37c9741-d7cf-4fd9-b916-1667bcdfa56b\",\"subtype\":\"Figure\",\"type\":\"Plot\"}],\"root_ids\":[\"d37c9741-d7cf-4fd9-b916-1667bcdfa56b\"]},\"title\":\"Bokeh Application\",\"version\":\"0.13.0\"}};\n",
       "  var render_items = [{\"docid\":\"dc8b89a6-9413-40e9-a26a-d68c3fd970e3\",\"roots\":{\"d37c9741-d7cf-4fd9-b916-1667bcdfa56b\":\"129cd741-70a0-4ed1-af32-dec1469bab81\"}}];\n",
       "  root.Bokeh.embed.embed_items_notebook(docs_json, render_items);\n",
       "\n",
       "  }\n",
       "  if (root.Bokeh !== undefined) {\n",
       "    embed_document(root);\n",
       "  } else {\n",
       "    var attempts = 0;\n",
       "    var timer = setInterval(function(root) {\n",
       "      if (root.Bokeh !== undefined) {\n",
       "        embed_document(root);\n",
       "        clearInterval(timer);\n",
       "      }\n",
       "      attempts++;\n",
       "      if (attempts > 100) {\n",
       "        console.log(\"Bokeh: ERROR: Unable to run BokehJS code because BokehJS library is missing\")\n",
       "        clearInterval(timer);\n",
       "      }\n",
       "    }, 10, root)\n",
       "  }\n",
       "})(window);"
      ],
      "application/vnd.bokehjs_exec.v0+json": ""
     },
     "metadata": {
      "application/vnd.bokehjs_exec.v0+json": {
       "id": "d37c9741-d7cf-4fd9-b916-1667bcdfa56b"
      }
     },
     "output_type": "display_data"
    },
    {
     "data": {
      "text/html": [
       "\n",
       "\n",
       "\n",
       "\n",
       "\n",
       "\n",
       "  <div class=\"bk-root\" id=\"df2e3e2a-ca08-4f0d-ac00-a300c286700c\"></div>\n"
      ]
     },
     "metadata": {},
     "output_type": "display_data"
    },
    {
     "data": {
      "application/javascript": [
       "(function(root) {\n",
       "  function embed_document(root) {\n",
       "    \n",
       "  var docs_json = {\"12999273-155b-4f17-9688-107401cae877\":{\"roots\":{\"references\":[{\"attributes\":{\"ticks\":[0.5,1.5,2.5,3.5,4.5,5.5,6.5,7.5,8.5,9.5,10.5,11.5,12.5,13.5,14.5,15.5,16.5,17.5,18.5,19.5,20.5,21.5,22.5,23.5,24.5,25.5,26.5,27.5,28.5,29.5,30.5,31.5]},\"id\":\"9551931c-d82d-479a-ac34-d341363cf695\",\"type\":\"FixedTicker\"},{\"attributes\":{\"color_mapper\":{\"id\":\"263eebc9-2ae0-4bbb-8e2f-a2152c9e9168\",\"type\":\"LinearColorMapper\"},\"dh\":{\"units\":\"data\",\"value\":39},\"dw\":{\"units\":\"data\",\"value\":32},\"image\":{\"field\":\"image\"},\"x\":{\"value\":0},\"y\":{\"value\":0}},\"id\":\"3ce0868a-e20f-48d2-8f1d-385e1e9c54b0\",\"type\":\"Image\"},{\"attributes\":{},\"id\":\"a2477b22-f8d1-4d44-adfd-73fd8d9a6a5f\",\"type\":\"BasicTickFormatter\"},{\"attributes\":{\"above\":[{\"id\":\"c5c82cff-4605-4359-9f92-8bcaaa752039\",\"type\":\"LinearAxis\"}],\"left\":[{\"id\":\"f46a8951-3e47-4840-8a6a-251992520de8\",\"type\":\"LinearAxis\"}],\"renderers\":[{\"id\":\"b295308f-8907-4616-822a-7575cd674587\",\"type\":\"GlyphRenderer\"},{\"id\":\"c5c82cff-4605-4359-9f92-8bcaaa752039\",\"type\":\"LinearAxis\"},{\"id\":\"f46a8951-3e47-4840-8a6a-251992520de8\",\"type\":\"LinearAxis\"}],\"title\":{\"id\":\"18d2d7bf-257d-46fe-b1f4-e80b010237ef\",\"type\":\"Title\"},\"toolbar\":{\"id\":\"af178a4b-8ae2-4b65-b2c8-e02523e9888a\",\"type\":\"Toolbar\"},\"x_range\":{\"id\":\"f7df54d1-65ff-41b9-bc00-1d455b9b8c84\",\"type\":\"Range1d\"},\"x_scale\":{\"id\":\"78d68047-3614-4156-a88f-807744b900b5\",\"type\":\"LinearScale\"},\"y_range\":{\"id\":\"823d393b-7de1-4a3a-81c1-e31590634436\",\"type\":\"Range1d\"},\"y_scale\":{\"id\":\"61cb1010-6661-4ed1-89a3-61a9a6530bf1\",\"type\":\"LinearScale\"}},\"id\":\"e5b31d10-3b7b-4202-84d7-efb7d24d48b2\",\"subtype\":\"Figure\",\"type\":\"Plot\"},{\"attributes\":{},\"id\":\"78d68047-3614-4156-a88f-807744b900b5\",\"type\":\"LinearScale\"},{\"attributes\":{\"axis_label\":\"source tokens\",\"formatter\":{\"id\":\"0d04bd39-3c3f-4766-b457-d18c288b2880\",\"type\":\"BasicTickFormatter\"},\"major_label_orientation\":45,\"major_label_overrides\":{\"0.5\":\"_BOS_\",\"1.5\":\"\\u0430\\u043f\\u0430\\u0440\\u0442\\u0430\\u043c\\u0435\\u043d\\u0442\\u044b\",\"10.5\":\"\\u0441\\u0430\\u0434\\u043e\\u043c\",\"11.5\":\",\",\"12.5\":\"\\u043a\\u043e\\u043d\\u0434\\u0438\\u0446\\u0438\\u043e\\u043d\\u0435\\u0440\\u043e\\u043c\",\"13.5\":\"\\u0438\",\"14.5\":\"\\u0442\\u0435\\u0440\\u0440\\u0430\\u0441\\u043e\\u0439\",\"15.5\":\"\\u0434\\u043b\\u044f\",\"16.5\":\"\\u0437\\u0430\\u0433\\u0430\\u0440\\u0430\",\"17.5\":\"\\u0440\\u0430\\u0441\\u043f\\u043e\\u043b\\u043e\\u0436\\u0435\\u043d\\u044b\",\"18.5\":\"\\u0432\",\"19.5\":\"5\",\"2.5\":\"\\u0432\",\"20.5\":\"\\u043c\\u0438\\u043d\\u0443\\u0442\\u0430\\u0445\",\"21.5\":\"\\u0445\\u043e\\u0434\\u044c\\u0431\\u044b\",\"22.5\":\"\\u043e\\u0442\",\"23.5\":\"\\u043f\\u043b\\u044f\\u0436\\u0430\",\"24.5\":\"\\u043d\\u0430\",\"25.5\":\"\\u043a\\u0443\\u0440\\u043e\\u0440\\u0442\\u0435\",\"26.5\":\"\\u043a\\u0430@@\",\"27.5\":\"\\u0431\\u043e\",\"28.5\":\"-\",\"29.5\":\"\\u0440\\u043e\\u0439\",\"3.5\":\"\\u043f\\u0435\\u043d\\u0442@@\",\"30.5\":\".\",\"31.5\":\"_EOS_\",\"4.5\":\"\\u0445\\u0430\\u0443\\u0441\\u0435\",\"5.5\":\"\\u0441\",\"6.5\":\"\\u043e\\u0431\\u0449\\u0438\\u043c\",\"7.5\":\"\\u043e\\u0442\\u043a\\u0440\\u044b\\u0442\\u044b\\u043c\",\"8.5\":\"\\u0431\\u0430\\u0441\\u0441\\u0435\\u0439\\u043d\\u043e\\u043c\",\"9.5\":\",\"},\"plot\":{\"id\":\"e5b31d10-3b7b-4202-84d7-efb7d24d48b2\",\"subtype\":\"Figure\",\"type\":\"Plot\"},\"ticker\":{\"id\":\"9551931c-d82d-479a-ac34-d341363cf695\",\"type\":\"FixedTicker\"}},\"id\":\"c5c82cff-4605-4359-9f92-8bcaaa752039\",\"type\":\"LinearAxis\"},{\"attributes\":{},\"id\":\"5ea6af49-82f2-4665-b192-f5ab64a238c6\",\"type\":\"Selection\"},{\"attributes\":{\"axis_label\":\"translation tokens\",\"formatter\":{\"id\":\"a2477b22-f8d1-4d44-adfd-73fd8d9a6a5f\",\"type\":\"BasicTickFormatter\"},\"major_label_overrides\":{\"0.5\":\"_EOS_\",\"1.5\":\".\",\"10.5\":\"conditioned\",\"11.5\":\"-\",\"12.5\":\"air\",\"13.5\":\"offers\",\"14.5\":\"bali\",\"15.5\":\"apartments\",\"16.5\":\",\",\"17.5\":\"beach\",\"18.5\":\"the\",\"19.5\":\"from\",\"2.5\":\"terrace\",\"20.5\":\"walk\",\"21.5\":\"minute\",\"22.5\":\"-\",\"23.5\":\"5\",\"24.5\":\"a\",\"25.5\":\"just\",\"26.5\":\",\",\"27.5\":\"region\",\"28.5\":\"krai\",\"29.5\":\"krasnodar\",\"3.5\":\"sun\",\"30.5\":\"the\",\"31.5\":\"in\",\"32.5\":\"bali\",\"33.5\":\"of\",\"34.5\":\"centre\",\"35.5\":\"the\",\"36.5\":\"in\",\"37.5\":\"located\",\"38.5\":\"_BOS_\",\"4.5\":\"a\",\"5.5\":\"and\",\"6.5\":\"terrace\",\"7.5\":\"a\",\"8.5\":\"with\",\"9.5\":\"accommodation\"},\"plot\":{\"id\":\"e5b31d10-3b7b-4202-84d7-efb7d24d48b2\",\"subtype\":\"Figure\",\"type\":\"Plot\"},\"ticker\":{\"id\":\"ab21451a-8259-4ab5-9a41-972389626590\",\"type\":\"FixedTicker\"}},\"id\":\"f46a8951-3e47-4840-8a6a-251992520de8\",\"type\":\"LinearAxis\"},{\"attributes\":{\"callback\":null,\"end\":39},\"id\":\"823d393b-7de1-4a3a-81c1-e31590634436\",\"type\":\"Range1d\"},{\"attributes\":{\"source\":{\"id\":\"9f911cec-30c3-4ea4-bc00-75c2ddd1d53d\",\"type\":\"ColumnDataSource\"}},\"id\":\"abc01843-a933-460b-a223-589961bde4b9\",\"type\":\"CDSView\"},{\"attributes\":{},\"id\":\"7d155a0b-d538-4a80-82d4-bea945a3d564\",\"type\":\"UnionRenderers\"},{\"attributes\":{\"active_drag\":\"auto\",\"active_inspect\":\"auto\",\"active_multi\":null,\"active_scroll\":\"auto\",\"active_tap\":\"auto\"},\"id\":\"af178a4b-8ae2-4b65-b2c8-e02523e9888a\",\"type\":\"Toolbar\"},{\"attributes\":{},\"id\":\"61cb1010-6661-4ed1-89a3-61a9a6530bf1\",\"type\":\"LinearScale\"},{\"attributes\":{\"data_source\":{\"id\":\"9f911cec-30c3-4ea4-bc00-75c2ddd1d53d\",\"type\":\"ColumnDataSource\"},\"glyph\":{\"id\":\"3ce0868a-e20f-48d2-8f1d-385e1e9c54b0\",\"type\":\"Image\"},\"hover_glyph\":null,\"muted_glyph\":null,\"nonselection_glyph\":{\"id\":\"a8b46e0e-bc73-44df-ad26-d16afa4c3f45\",\"type\":\"Image\"},\"selection_glyph\":null,\"view\":{\"id\":\"abc01843-a933-460b-a223-589961bde4b9\",\"type\":\"CDSView\"}},\"id\":\"b295308f-8907-4616-822a-7575cd674587\",\"type\":\"GlyphRenderer\"},{\"attributes\":{\"ticks\":[0.5,1.5,2.5,3.5,4.5,5.5,6.5,7.5,8.5,9.5,10.5,11.5,12.5,13.5,14.5,15.5,16.5,17.5,18.5,19.5,20.5,21.5,22.5,23.5,24.5,25.5,26.5,27.5,28.5,29.5,30.5,31.5,32.5,33.5,34.5,35.5,36.5,37.5,38.5]},\"id\":\"ab21451a-8259-4ab5-9a41-972389626590\",\"type\":\"FixedTicker\"},{\"attributes\":{\"callback\":null,\"data\":{\"image\":[{\"__ndarray__\":\"iSONPW88iD14j4Q9UP5KPdtgHj3viQE9NLnqPK1z8TyFed88DlICPVasBT0f/gY9J2cGPYzcCz02mrM8FK24PDuVyzwbtM88UODDPAOowDzZdr88M2XAPKcY0DyYvto87GThPI4N1DyLcdk82TrFPANX0zyR76E8Z2idPCGvpjzjA3g9uTOKPeLDlj21hIM9+20SPU/s8Tx5kso8Z7HhPNZmljzaidc8l60YPU3SBD1JZgw9IEYPPVNCuTwR69c8fbDCPKuo1Tyi7tE8ZmbMPPL70TwaULM8NBfgPI9+wzwepfI8Jj7EPOwb2DxQIrs8wu7bPA9Oizy4N448Ll6qPJ++lD2wl449rgyePZjTej34VSA9RtYDPU4OvTwVBtQ8eGKaPCq06DxdAB49oAkEPUXw7TyoIAI9WyqlPM5szjyp6ao8vpOyPLPmvzx4ycM8e9vGPFsjsTwmG9Y8j6zEPNrsCT2arcc8vh7oPAuUqTyc4uA8rht6PG2PlzyRvqc8VXSNPf7Ygz1plo49NVBkPYCMNT0YMxU9AmAHPe6E9DzbxcQ8Ay/7PB/vHT2pPQc9QYnWPD6T9DyWlLk8Dm3SPKFMpzyrQKs8Sbq3PCWT0zyuwLc8OmDMPKFoyTxXTtw8GePvPGV3ujwIB9A8DyOlPLGAzTyhE5Q8vy2UPLKmoDwhE5E9ihyTPfuRlj3nnGg9TgMbPdbGBz2GH+Y82ZgEPcrfzzyFyvs8PxERPVZiED0dGQw9NDkJPaDSnTyS3qo890XCPCDPxzy4c7E8cSmrPJ4EtjzNdao8OiO+PMaHxTwecdc84PbPPPza0zx2A8Q81OLHPJaThzxK1ZE8DYmhPMlYmz3Ys6E9WQy0PY8tcT0jlyI9bZoLPbvxzzyv59Q8Q16sPGYa7zxGTxA9Z1AKPaTl8zwLiwQ93tigPIPFvjww/6o8mgWyPMKLuTwztas8Mw+rPG9eojyesbw8prC5PBUm7Tzp6sM81UHLPCu0ozwko8k8kxp0PLRQlzyUlKk8pXOgPTWhnz3k0689GL9cPeWFHz2aZQo9kufoPNTlzzwxmq08iHvUPF+6LD15bwU9qSrsPL1R7DzEqLM87l29PJ2moTzSgqk8h1WtPDBduzzNnao8lxDBPJSIuzwB18I8V5bePBlMwjyRA9M8lyiqPNDdzjzkt4g8OSKRPFudpTzFe5E9HcyHPTOikD0eakk9uEwXPeS9Bz3F4f489JEEPU0T0Dwll/s8xJQWPTs5Gj38aP88hez+PLQSnzz2GMQ84bC0PJg+xDwvYcM8dUyoPMEaszwMXrk8QBbJPLBFxDzNmeA8MgHPPEj72DyKQcE8FnTZPCbJmjyr3qA8VTuzPOKObT2Z6Xs9L82GPcRffD2GgiM9M8f9PKzszTzEk9M8ULCoPH3p0TyHex09BJUBPUgpDT3Avgw9x3CyPP6YvTxFzMk8T0/MPGAfujy4xtA8jBbMPCMexDz92so8CRfVPB+H5zzfY908Ly3/PHH62DyJ/+s8+bmUPAdCqDzQAr88pANyPcYFgz1UhYY9jlREPax6AT1RaOc8VvnSPBlC3jy1/7g8QmrdPKvgLD22DB897nQPPYxh5zy6ta48t8nKPEFotjxDpsM8bue5PPsrqDxrJMw8cW7BPKBt6Dzml8w8zs4CPTGu+jx0GAE90KPlPCXv+DwuwaY8PNGoPDse1DwPXZ89oA2FPSFKjj3MwkA9LWMYPedj/jw98fc8VrzXPHv9qjzByeI8n7IIPbqmFD02gu08RT/4PCznuDx5uPc8tYO4PCE3yzxz0OI8UCazPDd5ujywq7A84vzLPMtpqzybXek81Qi1PDFmyjyXOrU8esLkPNhSoDxth9Q8IRPiPMFjoD0hqZY9ym2fPd0iXz0ZVxk9HpIGPWtKyjxJ17Y8a26iPEtU1zyhAe08vWLnPLfX5jzAUf48tlqQPH82wTySqa88JfqwPOwDtzwc/7E8pQa4PAAcyDyghNQ8fo3PPKb/Aj2JJOg8Ws31PCtcyDy5pPY8fmSoPPPDqTyNA788RT+SPe4vij0Pk449U7hHPZcsJT26kAw9VjHlPK+w3Dyao6A8c0bhPAR6+DzaFgs9jQLwPBwZ1jwomIw8mSHJPIGvoTyZlrk8xuXTPF+9lzwZsrY8Fsu7POPM5Dz7Z8k8eFkBPdBWzzxxP/E8zazQPGZxBD3GqcE8CrPDPH7x6DzYHqM9NtWVPQgPoD2SqlM9GiMgPc1zFD0EvPk84WbpPF7UrjyFQM08ag8CPW349zwP8eM8qBrfPOw4mzx6QK884uCjPJk6pjxPXqo8CNG4PGnltzxjpLE8aPnLPPva0TyreOY8bbHGPD3a3DxVkM48EBDgPEMPrTyUJr085hjLPIc6hD2/HIw9kMWVPbOSbT1SKzI9tv0hPXmi9jyLiPk878a8POFv7jx7Fho9OikBPR6d/DwNU/U8JCujPLf+vzxjrJ08de+0PEk5vzxZHbU8fLe0PChmwTyL88c8aDvJPCnF6jxK+MQ8gjXdPNB5sjy81NY8D+uPPFK6nDwP9Ks802OFPVwtbz3gSYY9s7ZbPZ3MKD1+axo9dbgFPZ52BT3KCdM8dHcFPWb0FT3//g89Z7kDPe5v9TzcSKI8hSmxPJFitzxv2L88oFm8PHqrtDzXrro8/ozDPJe3zTxbBNM8RTroPJ0q0jzbT908uz/HPGUw1TxbNJA8ivmlPI3zsjy5u5I9e7N7PUGEiT0uyGY9GIQtPdndEj2cQdc8h5XMPNqDnjy6stc878MJPYGK9Tzg6wY9wTUNPcgcqjzzuOI86CHIPJpDxzwo/8I81DnDPPinzDw8xr88HV+6PL6HyTyiuPA8IYjKPMiu4Dy21a88VzPcPO2xkDzjgsQ83erNPNp1oD09T6E9cNSwPbspcj3CjiI9ftALPaxc3zzSu9c8NtOePCAg2zyuiAA9Z0TyPGNF6Twdpu88s2ZzPJKLvzzzlpY8WPGxPODovjxiOZQ80k24PHG/qTy3SsM8quXJPKZd8DwLqro8h2LjPBhOsDyPgu88NJSTPP4DqTygQMg8Qje1PZOXqT1KxbI9lgFsPerJKT1a3xo95iwQPRwzBT3qQr08Ioz4PCyOBD1C5QU9K6PvPH3T8zwPBoY8lKy1PENpjzwi+Z48QaqePDulhzyakZk8Y2uXPG51pjwS8q08cRPHPAHnpTxgWbs87zWhPK3owTyA/Yw8ph6gPJsVsTxroZw9AV2YPXUSoD0j5oA9L2s+PfiqKD2u4QU9FSMDPY0/qDzZhgc94Pz/PDjJCT2Is/48RjDyPCubcTzMvMg8H0aJPK/apTyYL7U8QpaFPEYPoTzGhaI8r1O1PEO3qzwjvN88o6ekPH+k0zxky6g8/Z7jPN34hjx+KZY8pYe6PMRznD3gvo49HS2UPW/hdT3RZC09CfAEPXi8CD3vCu48zsCpPEYQ8zw2JRg96KcJPc4f9jycf+I8g2OKPFiT4jxRfaM8x1S2PFDfzDxW5Jc8g/HIPJsRrTxz8808vM+1PCmr+Dz5Pa88dK7OPG78tjzjY9o8njeKPIGOjTwXdbQ84jKgPYuwjz26c5E95FxLPQRYOT2sfCA9UfgPPSQ32zzNkbc8R+blPGoh8jytQwI9PSnqPKNoBT1Rvps8VWrEPIUFrzzNG7c847/FPNZFpjx/daA8f6CqPJYswTyxYLw8g2jjPGX6sjyEnM88x862PJrS3DxOW6E8rnLIPGGbzTxvNJ49PheOPTuelz0sDlo9YKspPcCbBT0W0PA8eC3HPGi1ozw6LMw8wtn0PNkp6DyAlus8m+X3PD2tizzVXMQ8D1K6PO+Avjy2W9E8c5SePBjEuzx0br08MrTYPEbX3jzN1AA9GXLEPP625DyzwsY8ZenvPEFBqTztCbc8xfnJPIJNkz3dmoc9zBGNPb7SMz0ALRk9YW4GPd189zwcsOw8jFHVPK/B9jwHlws9g0ARPYoWDD01SAk9oQOPPCpxtzxaNr08VpnEPP/+yjx22ak8Hyu0PMeovTyLtNA8FmTNPHYu+zxQgcc8cKLjPEQfxzx29988pvWXPDWNtTzUmLw8//txPdtSWz1qSWw9zmc7PQJQDz17f/w8+l3jPJpG7zzkidY8iVoGPQIvGz1d4xI9Z8wNPcrnCT0g9qk8OGa2PHXEyDxFC888dtDPPHv+vDxPJsA84NrTPFmH3TxSSe48P1UGPU8y+TzzgQE9zYDZPK4M6DzHHac8NICpPLaWuTz2PJk9ko6APXSLhj3dBD89p18dPWczBj0dqPM8YRnTPOFYzTyy8PU8CpETPZO8BT3mxgQ9zqb8PH4EtTxyxqE8VfisPJEztTxhpa48CALLPLUXrzw3QdQ8CQ3EPMyW8Dy7cO88mwPcPN188TyEe848EYDcPELUsDwMO7k8PgK6PENNlT0G/5M956+UPfMHST2YCBc9aKT8PErzwTxZmtU8m9mwPJxx6TzdhvA80pv7PEDmAj0GUf08UkmIPL8bpDwKjbE86rTKPBXIuDy7LJk8yVi1PKAcvzzIG8s8lkzUPJco+Dxg1fM8gwcIPYr+3jwCrwE9J4axPIhFvDzUgc888wqPPYdwez0TWYE9FjtHPRUWJz1edAQ9YgLWPHPNxDy+B5Y8Y7fNPDe09TzAufc8eG3qPNX+Aj0wGqE829LNPNXstjwa7sk8cSXOPEywwTwn1M48zkbbPLx14Dz/8ek8wr0GPcJ9zzxTEQM96MfHPJYFBz2ena48KAXMPJ3p3TxsOpY9/K2KPaIcmj27Ulc9/VUpPSJUFT0todI8p2rWPEP6qzwwCQk95KgOPW26FT33hQM9SdMKPZ+UkDzzb888BN7FPHmhyTx1N8s8of6lPExpsjzTg7E8RV23PDKkwzzqN+c8Wc2yPMGP1TzyXpw8m5LQPFoHfjx43b48CVDBPHIrYT3PiFc9LAJwPTXbTj2LUxU96RMVPZ0WBT1scwY9CYu2PGouAD043TE99AcYPdcM9jxxGeY8VZqtPNGo4jzOkME8FMTBPCCNuzxHtbU8KmjPPKnKzjz/u948kK/iPHmv+Ty8HMs8VxvtPNDMwzxVWu08ZyKnPOiFxDxH8co8EQmGPfJ6bD210X49p2BPPX0TRD0+sRE93gT/PMyy4zxtHLk87BLoPN9sAz15Hfk8LIzePO+pCj0Sf7k8N0/aPOiz3Tx59+M8Q3vuPEUzxTxkIcc8iqXCPHK9yDxLGNM830bmPHEWwDwHP9A8eIi8PFRP1TyUa6I8rru5PBvZuzx4WGY9yHJePU4caD1jv0w9Kb4tPXBMJT1Ka/E8cQYPPcr7zjy8gvg8AmshPUTyED3cSwY9K4j+PIF7mjzdVd08z365PH6I1DwIrNk802KhPIq3ujxiSbo8JzvUPOFCwjxQouk8i1LLPAUS8jwONsc8GIr+POpkojxp2rc8Fl/MPLGehT3YXFs9MtdtPfRtPj1yyxU9lMMMPSeF7jwZBdY81hSjPMQB1zyCVg09hl78PIxTAD3SlQ49TS66PJ3LxjwF68k8hMTMPMRrvzyBhs48k3PLPAAU2TzHrtg8wJ3tPMapBD3pmOM8/5wDPYP02jxZXP48fqCtPF+LxDwFkdE8KwWZPQtLhj2k9pI9MTxVPUJeJj2VDw89F/zLPGcV1zwMTaA8ZM4CPV2TAD3WFQ89HCgDPQ/IAz1YIYI8pWrdPBI4tzwSLcc86vLRPKv9nzzVhr08aVHEPKYyyDz7usw8urHxPBcBxzxDR+g85XawPM1R5zzQ/4Y86xe5PILgyzxhMm49F/2BPffBkD1UPlI94RQXPZmwFj1I1dM8DCf9PLcRoDzKyuA8S4EDPbjMAD15/P0861L1PBoMeDzLbNI8hs+uPCorxzx1bss8PpubPNoo0Dxfbcc8c/HxPHVSzzzWKwc9dyvLPBElBD1tYMk8WGMJPe9FpTyYbsY87NjcPM+bhj3MeX89ioyLPVuOZD0rjCg9UD0TPS4e+Twq5ws9QZ22POX66jwhCQs9mk8PPVc8+jwQzAQ9bWuMPO7ayDypmqw8PtzPPHi50Dy1o5g8adDGPEqPwjzFQNY85zzBPJF33jwL18M8tCLgPAGsyzy+bPE8fpSVPOtzoTyAJro8AwJuPXyoZz1pr3U9vShBPdZTCD2oN+88N5TEPEcu6zwgjrw8ZIb2PHeU9jz4mBE9Y+4APXce9jxTpJk8IfbJPLEstzzUEMk8CPfaPMs0vjwhBdg8lg3TPMcBBD0GMfM8x74LPRiR5zwzXAM9c7rYPBkJBT3Ve8A8InjHPOOv3jxrcE49njNCPVQZUD1Fbxs9StwLPUg0Dj18A908SksAPSus6DyjrTM9C1gbPSpmPj07aRk9yv8KPai3wjxaM+48sqPQPA/a3TwMkts8KZfBPOzNwTzxssM8ayy9PFOtwzw7L+48Z+vTPCEu4TxGt7w8nf3bPAY5qjwI2OE8TZrePGtwTj2eM0I9VBlQPUVvGz1K3As9SDQOPXwD3TxKSwA9K6zoPKOtMz0LWBs9KmY+PTtpGT3K/wo9qLfCPFoz7jyyo9A8D9rdPAyS2zwpl8E87M3BPPGywzxrLL08U63DPDsv7jxn69M8IS7hPEa3vDyd/ds8BjmqPAjY4TxNmt48\",\"dtype\":\"float32\",\"shape\":[39,32]}]},\"selected\":{\"id\":\"5ea6af49-82f2-4665-b192-f5ab64a238c6\",\"type\":\"Selection\"},\"selection_policy\":{\"id\":\"7d155a0b-d538-4a80-82d4-bea945a3d564\",\"type\":\"UnionRenderers\"}},\"id\":\"9f911cec-30c3-4ea4-bc00-75c2ddd1d53d\",\"type\":\"ColumnDataSource\"},{\"attributes\":{\"palette\":[\"#000000\",\"#252525\",\"#525252\",\"#737373\",\"#969696\",\"#bdbdbd\",\"#d9d9d9\",\"#f0f0f0\",\"#ffffff\"]},\"id\":\"263eebc9-2ae0-4bbb-8e2f-a2152c9e9168\",\"type\":\"LinearColorMapper\"},{\"attributes\":{\"callback\":null,\"end\":32},\"id\":\"f7df54d1-65ff-41b9-bc00-1d455b9b8c84\",\"type\":\"Range1d\"},{\"attributes\":{},\"id\":\"0d04bd39-3c3f-4766-b457-d18c288b2880\",\"type\":\"BasicTickFormatter\"},{\"attributes\":{\"color_mapper\":{\"id\":\"52408def-b129-4887-81c8-15cd0d8899f2\",\"type\":\"LinearColorMapper\"},\"dh\":{\"units\":\"data\",\"value\":39},\"dw\":{\"units\":\"data\",\"value\":32},\"image\":{\"field\":\"image\"},\"x\":{\"value\":0},\"y\":{\"value\":0}},\"id\":\"a8b46e0e-bc73-44df-ad26-d16afa4c3f45\",\"type\":\"Image\"},{\"attributes\":{\"plot\":null,\"text\":\"\"},\"id\":\"18d2d7bf-257d-46fe-b1f4-e80b010237ef\",\"type\":\"Title\"},{\"attributes\":{\"palette\":[\"#000000\",\"#252525\",\"#525252\",\"#737373\",\"#969696\",\"#bdbdbd\",\"#d9d9d9\",\"#f0f0f0\",\"#ffffff\"]},\"id\":\"52408def-b129-4887-81c8-15cd0d8899f2\",\"type\":\"LinearColorMapper\"}],\"root_ids\":[\"e5b31d10-3b7b-4202-84d7-efb7d24d48b2\"]},\"title\":\"Bokeh Application\",\"version\":\"0.13.0\"}};\n",
       "  var render_items = [{\"docid\":\"12999273-155b-4f17-9688-107401cae877\",\"roots\":{\"e5b31d10-3b7b-4202-84d7-efb7d24d48b2\":\"df2e3e2a-ca08-4f0d-ac00-a300c286700c\"}}];\n",
       "  root.Bokeh.embed.embed_items_notebook(docs_json, render_items);\n",
       "\n",
       "  }\n",
       "  if (root.Bokeh !== undefined) {\n",
       "    embed_document(root);\n",
       "  } else {\n",
       "    var attempts = 0;\n",
       "    var timer = setInterval(function(root) {\n",
       "      if (root.Bokeh !== undefined) {\n",
       "        embed_document(root);\n",
       "        clearInterval(timer);\n",
       "      }\n",
       "      attempts++;\n",
       "      if (attempts > 100) {\n",
       "        console.log(\"Bokeh: ERROR: Unable to run BokehJS code because BokehJS library is missing\")\n",
       "        clearInterval(timer);\n",
       "      }\n",
       "    }, 10, root)\n",
       "  }\n",
       "})(window);"
      ],
      "application/vnd.bokehjs_exec.v0+json": ""
     },
     "metadata": {
      "application/vnd.bokehjs_exec.v0+json": {
       "id": "e5b31d10-3b7b-4202-84d7-efb7d24d48b2"
      }
     },
     "output_type": "display_data"
    },
    {
     "data": {
      "text/html": [
       "\n",
       "\n",
       "\n",
       "\n",
       "\n",
       "\n",
       "  <div class=\"bk-root\" id=\"bb0c5ed3-1c6c-42a7-881e-a0295a014e7c\"></div>\n"
      ]
     },
     "metadata": {},
     "output_type": "display_data"
    },
    {
     "data": {
      "application/javascript": [
       "(function(root) {\n",
       "  function embed_document(root) {\n",
       "    \n",
       "  var docs_json = {\"091e19c1-fdbe-40e3-92c9-dde580d7ffb0\":{\"roots\":{\"references\":[{\"attributes\":{\"axis_label\":\"source tokens\",\"formatter\":{\"id\":\"26f0005a-13fb-41e4-aa3d-52be557fb924\",\"type\":\"BasicTickFormatter\"},\"major_label_orientation\":45,\"major_label_overrides\":{\"0.5\":\"_BOS_\",\"1.5\":\"\\u0430\\u043f\\u0430\\u0440\\u0442\\u0430\\u043c\\u0435\\u043d\\u0442\\u044b\",\"10.5\":\"square\",\"11.5\":\"\\u043d\\u0430\\u0445\\u043e\\u0434\\u044f\\u0442\\u0441\\u044f\",\"12.5\":\"\\u0432\",\"13.5\":\"\\u043c\\u043e\\u0441\\u043a\\u0432\\u0435\",\"14.5\":\",\",\"15.5\":\"\\u0432\",\"16.5\":\"200\",\"17.5\":\"\\u043c\\u0435\\u0442\\u0440\\u0430\\u0445\",\"18.5\":\"\\u043e\\u0442\",\"19.5\":\"\\u0431\\u043e\\u043b\\u044c\\u0448\\u043e\\u0433\\u043e\",\"2.5\":\"mo@@\",\"20.5\":\"\\u0442\\u0435\\u0430\\u0442\\u0440\\u0430\",\"21.5\":\".\",\"22.5\":\"_EOS_\",\"3.5\":\"s@@\",\"4.5\":\"co@@\",\"5.5\":\"w\",\"6.5\":\"point\",\"7.5\":\"-\",\"8.5\":\"loft\",\"9.5\":\"red\"},\"plot\":{\"id\":\"d20e1ef0-1f2d-4bde-a390-67bea5c50a7d\",\"subtype\":\"Figure\",\"type\":\"Plot\"},\"ticker\":{\"id\":\"ebce9287-4fd0-4c1f-9eb6-9e6c1e6d251a\",\"type\":\"FixedTicker\"}},\"id\":\"973dd425-66cd-4478-b06f-cd10134be8c5\",\"type\":\"LinearAxis\"},{\"attributes\":{\"color_mapper\":{\"id\":\"db0109e9-10bd-4b47-a00a-2ad05f8dc94b\",\"type\":\"LinearColorMapper\"},\"dh\":{\"units\":\"data\",\"value\":24},\"dw\":{\"units\":\"data\",\"value\":23},\"image\":{\"field\":\"image\"},\"x\":{\"value\":0},\"y\":{\"value\":0}},\"id\":\"2a3398c9-9fb9-46a6-8b32-f1d08a022de5\",\"type\":\"Image\"},{\"attributes\":{\"ticks\":[0.5,1.5,2.5,3.5,4.5,5.5,6.5,7.5,8.5,9.5,10.5,11.5,12.5,13.5,14.5,15.5,16.5,17.5,18.5,19.5,20.5,21.5,22.5,23.5]},\"id\":\"59f079fa-53eb-4c60-9523-9891f78be5ac\",\"type\":\"FixedTicker\"},{\"attributes\":{},\"id\":\"c7ef6be4-9daf-4943-8ab5-3f7b341b9aa8\",\"type\":\"Selection\"},{\"attributes\":{},\"id\":\"18287fc7-8a55-45b5-9e9e-c0bc092fc7d0\",\"type\":\"LinearScale\"},{\"attributes\":{\"color_mapper\":{\"id\":\"673bc93c-3774-411c-a3c6-a30c90d95c67\",\"type\":\"LinearColorMapper\"},\"dh\":{\"units\":\"data\",\"value\":24},\"dw\":{\"units\":\"data\",\"value\":23},\"image\":{\"field\":\"image\"},\"x\":{\"value\":0},\"y\":{\"value\":0}},\"id\":\"5cb025ae-1710-4395-a3a6-40e465dc3e76\",\"type\":\"Image\"},{\"attributes\":{\"ticks\":[0.5,1.5,2.5,3.5,4.5,5.5,6.5,7.5,8.5,9.5,10.5,11.5,12.5,13.5,14.5,15.5,16.5,17.5,18.5,19.5,20.5,21.5,22.5]},\"id\":\"ebce9287-4fd0-4c1f-9eb6-9e6c1e6d251a\",\"type\":\"FixedTicker\"},{\"attributes\":{\"plot\":null,\"text\":\"\"},\"id\":\"c184a18e-1c36-4274-adb1-75fac8c3db6d\",\"type\":\"Title\"},{\"attributes\":{},\"id\":\"26f0005a-13fb-41e4-aa3d-52be557fb924\",\"type\":\"BasicTickFormatter\"},{\"attributes\":{\"palette\":[\"#000000\",\"#252525\",\"#525252\",\"#737373\",\"#969696\",\"#bdbdbd\",\"#d9d9d9\",\"#f0f0f0\",\"#ffffff\"]},\"id\":\"673bc93c-3774-411c-a3c6-a30c90d95c67\",\"type\":\"LinearColorMapper\"},{\"attributes\":{\"callback\":null,\"end\":24},\"id\":\"194a7652-483f-46ca-bada-cee7c38f9164\",\"type\":\"Range1d\"},{\"attributes\":{\"active_drag\":\"auto\",\"active_inspect\":\"auto\",\"active_multi\":null,\"active_scroll\":\"auto\",\"active_tap\":\"auto\"},\"id\":\"7be2b09f-4fb6-40bd-96e5-0e66ec97ac6c\",\"type\":\"Toolbar\"},{\"attributes\":{},\"id\":\"ce918b27-215b-4882-8137-02c3ae798d96\",\"type\":\"UnionRenderers\"},{\"attributes\":{\"source\":{\"id\":\"c8b05440-7450-40e6-a453-878b2517142c\",\"type\":\"ColumnDataSource\"}},\"id\":\"eb2b5181-6306-4908-9e58-b56f196afcb6\",\"type\":\"CDSView\"},{\"attributes\":{},\"id\":\"de1594ba-a3ce-49dc-b9db-346ee1524281\",\"type\":\"LinearScale\"},{\"attributes\":{\"callback\":null,\"end\":23},\"id\":\"e4e26858-ff3c-409b-ba5b-76ad1964d50e\",\"type\":\"Range1d\"},{\"attributes\":{\"axis_label\":\"translation tokens\",\"formatter\":{\"id\":\"bf800231-3d7f-4f1b-928f-84f68c960e8a\",\"type\":\"BasicTickFormatter\"},\"major_label_overrides\":{\"0.5\":\"_EOS_\",\"1.5\":\".\",\"10.5\":\"iya\",\"11.5\":\"stan@@\",\"12.5\":\"vos@@\",\"13.5\":\"ploshchad\",\"14.5\":\"from\",\"15.5\":\"walk\",\"16.5\":\"minute\",\"17.5\":\"-\",\"18.5\":\"20\",\"19.5\":\"a\",\"2.5\":\"property\",\"20.5\":\"is\",\"21.5\":\"apartment\",\"22.5\":\"the\",\"23.5\":\"_BOS_\",\"3.5\":\"the\",\"4.5\":\"from\",\"5.5\":\"metres\",\"6.5\":\"650\",\"7.5\":\"and\",\"8.5\":\"station\",\"9.5\":\"metro\"},\"plot\":{\"id\":\"d20e1ef0-1f2d-4bde-a390-67bea5c50a7d\",\"subtype\":\"Figure\",\"type\":\"Plot\"},\"ticker\":{\"id\":\"59f079fa-53eb-4c60-9523-9891f78be5ac\",\"type\":\"FixedTicker\"}},\"id\":\"eaf56a3f-1c14-425b-88ed-9131a9b7fc81\",\"type\":\"LinearAxis\"},{\"attributes\":{\"above\":[{\"id\":\"973dd425-66cd-4478-b06f-cd10134be8c5\",\"type\":\"LinearAxis\"}],\"left\":[{\"id\":\"eaf56a3f-1c14-425b-88ed-9131a9b7fc81\",\"type\":\"LinearAxis\"}],\"renderers\":[{\"id\":\"d669fc94-c691-497d-add5-fbd7e66d04a3\",\"type\":\"GlyphRenderer\"},{\"id\":\"973dd425-66cd-4478-b06f-cd10134be8c5\",\"type\":\"LinearAxis\"},{\"id\":\"eaf56a3f-1c14-425b-88ed-9131a9b7fc81\",\"type\":\"LinearAxis\"}],\"title\":{\"id\":\"c184a18e-1c36-4274-adb1-75fac8c3db6d\",\"type\":\"Title\"},\"toolbar\":{\"id\":\"7be2b09f-4fb6-40bd-96e5-0e66ec97ac6c\",\"type\":\"Toolbar\"},\"x_range\":{\"id\":\"e4e26858-ff3c-409b-ba5b-76ad1964d50e\",\"type\":\"Range1d\"},\"x_scale\":{\"id\":\"18287fc7-8a55-45b5-9e9e-c0bc092fc7d0\",\"type\":\"LinearScale\"},\"y_range\":{\"id\":\"194a7652-483f-46ca-bada-cee7c38f9164\",\"type\":\"Range1d\"},\"y_scale\":{\"id\":\"de1594ba-a3ce-49dc-b9db-346ee1524281\",\"type\":\"LinearScale\"}},\"id\":\"d20e1ef0-1f2d-4bde-a390-67bea5c50a7d\",\"subtype\":\"Figure\",\"type\":\"Plot\"},{\"attributes\":{\"palette\":[\"#000000\",\"#252525\",\"#525252\",\"#737373\",\"#969696\",\"#bdbdbd\",\"#d9d9d9\",\"#f0f0f0\",\"#ffffff\"]},\"id\":\"db0109e9-10bd-4b47-a00a-2ad05f8dc94b\",\"type\":\"LinearColorMapper\"},{\"attributes\":{\"callback\":null,\"data\":{\"image\":[{\"__ndarray__\":\"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\",\"dtype\":\"float32\",\"shape\":[24,23]}]},\"selected\":{\"id\":\"c7ef6be4-9daf-4943-8ab5-3f7b341b9aa8\",\"type\":\"Selection\"},\"selection_policy\":{\"id\":\"ce918b27-215b-4882-8137-02c3ae798d96\",\"type\":\"UnionRenderers\"}},\"id\":\"c8b05440-7450-40e6-a453-878b2517142c\",\"type\":\"ColumnDataSource\"},{\"attributes\":{},\"id\":\"bf800231-3d7f-4f1b-928f-84f68c960e8a\",\"type\":\"BasicTickFormatter\"},{\"attributes\":{\"data_source\":{\"id\":\"c8b05440-7450-40e6-a453-878b2517142c\",\"type\":\"ColumnDataSource\"},\"glyph\":{\"id\":\"2a3398c9-9fb9-46a6-8b32-f1d08a022de5\",\"type\":\"Image\"},\"hover_glyph\":null,\"muted_glyph\":null,\"nonselection_glyph\":{\"id\":\"5cb025ae-1710-4395-a3a6-40e465dc3e76\",\"type\":\"Image\"},\"selection_glyph\":null,\"view\":{\"id\":\"eb2b5181-6306-4908-9e58-b56f196afcb6\",\"type\":\"CDSView\"}},\"id\":\"d669fc94-c691-497d-add5-fbd7e66d04a3\",\"type\":\"GlyphRenderer\"}],\"root_ids\":[\"d20e1ef0-1f2d-4bde-a390-67bea5c50a7d\"]},\"title\":\"Bokeh Application\",\"version\":\"0.13.0\"}};\n",
       "  var render_items = [{\"docid\":\"091e19c1-fdbe-40e3-92c9-dde580d7ffb0\",\"roots\":{\"d20e1ef0-1f2d-4bde-a390-67bea5c50a7d\":\"bb0c5ed3-1c6c-42a7-881e-a0295a014e7c\"}}];\n",
       "  root.Bokeh.embed.embed_items_notebook(docs_json, render_items);\n",
       "\n",
       "  }\n",
       "  if (root.Bokeh !== undefined) {\n",
       "    embed_document(root);\n",
       "  } else {\n",
       "    var attempts = 0;\n",
       "    var timer = setInterval(function(root) {\n",
       "      if (root.Bokeh !== undefined) {\n",
       "        embed_document(root);\n",
       "        clearInterval(timer);\n",
       "      }\n",
       "      attempts++;\n",
       "      if (attempts > 100) {\n",
       "        console.log(\"Bokeh: ERROR: Unable to run BokehJS code because BokehJS library is missing\")\n",
       "        clearInterval(timer);\n",
       "      }\n",
       "    }, 10, root)\n",
       "  }\n",
       "})(window);"
      ],
      "application/vnd.bokehjs_exec.v0+json": ""
     },
     "metadata": {
      "application/vnd.bokehjs_exec.v0+json": {
       "id": "d20e1ef0-1f2d-4bde-a390-67bea5c50a7d"
      }
     },
     "output_type": "display_data"
    }
   ],
   "source": [
    "for i in range(5):\n",
    "    draw_attention(inp[i], trans[i], attention_probs[i])"
   ]
  },
  {
   "cell_type": "markdown",
   "metadata": {},
   "source": [
    "## Grand Finale (4+ points)\n",
    "\n",
    "We want you to find the best model for the task. Use everything you know.\n",
    "\n",
    "* different recurrent units: rnn/gru/lstm; deeper architectures\n",
    "* bidirectional encoder, different attention methods for decoder\n",
    "* word dropout, training schedules, anything you can imagine\n",
    "\n",
    "As usual, we want you to describe what you tried and what results you obtained."
   ]
  },
  {
   "cell_type": "markdown",
   "metadata": {},
   "source": [
    "`[your report/log here or anywhere you please]`"
   ]
  },
  {
   "cell_type": "code",
   "execution_count": null,
   "metadata": {},
   "outputs": [],
   "source": []
  }
 ],
 "metadata": {
  "kernelspec": {
   "display_name": "Python 3",
   "language": "python",
   "name": "python3"
  },
  "language_info": {
   "codemirror_mode": {
    "name": "ipython",
    "version": 3
   },
   "file_extension": ".py",
   "mimetype": "text/x-python",
   "name": "python",
   "nbconvert_exporter": "python",
   "pygments_lexer": "ipython3",
   "version": "3.6.3"
  }
 },
 "nbformat": 4,
 "nbformat_minor": 2
}
